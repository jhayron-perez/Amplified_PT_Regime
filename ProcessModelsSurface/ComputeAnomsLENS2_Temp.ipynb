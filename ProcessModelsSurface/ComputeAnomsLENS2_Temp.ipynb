{
 "cells": [
  {
   "cell_type": "code",
   "execution_count": 1,
   "id": "7002f724-5bb7-42da-bda2-5542a25ce97d",
   "metadata": {},
   "outputs": [],
   "source": [
    "import numpy as np\n",
    "import pandas as pd\n",
    "import xarray as xr\n",
    "import glob\n",
    "import matplotlib.pyplot as plt"
   ]
  },
  {
   "cell_type": "markdown",
   "id": "552e9db9-adf8-4e2c-9df3-4ccb45f1517b",
   "metadata": {},
   "source": [
    "# functions"
   ]
  },
  {
   "cell_type": "code",
   "execution_count": 2,
   "id": "e010c67c-86b5-4d70-a0d5-070347cbc5c8",
   "metadata": {},
   "outputs": [],
   "source": [
    "def extractz500_several_files(filestemp):\n",
    "    listxarrays = []\n",
    "    for file in filestemp:\n",
    "        dstemp = xr.open_dataset(file)\n",
    "        dstemp = dstemp.sel(time=slice('1994-01-01', '2100-12-31'))\n",
    "        dstemp = dstemp.TREFHTMX.where((dstemp.lat>=10),drop=True)\n",
    "        # Transpose the data to match the desired dimension order\n",
    "        dstemp_transposed = dstemp.transpose('time', 'lat', 'lon')\n",
    "        lat0=20; lat1=80; lon0=180; lon1=330\n",
    "        dstemp_transposed = dstemp_transposed.where((dstemp_transposed.lat>=lat0)&(dstemp_transposed.lat<=lat1)&\\\n",
    "                               (dstemp_transposed.lon>=lon0)&(dstemp_transposed.lon<=lon1),drop=True)\n",
    "        \n",
    "        # Recreate the DataArray with the coordinates in the desired order\n",
    "        dstemp_reordered = xr.DataArray(\n",
    "            dstemp_transposed.values,\n",
    "            dims=['time', 'lat', 'lon'],\n",
    "            coords={\n",
    "                'time': dstemp_transposed.coords['time'],\n",
    "                'lat': dstemp_transposed.coords['lat'],\n",
    "                'lon': dstemp_transposed.coords['lon']\n",
    "            },\n",
    "            attrs=dstemp.attrs,\n",
    "            name=dstemp.name\n",
    "        )\n",
    "        listxarrays.append(dstemp_reordered)\n",
    "    xarrayfull = xr.concat(listxarrays, dim='time')\n",
    "    xarrayfull = xarrayfull.drop_duplicates('time',keep='first')\n",
    "    cftime_index = xr.coding.cftimeindex.CFTimeIndex(xarrayfull['time'].values)\n",
    "    datetime_index = cftime_index.to_datetimeindex()\n",
    "    xarrayfull.coords['time'] = datetime_index\n",
    "    return xarrayfull.to_dataset()"
   ]
  },
  {
   "cell_type": "code",
   "execution_count": 3,
   "id": "55e396c2-432a-4dec-a149-376a2bf15017",
   "metadata": {
    "scrolled": true
   },
   "outputs": [],
   "source": [
    "def compute_anomalies(dataset,namevar):\n",
    "    climatology = (\n",
    "        dataset[namevar].groupby('time.dayofyear')\n",
    "        .mean(dim='time')\n",
    "        .rename({'dayofyear': 'day'})\n",
    "    )\n",
    "    climatology_padded = xr.concat([climatology[-30:], climatology, climatology[:30]], dim='day')\n",
    "    climatology_smoothed = climatology_padded.rolling(day=60, center=True).mean()\n",
    "    climatology_smoothed = climatology_smoothed.isel(day=slice(30, -30))\n",
    "    \n",
    "    climatology_expanded = xr.DataArray(\n",
    "        climatology_smoothed.sel(day=dataset[namevar]['time.dayofyear']),\n",
    "        dims=[\"time\", \"lat\", \"lon\"],\n",
    "        coords={\"time\": dataset[namevar]['time'], \"lat\": dataset[namevar]['lat'], \"lon\": dataset[namevar]['lon']}\n",
    "    )\n",
    "    \n",
    "    anomalies = dataset[namevar] - climatology_expanded\n",
    "    \n",
    "    climatology_std = (\n",
    "        dataset[namevar].groupby('time.dayofyear')\n",
    "        .std(dim='time')\n",
    "        .rename({'dayofyear': 'day'})\n",
    "    )\n",
    "    \n",
    "    climatology_std_padded = xr.concat([climatology_std[-30:], climatology_std, climatology_std[:30]], dim='day')\n",
    "    climatology_std_smoothed = climatology_std_padded.rolling(day=60, center=True).mean()\n",
    "    climatology_std_smoothed = climatology_std_smoothed.isel(day=slice(30, -30))\n",
    "    climatology_std_expanded = xr.DataArray(\n",
    "        climatology_std_smoothed.sel(day=dataset[namevar]['time.dayofyear']),\n",
    "        dims=[\"time\", \"lat\", \"lon\"],\n",
    "        coords={\"time\": dataset[namevar]['time'], \"lat\": dataset[namevar]['lat'], \"lon\": dataset[namevar]['lon']}\n",
    "    )\n",
    "\n",
    "    anomalies_std = anomalies/climatology_std_expanded\n",
    "    return anomalies_std.to_dataset()"
   ]
  },
  {
   "cell_type": "markdown",
   "id": "4b90ceb6-c7fe-4b6b-8cf0-3cf072d7fb37",
   "metadata": {},
   "source": [
    "# compute"
   ]
  },
  {
   "cell_type": "code",
   "execution_count": 4,
   "id": "186c10b6-53e3-4596-89ba-2beb36f3702f",
   "metadata": {},
   "outputs": [],
   "source": [
    "path_temp_files = '/glade/campaign/cgd/cesm/CESM2-LE/timeseries/atm/proc/tseries/day_1/TREFHTMX/'"
   ]
  },
  {
   "cell_type": "code",
   "execution_count": 5,
   "id": "16ea12db-cfce-4980-9d45-4344deec7617",
   "metadata": {},
   "outputs": [],
   "source": [
    "filenames = np.sort(glob.glob(f'{path_temp_files}*'))\n",
    "\n",
    "type_aerosols = []\n",
    "for i in range(len(filenames)):\n",
    "    if 'cmip6' in filenames[i].split('.')[2]:\n",
    "        type_aerosols.append('cmip6')\n",
    "    elif 'smbb' in filenames[i].split('.')[2]:\n",
    "        type_aerosols.append('smbb')"
   ]
  },
  {
   "cell_type": "code",
   "execution_count": 6,
   "id": "be068aa1-42a8-42d5-b2d3-02060a9b0ba4",
   "metadata": {},
   "outputs": [],
   "source": [
    "path_outputs_anoms = '/glade/derecho/scratch/jhayron/Data4WRsClimateChange/LENS2_mon_maxtemp_anoms/'"
   ]
  },
  {
   "cell_type": "code",
   "execution_count": 7,
   "id": "90b7fe9d-17a9-4340-a0e7-75eff0886946",
   "metadata": {},
   "outputs": [],
   "source": [
    "names_experiments_all_0 = np.array(['.'.join(filenames[i].split('.')[4:-5]) for i in range(len(filenames))])\n",
    "names_experiments_all = []\n",
    "for i in range(len(filenames)):\n",
    "    names_experiments_all.append(f'{names_experiments_all_0[i]}_{type_aerosols[i]}')\n",
    "names_experiments_all = np.array(names_experiments_all)\n",
    "unique_names_experiments = np.unique(names_experiments_all)"
   ]
  },
  {
   "cell_type": "code",
   "execution_count": 8,
   "id": "a04efd5d-2288-4f51-92ed-87c61c7e4d8e",
   "metadata": {},
   "outputs": [],
   "source": [
    "# id_experiment = 0\n",
    "# name_experiment = unique_names_experiments[id_experiment]\n",
    "# print(name_experiment)\n",
    "# where_files = np.where(names_experiments_all==name_experiment)[0]\n",
    "# files_temp = filenames[where_files]\n",
    "\n",
    "# dataset_raw = extractz500_several_files(files_temp)\n",
    "# land_mask_file='/glade/campaign/cgd/cesm/CESM2-LE/timeseries/atm/proc/tseries/month_1/LANDFRAC/b.e21.BHISTcmip6.f09_g17.LE2-1001.001.cam.h0.LANDFRAC.185001-185912.nc'\n",
    "# namevar='TREFHTMX'\n",
    "# lsm = xr.open_dataset(land_mask_file).LANDFRAC[0]\n",
    "# lsm = lsm.sel(lat=dataset_raw.lat,lon=dataset_raw.lon)\n",
    "# lsm = lsm.astype(bool)\n",
    "# mask_arr = lsm.data.astype(float)\n",
    "# mask_arr[mask_arr==False]=np.nan\n",
    "# data_arr = dataset_raw[namevar].data\n",
    "# data_arr = data_arr*mask_arr\n",
    "# dataset_raw[namevar].data = data_arr\n",
    "\n",
    "# anoms_std = compute_anomalies(dataset_raw,namevar)\n",
    "# anoms_std.to_netcdf(f'{path_outputs_anoms}anoms_{name_experiment}.nc')"
   ]
  },
  {
   "cell_type": "code",
   "execution_count": 9,
   "id": "0be05eeb-dade-4681-be7f-810c053b0cf8",
   "metadata": {},
   "outputs": [],
   "source": [
    "def process_anoms_and_save(id_experiment):\n",
    "    name_experiment = unique_names_experiments[id_experiment]\n",
    "    print(name_experiment)\n",
    "    where_files = np.where(names_experiments_all==name_experiment)[0]\n",
    "    files_temp = filenames[where_files]\n",
    "    \n",
    "    dataset_raw = extractz500_several_files(files_temp)\n",
    "    land_mask_file='/glade/campaign/cgd/cesm/CESM2-LE/timeseries/atm/proc/tseries/month_1/LANDFRAC/b.e21.BHISTcmip6.f09_g17.LE2-1001.001.cam.h0.LANDFRAC.185001-185912.nc'\n",
    "    namevar='TREFHTMX'\n",
    "    lsm = xr.open_dataset(land_mask_file).LANDFRAC[0]\n",
    "    lsm = lsm.sel(lat=dataset_raw.lat,lon=dataset_raw.lon)\n",
    "    lsm = lsm.astype(bool)\n",
    "    mask_arr = lsm.data.astype(float)\n",
    "    mask_arr[mask_arr==False]=np.nan\n",
    "    data_arr = dataset_raw[namevar].data\n",
    "    data_arr = data_arr*mask_arr\n",
    "    dataset_raw[namevar].data = data_arr\n",
    "    \n",
    "    anoms_std = compute_anomalies(dataset_raw,namevar)\n",
    "    anoms_std.to_netcdf(f'{path_outputs_anoms}anoms_{name_experiment}.nc')"
   ]
  },
  {
   "cell_type": "code",
   "execution_count": 10,
   "id": "8fac75a7-9f32-49af-8de6-a675ed3db769",
   "metadata": {
    "scrolled": true
   },
   "outputs": [
    {
     "name": "stdout",
     "output_type": "stream",
     "text": [
      "LE2-1031.002_smbbLE2-1091.005_smbbLE2-1121.007_cmip6LE2-1061.004_cmip6LE2-1151.008_smbbLE2-1001.001_cmip6LE2-1181.010_cmip6LE2-1231.002_cmip6LE2-1231.008_cmip6LE2-1231.005_cmip6\n",
      "\n",
      "\n",
      "\n",
      "\n",
      "\n",
      "\n",
      "\n",
      "\n",
      "\n"
     ]
    },
    {
     "name": "stderr",
     "output_type": "stream",
     "text": [
      "/glade/derecho/scratch/jhayron/tmp/ipykernel_50342/3053704963.py:29: RuntimeWarning: Converting a CFTimeIndex with dates from a non-standard calendar, 'noleap', to a pandas.DatetimeIndex, which uses dates from the standard calendar.  This may lead to subtle errors in operations that depend on the length of time between dates.\n",
      "  datetime_index = cftime_index.to_datetimeindex()\n",
      "/glade/derecho/scratch/jhayron/tmp/ipykernel_50342/3053704963.py:29: RuntimeWarning: Converting a CFTimeIndex with dates from a non-standard calendar, 'noleap', to a pandas.DatetimeIndex, which uses dates from the standard calendar.  This may lead to subtle errors in operations that depend on the length of time between dates.\n",
      "  datetime_index = cftime_index.to_datetimeindex()\n",
      "/glade/derecho/scratch/jhayron/tmp/ipykernel_50342/3053704963.py:29: RuntimeWarning: Converting a CFTimeIndex with dates from a non-standard calendar, 'noleap', to a pandas.DatetimeIndex, which uses dates from the standard calendar.  This may lead to subtle errors in operations that depend on the length of time between dates.\n",
      "  datetime_index = cftime_index.to_datetimeindex()\n",
      "/glade/derecho/scratch/jhayron/tmp/ipykernel_50342/3053704963.py:29: RuntimeWarning: Converting a CFTimeIndex with dates from a non-standard calendar, 'noleap', to a pandas.DatetimeIndex, which uses dates from the standard calendar.  This may lead to subtle errors in operations that depend on the length of time between dates.\n",
      "  datetime_index = cftime_index.to_datetimeindex()\n",
      "/glade/derecho/scratch/jhayron/tmp/ipykernel_50342/3053704963.py:29: RuntimeWarning: Converting a CFTimeIndex with dates from a non-standard calendar, 'noleap', to a pandas.DatetimeIndex, which uses dates from the standard calendar.  This may lead to subtle errors in operations that depend on the length of time between dates.\n",
      "  datetime_index = cftime_index.to_datetimeindex()\n",
      "/glade/derecho/scratch/jhayron/tmp/ipykernel_50342/3053704963.py:29: RuntimeWarning: Converting a CFTimeIndex with dates from a non-standard calendar, 'noleap', to a pandas.DatetimeIndex, which uses dates from the standard calendar.  This may lead to subtle errors in operations that depend on the length of time between dates.\n",
      "  datetime_index = cftime_index.to_datetimeindex()\n",
      "/glade/derecho/scratch/jhayron/tmp/ipykernel_50342/3053704963.py:29: RuntimeWarning: Converting a CFTimeIndex with dates from a non-standard calendar, 'noleap', to a pandas.DatetimeIndex, which uses dates from the standard calendar.  This may lead to subtle errors in operations that depend on the length of time between dates.\n",
      "  datetime_index = cftime_index.to_datetimeindex()\n",
      "/glade/derecho/scratch/jhayron/tmp/ipykernel_50342/3053704963.py:29: RuntimeWarning: Converting a CFTimeIndex with dates from a non-standard calendar, 'noleap', to a pandas.DatetimeIndex, which uses dates from the standard calendar.  This may lead to subtle errors in operations that depend on the length of time between dates.\n",
      "  datetime_index = cftime_index.to_datetimeindex()\n",
      "/glade/derecho/scratch/jhayron/tmp/ipykernel_50342/3053704963.py:29: RuntimeWarning: Converting a CFTimeIndex with dates from a non-standard calendar, 'noleap', to a pandas.DatetimeIndex, which uses dates from the standard calendar.  This may lead to subtle errors in operations that depend on the length of time between dates.\n",
      "  datetime_index = cftime_index.to_datetimeindex()\n",
      "/glade/derecho/scratch/jhayron/tmp/ipykernel_50342/3053704963.py:29: RuntimeWarning: Converting a CFTimeIndex with dates from a non-standard calendar, 'noleap', to a pandas.DatetimeIndex, which uses dates from the standard calendar.  This may lead to subtle errors in operations that depend on the length of time between dates.\n",
      "  datetime_index = cftime_index.to_datetimeindex()\n"
     ]
    },
    {
     "name": "stdout",
     "output_type": "stream",
     "text": [
      "LE2-1011.001_smbb\n",
      "LE2-1041.003_cmip6\n",
      "LE2-1131.007_smbb\n",
      "LE2-1231.009_cmip6\n",
      "LE2-1231.006_cmip6\n",
      "LE2-1101.006_cmip6\n",
      "LE2-1071.004_smbb\n",
      "LE2-1191.010_smbb\n",
      "LE2-1231.003_cmip6\n",
      "LE2-1161.009_cmip6\n"
     ]
    },
    {
     "name": "stderr",
     "output_type": "stream",
     "text": [
      "/glade/derecho/scratch/jhayron/tmp/ipykernel_50342/3053704963.py:29: RuntimeWarning: Converting a CFTimeIndex with dates from a non-standard calendar, 'noleap', to a pandas.DatetimeIndex, which uses dates from the standard calendar.  This may lead to subtle errors in operations that depend on the length of time between dates.\n",
      "  datetime_index = cftime_index.to_datetimeindex()\n",
      "/glade/derecho/scratch/jhayron/tmp/ipykernel_50342/3053704963.py:29: RuntimeWarning: Converting a CFTimeIndex with dates from a non-standard calendar, 'noleap', to a pandas.DatetimeIndex, which uses dates from the standard calendar.  This may lead to subtle errors in operations that depend on the length of time between dates.\n",
      "  datetime_index = cftime_index.to_datetimeindex()\n",
      "/glade/derecho/scratch/jhayron/tmp/ipykernel_50342/3053704963.py:29: RuntimeWarning: Converting a CFTimeIndex with dates from a non-standard calendar, 'noleap', to a pandas.DatetimeIndex, which uses dates from the standard calendar.  This may lead to subtle errors in operations that depend on the length of time between dates.\n",
      "  datetime_index = cftime_index.to_datetimeindex()\n",
      "/glade/derecho/scratch/jhayron/tmp/ipykernel_50342/3053704963.py:29: RuntimeWarning: Converting a CFTimeIndex with dates from a non-standard calendar, 'noleap', to a pandas.DatetimeIndex, which uses dates from the standard calendar.  This may lead to subtle errors in operations that depend on the length of time between dates.\n",
      "  datetime_index = cftime_index.to_datetimeindex()\n",
      "/glade/derecho/scratch/jhayron/tmp/ipykernel_50342/3053704963.py:29: RuntimeWarning: Converting a CFTimeIndex with dates from a non-standard calendar, 'noleap', to a pandas.DatetimeIndex, which uses dates from the standard calendar.  This may lead to subtle errors in operations that depend on the length of time between dates.\n",
      "  datetime_index = cftime_index.to_datetimeindex()\n",
      "/glade/derecho/scratch/jhayron/tmp/ipykernel_50342/3053704963.py:29: RuntimeWarning: Converting a CFTimeIndex with dates from a non-standard calendar, 'noleap', to a pandas.DatetimeIndex, which uses dates from the standard calendar.  This may lead to subtle errors in operations that depend on the length of time between dates.\n",
      "  datetime_index = cftime_index.to_datetimeindex()\n",
      "/glade/derecho/scratch/jhayron/tmp/ipykernel_50342/3053704963.py:29: RuntimeWarning: Converting a CFTimeIndex with dates from a non-standard calendar, 'noleap', to a pandas.DatetimeIndex, which uses dates from the standard calendar.  This may lead to subtle errors in operations that depend on the length of time between dates.\n",
      "  datetime_index = cftime_index.to_datetimeindex()\n",
      "/glade/derecho/scratch/jhayron/tmp/ipykernel_50342/3053704963.py:29: RuntimeWarning: Converting a CFTimeIndex with dates from a non-standard calendar, 'noleap', to a pandas.DatetimeIndex, which uses dates from the standard calendar.  This may lead to subtle errors in operations that depend on the length of time between dates.\n",
      "  datetime_index = cftime_index.to_datetimeindex()\n",
      "/glade/derecho/scratch/jhayron/tmp/ipykernel_50342/3053704963.py:29: RuntimeWarning: Converting a CFTimeIndex with dates from a non-standard calendar, 'noleap', to a pandas.DatetimeIndex, which uses dates from the standard calendar.  This may lead to subtle errors in operations that depend on the length of time between dates.\n",
      "  datetime_index = cftime_index.to_datetimeindex()\n",
      "/glade/derecho/scratch/jhayron/tmp/ipykernel_50342/3053704963.py:29: RuntimeWarning: Converting a CFTimeIndex with dates from a non-standard calendar, 'noleap', to a pandas.DatetimeIndex, which uses dates from the standard calendar.  This may lead to subtle errors in operations that depend on the length of time between dates.\n",
      "  datetime_index = cftime_index.to_datetimeindex()\n"
     ]
    },
    {
     "name": "stdout",
     "output_type": "stream",
     "text": [
      "LE2-1231.007_cmip6\n",
      "LE2-1021.002_cmip6\n",
      "LE2-1231.001_cmip6\n",
      "LE2-1141.008_cmip6\n",
      "LE2-1081.005_cmip6\n",
      "LE2-1111.006_smbb\n",
      "LE2-1231.004_cmip6\n",
      "LE2-1051.003_smbb\n",
      "LE2-1231.010_cmip6\n",
      "LE2-1171.009_smbb\n"
     ]
    },
    {
     "name": "stderr",
     "output_type": "stream",
     "text": [
      "/glade/derecho/scratch/jhayron/tmp/ipykernel_50342/3053704963.py:29: RuntimeWarning: Converting a CFTimeIndex with dates from a non-standard calendar, 'noleap', to a pandas.DatetimeIndex, which uses dates from the standard calendar.  This may lead to subtle errors in operations that depend on the length of time between dates.\n",
      "  datetime_index = cftime_index.to_datetimeindex()\n",
      "/glade/derecho/scratch/jhayron/tmp/ipykernel_50342/3053704963.py:29: RuntimeWarning: Converting a CFTimeIndex with dates from a non-standard calendar, 'noleap', to a pandas.DatetimeIndex, which uses dates from the standard calendar.  This may lead to subtle errors in operations that depend on the length of time between dates.\n",
      "  datetime_index = cftime_index.to_datetimeindex()\n",
      "/glade/derecho/scratch/jhayron/tmp/ipykernel_50342/3053704963.py:29: RuntimeWarning: Converting a CFTimeIndex with dates from a non-standard calendar, 'noleap', to a pandas.DatetimeIndex, which uses dates from the standard calendar.  This may lead to subtle errors in operations that depend on the length of time between dates.\n",
      "  datetime_index = cftime_index.to_datetimeindex()\n",
      "/glade/derecho/scratch/jhayron/tmp/ipykernel_50342/3053704963.py:29: RuntimeWarning: Converting a CFTimeIndex with dates from a non-standard calendar, 'noleap', to a pandas.DatetimeIndex, which uses dates from the standard calendar.  This may lead to subtle errors in operations that depend on the length of time between dates.\n",
      "  datetime_index = cftime_index.to_datetimeindex()\n",
      "/glade/derecho/scratch/jhayron/tmp/ipykernel_50342/3053704963.py:29: RuntimeWarning: Converting a CFTimeIndex with dates from a non-standard calendar, 'noleap', to a pandas.DatetimeIndex, which uses dates from the standard calendar.  This may lead to subtle errors in operations that depend on the length of time between dates.\n",
      "  datetime_index = cftime_index.to_datetimeindex()\n",
      "/glade/derecho/scratch/jhayron/tmp/ipykernel_50342/3053704963.py:29: RuntimeWarning: Converting a CFTimeIndex with dates from a non-standard calendar, 'noleap', to a pandas.DatetimeIndex, which uses dates from the standard calendar.  This may lead to subtle errors in operations that depend on the length of time between dates.\n",
      "  datetime_index = cftime_index.to_datetimeindex()\n",
      "/glade/derecho/scratch/jhayron/tmp/ipykernel_50342/3053704963.py:29: RuntimeWarning: Converting a CFTimeIndex with dates from a non-standard calendar, 'noleap', to a pandas.DatetimeIndex, which uses dates from the standard calendar.  This may lead to subtle errors in operations that depend on the length of time between dates.\n",
      "  datetime_index = cftime_index.to_datetimeindex()\n",
      "/glade/derecho/scratch/jhayron/tmp/ipykernel_50342/3053704963.py:29: RuntimeWarning: Converting a CFTimeIndex with dates from a non-standard calendar, 'noleap', to a pandas.DatetimeIndex, which uses dates from the standard calendar.  This may lead to subtle errors in operations that depend on the length of time between dates.\n",
      "  datetime_index = cftime_index.to_datetimeindex()\n",
      "/glade/derecho/scratch/jhayron/tmp/ipykernel_50342/3053704963.py:29: RuntimeWarning: Converting a CFTimeIndex with dates from a non-standard calendar, 'noleap', to a pandas.DatetimeIndex, which uses dates from the standard calendar.  This may lead to subtle errors in operations that depend on the length of time between dates.\n",
      "  datetime_index = cftime_index.to_datetimeindex()\n",
      "/glade/derecho/scratch/jhayron/tmp/ipykernel_50342/3053704963.py:29: RuntimeWarning: Converting a CFTimeIndex with dates from a non-standard calendar, 'noleap', to a pandas.DatetimeIndex, which uses dates from the standard calendar.  This may lead to subtle errors in operations that depend on the length of time between dates.\n",
      "  datetime_index = cftime_index.to_datetimeindex()\n"
     ]
    },
    {
     "name": "stdout",
     "output_type": "stream",
     "text": [
      "LE2-1231.011_smbb\n",
      "LE2-1231.014_smbb\n",
      "LE2-1231.017_smbb\n",
      "LE2-1231.020_smbb\n",
      "LE2-1251.003_cmip6\n",
      "LE2-1251.006_cmip6\n",
      "LE2-1251.009_cmip6\n",
      "LE2-1251.012_smbb\n",
      "LE2-1251.015_smbb\n",
      "LE2-1251.018_smbb\n"
     ]
    },
    {
     "name": "stderr",
     "output_type": "stream",
     "text": [
      "/glade/derecho/scratch/jhayron/tmp/ipykernel_50342/3053704963.py:29: RuntimeWarning: Converting a CFTimeIndex with dates from a non-standard calendar, 'noleap', to a pandas.DatetimeIndex, which uses dates from the standard calendar.  This may lead to subtle errors in operations that depend on the length of time between dates.\n",
      "  datetime_index = cftime_index.to_datetimeindex()\n",
      "/glade/derecho/scratch/jhayron/tmp/ipykernel_50342/3053704963.py:29: RuntimeWarning: Converting a CFTimeIndex with dates from a non-standard calendar, 'noleap', to a pandas.DatetimeIndex, which uses dates from the standard calendar.  This may lead to subtle errors in operations that depend on the length of time between dates.\n",
      "  datetime_index = cftime_index.to_datetimeindex()\n",
      "/glade/derecho/scratch/jhayron/tmp/ipykernel_50342/3053704963.py:29: RuntimeWarning: Converting a CFTimeIndex with dates from a non-standard calendar, 'noleap', to a pandas.DatetimeIndex, which uses dates from the standard calendar.  This may lead to subtle errors in operations that depend on the length of time between dates.\n",
      "  datetime_index = cftime_index.to_datetimeindex()\n",
      "/glade/derecho/scratch/jhayron/tmp/ipykernel_50342/3053704963.py:29: RuntimeWarning: Converting a CFTimeIndex with dates from a non-standard calendar, 'noleap', to a pandas.DatetimeIndex, which uses dates from the standard calendar.  This may lead to subtle errors in operations that depend on the length of time between dates.\n",
      "  datetime_index = cftime_index.to_datetimeindex()\n",
      "/glade/derecho/scratch/jhayron/tmp/ipykernel_50342/3053704963.py:29: RuntimeWarning: Converting a CFTimeIndex with dates from a non-standard calendar, 'noleap', to a pandas.DatetimeIndex, which uses dates from the standard calendar.  This may lead to subtle errors in operations that depend on the length of time between dates.\n",
      "  datetime_index = cftime_index.to_datetimeindex()\n",
      "/glade/derecho/scratch/jhayron/tmp/ipykernel_50342/3053704963.py:29: RuntimeWarning: Converting a CFTimeIndex with dates from a non-standard calendar, 'noleap', to a pandas.DatetimeIndex, which uses dates from the standard calendar.  This may lead to subtle errors in operations that depend on the length of time between dates.\n",
      "  datetime_index = cftime_index.to_datetimeindex()\n",
      "/glade/derecho/scratch/jhayron/tmp/ipykernel_50342/3053704963.py:29: RuntimeWarning: Converting a CFTimeIndex with dates from a non-standard calendar, 'noleap', to a pandas.DatetimeIndex, which uses dates from the standard calendar.  This may lead to subtle errors in operations that depend on the length of time between dates.\n",
      "  datetime_index = cftime_index.to_datetimeindex()\n",
      "/glade/derecho/scratch/jhayron/tmp/ipykernel_50342/3053704963.py:29: RuntimeWarning: Converting a CFTimeIndex with dates from a non-standard calendar, 'noleap', to a pandas.DatetimeIndex, which uses dates from the standard calendar.  This may lead to subtle errors in operations that depend on the length of time between dates.\n",
      "  datetime_index = cftime_index.to_datetimeindex()\n",
      "/glade/derecho/scratch/jhayron/tmp/ipykernel_50342/3053704963.py:29: RuntimeWarning: Converting a CFTimeIndex with dates from a non-standard calendar, 'noleap', to a pandas.DatetimeIndex, which uses dates from the standard calendar.  This may lead to subtle errors in operations that depend on the length of time between dates.\n",
      "  datetime_index = cftime_index.to_datetimeindex()\n",
      "/glade/derecho/scratch/jhayron/tmp/ipykernel_50342/3053704963.py:29: RuntimeWarning: Converting a CFTimeIndex with dates from a non-standard calendar, 'noleap', to a pandas.DatetimeIndex, which uses dates from the standard calendar.  This may lead to subtle errors in operations that depend on the length of time between dates.\n",
      "  datetime_index = cftime_index.to_datetimeindex()\n"
     ]
    },
    {
     "name": "stdout",
     "output_type": "stream",
     "text": [
      "LE2-1231.012_smbb\n",
      "LE2-1251.007_cmip6\n",
      "LE2-1251.010_cmip6\n",
      "LE2-1231.018_smbb\n",
      "LE2-1251.001_cmip6\n",
      "LE2-1251.004_cmip6\n",
      "LE2-1231.015_smbb\n",
      "LE2-1251.013_smbb\n",
      "LE2-1251.016_smbb\n",
      "LE2-1251.019_smbb\n"
     ]
    },
    {
     "name": "stderr",
     "output_type": "stream",
     "text": [
      "/glade/derecho/scratch/jhayron/tmp/ipykernel_50342/3053704963.py:29: RuntimeWarning: Converting a CFTimeIndex with dates from a non-standard calendar, 'noleap', to a pandas.DatetimeIndex, which uses dates from the standard calendar.  This may lead to subtle errors in operations that depend on the length of time between dates.\n",
      "  datetime_index = cftime_index.to_datetimeindex()\n",
      "/glade/derecho/scratch/jhayron/tmp/ipykernel_50342/3053704963.py:29: RuntimeWarning: Converting a CFTimeIndex with dates from a non-standard calendar, 'noleap', to a pandas.DatetimeIndex, which uses dates from the standard calendar.  This may lead to subtle errors in operations that depend on the length of time between dates.\n",
      "  datetime_index = cftime_index.to_datetimeindex()\n",
      "/glade/derecho/scratch/jhayron/tmp/ipykernel_50342/3053704963.py:29: RuntimeWarning: Converting a CFTimeIndex with dates from a non-standard calendar, 'noleap', to a pandas.DatetimeIndex, which uses dates from the standard calendar.  This may lead to subtle errors in operations that depend on the length of time between dates.\n",
      "  datetime_index = cftime_index.to_datetimeindex()\n",
      "/glade/derecho/scratch/jhayron/tmp/ipykernel_50342/3053704963.py:29: RuntimeWarning: Converting a CFTimeIndex with dates from a non-standard calendar, 'noleap', to a pandas.DatetimeIndex, which uses dates from the standard calendar.  This may lead to subtle errors in operations that depend on the length of time between dates.\n",
      "  datetime_index = cftime_index.to_datetimeindex()\n",
      "/glade/derecho/scratch/jhayron/tmp/ipykernel_50342/3053704963.py:29: RuntimeWarning: Converting a CFTimeIndex with dates from a non-standard calendar, 'noleap', to a pandas.DatetimeIndex, which uses dates from the standard calendar.  This may lead to subtle errors in operations that depend on the length of time between dates.\n",
      "  datetime_index = cftime_index.to_datetimeindex()\n",
      "/glade/derecho/scratch/jhayron/tmp/ipykernel_50342/3053704963.py:29: RuntimeWarning: Converting a CFTimeIndex with dates from a non-standard calendar, 'noleap', to a pandas.DatetimeIndex, which uses dates from the standard calendar.  This may lead to subtle errors in operations that depend on the length of time between dates.\n",
      "  datetime_index = cftime_index.to_datetimeindex()\n",
      "/glade/derecho/scratch/jhayron/tmp/ipykernel_50342/3053704963.py:29: RuntimeWarning: Converting a CFTimeIndex with dates from a non-standard calendar, 'noleap', to a pandas.DatetimeIndex, which uses dates from the standard calendar.  This may lead to subtle errors in operations that depend on the length of time between dates.\n",
      "  datetime_index = cftime_index.to_datetimeindex()\n",
      "/glade/derecho/scratch/jhayron/tmp/ipykernel_50342/3053704963.py:29: RuntimeWarning: Converting a CFTimeIndex with dates from a non-standard calendar, 'noleap', to a pandas.DatetimeIndex, which uses dates from the standard calendar.  This may lead to subtle errors in operations that depend on the length of time between dates.\n",
      "  datetime_index = cftime_index.to_datetimeindex()\n",
      "/glade/derecho/scratch/jhayron/tmp/ipykernel_50342/3053704963.py:29: RuntimeWarning: Converting a CFTimeIndex with dates from a non-standard calendar, 'noleap', to a pandas.DatetimeIndex, which uses dates from the standard calendar.  This may lead to subtle errors in operations that depend on the length of time between dates.\n",
      "  datetime_index = cftime_index.to_datetimeindex()\n",
      "/glade/derecho/scratch/jhayron/tmp/ipykernel_50342/3053704963.py:29: RuntimeWarning: Converting a CFTimeIndex with dates from a non-standard calendar, 'noleap', to a pandas.DatetimeIndex, which uses dates from the standard calendar.  This may lead to subtle errors in operations that depend on the length of time between dates.\n",
      "  datetime_index = cftime_index.to_datetimeindex()\n"
     ]
    },
    {
     "name": "stdout",
     "output_type": "stream",
     "text": [
      "LE2-1251.011_smbb\n",
      "LE2-1251.002_cmip6\n",
      "LE2-1231.013_smbb\n",
      "LE2-1251.005_cmip6\n",
      "LE2-1251.008_cmip6\n",
      "LE2-1231.019_smbb\n",
      "LE2-1231.016_smbb\n",
      "LE2-1251.014_smbb\n",
      "LE2-1251.020_smbb\n",
      "LE2-1251.017_smbb\n"
     ]
    },
    {
     "name": "stderr",
     "output_type": "stream",
     "text": [
      "/glade/derecho/scratch/jhayron/tmp/ipykernel_50342/3053704963.py:29: RuntimeWarning: Converting a CFTimeIndex with dates from a non-standard calendar, 'noleap', to a pandas.DatetimeIndex, which uses dates from the standard calendar.  This may lead to subtle errors in operations that depend on the length of time between dates.\n",
      "  datetime_index = cftime_index.to_datetimeindex()\n",
      "/glade/derecho/scratch/jhayron/tmp/ipykernel_50342/3053704963.py:29: RuntimeWarning: Converting a CFTimeIndex with dates from a non-standard calendar, 'noleap', to a pandas.DatetimeIndex, which uses dates from the standard calendar.  This may lead to subtle errors in operations that depend on the length of time between dates.\n",
      "  datetime_index = cftime_index.to_datetimeindex()\n",
      "/glade/derecho/scratch/jhayron/tmp/ipykernel_50342/3053704963.py:29: RuntimeWarning: Converting a CFTimeIndex with dates from a non-standard calendar, 'noleap', to a pandas.DatetimeIndex, which uses dates from the standard calendar.  This may lead to subtle errors in operations that depend on the length of time between dates.\n",
      "  datetime_index = cftime_index.to_datetimeindex()\n",
      "/glade/derecho/scratch/jhayron/tmp/ipykernel_50342/3053704963.py:29: RuntimeWarning: Converting a CFTimeIndex with dates from a non-standard calendar, 'noleap', to a pandas.DatetimeIndex, which uses dates from the standard calendar.  This may lead to subtle errors in operations that depend on the length of time between dates.\n",
      "  datetime_index = cftime_index.to_datetimeindex()\n",
      "/glade/derecho/scratch/jhayron/tmp/ipykernel_50342/3053704963.py:29: RuntimeWarning: Converting a CFTimeIndex with dates from a non-standard calendar, 'noleap', to a pandas.DatetimeIndex, which uses dates from the standard calendar.  This may lead to subtle errors in operations that depend on the length of time between dates.\n",
      "  datetime_index = cftime_index.to_datetimeindex()\n",
      "/glade/derecho/scratch/jhayron/tmp/ipykernel_50342/3053704963.py:29: RuntimeWarning: Converting a CFTimeIndex with dates from a non-standard calendar, 'noleap', to a pandas.DatetimeIndex, which uses dates from the standard calendar.  This may lead to subtle errors in operations that depend on the length of time between dates.\n",
      "  datetime_index = cftime_index.to_datetimeindex()\n",
      "/glade/derecho/scratch/jhayron/tmp/ipykernel_50342/3053704963.py:29: RuntimeWarning: Converting a CFTimeIndex with dates from a non-standard calendar, 'noleap', to a pandas.DatetimeIndex, which uses dates from the standard calendar.  This may lead to subtle errors in operations that depend on the length of time between dates.\n",
      "  datetime_index = cftime_index.to_datetimeindex()\n",
      "/glade/derecho/scratch/jhayron/tmp/ipykernel_50342/3053704963.py:29: RuntimeWarning: Converting a CFTimeIndex with dates from a non-standard calendar, 'noleap', to a pandas.DatetimeIndex, which uses dates from the standard calendar.  This may lead to subtle errors in operations that depend on the length of time between dates.\n",
      "  datetime_index = cftime_index.to_datetimeindex()\n",
      "/glade/derecho/scratch/jhayron/tmp/ipykernel_50342/3053704963.py:29: RuntimeWarning: Converting a CFTimeIndex with dates from a non-standard calendar, 'noleap', to a pandas.DatetimeIndex, which uses dates from the standard calendar.  This may lead to subtle errors in operations that depend on the length of time between dates.\n",
      "  datetime_index = cftime_index.to_datetimeindex()\n",
      "/glade/derecho/scratch/jhayron/tmp/ipykernel_50342/3053704963.py:29: RuntimeWarning: Converting a CFTimeIndex with dates from a non-standard calendar, 'noleap', to a pandas.DatetimeIndex, which uses dates from the standard calendar.  This may lead to subtle errors in operations that depend on the length of time between dates.\n",
      "  datetime_index = cftime_index.to_datetimeindex()\n"
     ]
    },
    {
     "name": "stdout",
     "output_type": "stream",
     "text": [
      "LE2-1281.001_cmip6\n",
      "LE2-1281.004_cmip6\n",
      "LE2-1281.007_cmip6\n",
      "LE2-1281.010_cmip6\n",
      "LE2-1281.013_smbb\n",
      "LE2-1281.016_smbb\n",
      "LE2-1281.019_smbb\n",
      "LE2-1301.002_cmip6\n",
      "LE2-1301.005_cmip6\n",
      "LE2-1301.008_cmip6\n"
     ]
    },
    {
     "name": "stderr",
     "output_type": "stream",
     "text": [
      "/glade/derecho/scratch/jhayron/tmp/ipykernel_50342/3053704963.py:29: RuntimeWarning: Converting a CFTimeIndex with dates from a non-standard calendar, 'noleap', to a pandas.DatetimeIndex, which uses dates from the standard calendar.  This may lead to subtle errors in operations that depend on the length of time between dates.\n",
      "  datetime_index = cftime_index.to_datetimeindex()\n",
      "/glade/derecho/scratch/jhayron/tmp/ipykernel_50342/3053704963.py:29: RuntimeWarning: Converting a CFTimeIndex with dates from a non-standard calendar, 'noleap', to a pandas.DatetimeIndex, which uses dates from the standard calendar.  This may lead to subtle errors in operations that depend on the length of time between dates.\n",
      "  datetime_index = cftime_index.to_datetimeindex()\n",
      "/glade/derecho/scratch/jhayron/tmp/ipykernel_50342/3053704963.py:29: RuntimeWarning: Converting a CFTimeIndex with dates from a non-standard calendar, 'noleap', to a pandas.DatetimeIndex, which uses dates from the standard calendar.  This may lead to subtle errors in operations that depend on the length of time between dates.\n",
      "  datetime_index = cftime_index.to_datetimeindex()\n",
      "/glade/derecho/scratch/jhayron/tmp/ipykernel_50342/3053704963.py:29: RuntimeWarning: Converting a CFTimeIndex with dates from a non-standard calendar, 'noleap', to a pandas.DatetimeIndex, which uses dates from the standard calendar.  This may lead to subtle errors in operations that depend on the length of time between dates.\n",
      "  datetime_index = cftime_index.to_datetimeindex()\n",
      "/glade/derecho/scratch/jhayron/tmp/ipykernel_50342/3053704963.py:29: RuntimeWarning: Converting a CFTimeIndex with dates from a non-standard calendar, 'noleap', to a pandas.DatetimeIndex, which uses dates from the standard calendar.  This may lead to subtle errors in operations that depend on the length of time between dates.\n",
      "  datetime_index = cftime_index.to_datetimeindex()\n",
      "/glade/derecho/scratch/jhayron/tmp/ipykernel_50342/3053704963.py:29: RuntimeWarning: Converting a CFTimeIndex with dates from a non-standard calendar, 'noleap', to a pandas.DatetimeIndex, which uses dates from the standard calendar.  This may lead to subtle errors in operations that depend on the length of time between dates.\n",
      "  datetime_index = cftime_index.to_datetimeindex()\n",
      "/glade/derecho/scratch/jhayron/tmp/ipykernel_50342/3053704963.py:29: RuntimeWarning: Converting a CFTimeIndex with dates from a non-standard calendar, 'noleap', to a pandas.DatetimeIndex, which uses dates from the standard calendar.  This may lead to subtle errors in operations that depend on the length of time between dates.\n",
      "  datetime_index = cftime_index.to_datetimeindex()\n",
      "/glade/derecho/scratch/jhayron/tmp/ipykernel_50342/3053704963.py:29: RuntimeWarning: Converting a CFTimeIndex with dates from a non-standard calendar, 'noleap', to a pandas.DatetimeIndex, which uses dates from the standard calendar.  This may lead to subtle errors in operations that depend on the length of time between dates.\n",
      "  datetime_index = cftime_index.to_datetimeindex()\n",
      "/glade/derecho/scratch/jhayron/tmp/ipykernel_50342/3053704963.py:29: RuntimeWarning: Converting a CFTimeIndex with dates from a non-standard calendar, 'noleap', to a pandas.DatetimeIndex, which uses dates from the standard calendar.  This may lead to subtle errors in operations that depend on the length of time between dates.\n",
      "  datetime_index = cftime_index.to_datetimeindex()\n",
      "/glade/derecho/scratch/jhayron/tmp/ipykernel_50342/3053704963.py:29: RuntimeWarning: Converting a CFTimeIndex with dates from a non-standard calendar, 'noleap', to a pandas.DatetimeIndex, which uses dates from the standard calendar.  This may lead to subtle errors in operations that depend on the length of time between dates.\n",
      "  datetime_index = cftime_index.to_datetimeindex()\n"
     ]
    },
    {
     "name": "stdout",
     "output_type": "stream",
     "text": [
      "LE2-1281.002_cmip6\n",
      "LE2-1281.005_cmip6\n",
      "LE2-1281.008_cmip6\n",
      "LE2-1281.011_smbb\n",
      "LE2-1301.009_cmip6\n",
      "LE2-1301.006_cmip6\n",
      "LE2-1301.003_cmip6\n",
      "LE2-1281.014_smbb\n",
      "LE2-1281.017_smbb\n",
      "LE2-1281.020_smbb\n"
     ]
    },
    {
     "name": "stderr",
     "output_type": "stream",
     "text": [
      "/glade/derecho/scratch/jhayron/tmp/ipykernel_50342/3053704963.py:29: RuntimeWarning: Converting a CFTimeIndex with dates from a non-standard calendar, 'noleap', to a pandas.DatetimeIndex, which uses dates from the standard calendar.  This may lead to subtle errors in operations that depend on the length of time between dates.\n",
      "  datetime_index = cftime_index.to_datetimeindex()\n",
      "/glade/derecho/scratch/jhayron/tmp/ipykernel_50342/3053704963.py:29: RuntimeWarning: Converting a CFTimeIndex with dates from a non-standard calendar, 'noleap', to a pandas.DatetimeIndex, which uses dates from the standard calendar.  This may lead to subtle errors in operations that depend on the length of time between dates.\n",
      "  datetime_index = cftime_index.to_datetimeindex()\n",
      "/glade/derecho/scratch/jhayron/tmp/ipykernel_50342/3053704963.py:29: RuntimeWarning: Converting a CFTimeIndex with dates from a non-standard calendar, 'noleap', to a pandas.DatetimeIndex, which uses dates from the standard calendar.  This may lead to subtle errors in operations that depend on the length of time between dates.\n",
      "  datetime_index = cftime_index.to_datetimeindex()\n",
      "/glade/derecho/scratch/jhayron/tmp/ipykernel_50342/3053704963.py:29: RuntimeWarning: Converting a CFTimeIndex with dates from a non-standard calendar, 'noleap', to a pandas.DatetimeIndex, which uses dates from the standard calendar.  This may lead to subtle errors in operations that depend on the length of time between dates.\n",
      "  datetime_index = cftime_index.to_datetimeindex()\n",
      "/glade/derecho/scratch/jhayron/tmp/ipykernel_50342/3053704963.py:29: RuntimeWarning: Converting a CFTimeIndex with dates from a non-standard calendar, 'noleap', to a pandas.DatetimeIndex, which uses dates from the standard calendar.  This may lead to subtle errors in operations that depend on the length of time between dates.\n",
      "  datetime_index = cftime_index.to_datetimeindex()\n",
      "/glade/derecho/scratch/jhayron/tmp/ipykernel_50342/3053704963.py:29: RuntimeWarning: Converting a CFTimeIndex with dates from a non-standard calendar, 'noleap', to a pandas.DatetimeIndex, which uses dates from the standard calendar.  This may lead to subtle errors in operations that depend on the length of time between dates.\n",
      "  datetime_index = cftime_index.to_datetimeindex()\n",
      "/glade/derecho/scratch/jhayron/tmp/ipykernel_50342/3053704963.py:29: RuntimeWarning: Converting a CFTimeIndex with dates from a non-standard calendar, 'noleap', to a pandas.DatetimeIndex, which uses dates from the standard calendar.  This may lead to subtle errors in operations that depend on the length of time between dates.\n",
      "  datetime_index = cftime_index.to_datetimeindex()\n",
      "/glade/derecho/scratch/jhayron/tmp/ipykernel_50342/3053704963.py:29: RuntimeWarning: Converting a CFTimeIndex with dates from a non-standard calendar, 'noleap', to a pandas.DatetimeIndex, which uses dates from the standard calendar.  This may lead to subtle errors in operations that depend on the length of time between dates.\n",
      "  datetime_index = cftime_index.to_datetimeindex()\n"
     ]
    },
    {
     "name": "stdout",
     "output_type": "stream",
     "text": [
      "LE2-1281.003_cmip6\n"
     ]
    },
    {
     "name": "stderr",
     "output_type": "stream",
     "text": [
      "/glade/derecho/scratch/jhayron/tmp/ipykernel_50342/3053704963.py:29: RuntimeWarning: Converting a CFTimeIndex with dates from a non-standard calendar, 'noleap', to a pandas.DatetimeIndex, which uses dates from the standard calendar.  This may lead to subtle errors in operations that depend on the length of time between dates.\n",
      "  datetime_index = cftime_index.to_datetimeindex()\n"
     ]
    },
    {
     "name": "stdout",
     "output_type": "stream",
     "text": [
      "LE2-1281.009_cmip6\n",
      "LE2-1281.006_cmip6\n",
      "LE2-1281.012_smbb\n",
      "LE2-1301.004_cmip6\n",
      "LE2-1301.010_cmip6\n"
     ]
    },
    {
     "name": "stderr",
     "output_type": "stream",
     "text": [
      "/glade/derecho/scratch/jhayron/tmp/ipykernel_50342/3053704963.py:29: RuntimeWarning: Converting a CFTimeIndex with dates from a non-standard calendar, 'noleap', to a pandas.DatetimeIndex, which uses dates from the standard calendar.  This may lead to subtle errors in operations that depend on the length of time between dates.\n",
      "  datetime_index = cftime_index.to_datetimeindex()\n"
     ]
    },
    {
     "name": "stdout",
     "output_type": "stream",
     "text": [
      "LE2-1301.007_cmip6\n",
      "LE2-1281.018_smbb\n",
      "LE2-1281.015_smbb\n",
      "LE2-1301.001_cmip6\n"
     ]
    },
    {
     "name": "stderr",
     "output_type": "stream",
     "text": [
      "/glade/derecho/scratch/jhayron/tmp/ipykernel_50342/3053704963.py:29: RuntimeWarning: Converting a CFTimeIndex with dates from a non-standard calendar, 'noleap', to a pandas.DatetimeIndex, which uses dates from the standard calendar.  This may lead to subtle errors in operations that depend on the length of time between dates.\n",
      "  datetime_index = cftime_index.to_datetimeindex()\n",
      "/glade/derecho/scratch/jhayron/tmp/ipykernel_50342/3053704963.py:29: RuntimeWarning: Converting a CFTimeIndex with dates from a non-standard calendar, 'noleap', to a pandas.DatetimeIndex, which uses dates from the standard calendar.  This may lead to subtle errors in operations that depend on the length of time between dates.\n",
      "  datetime_index = cftime_index.to_datetimeindex()\n",
      "/glade/derecho/scratch/jhayron/tmp/ipykernel_50342/3053704963.py:29: RuntimeWarning: Converting a CFTimeIndex with dates from a non-standard calendar, 'noleap', to a pandas.DatetimeIndex, which uses dates from the standard calendar.  This may lead to subtle errors in operations that depend on the length of time between dates.\n",
      "  datetime_index = cftime_index.to_datetimeindex()\n",
      "/glade/derecho/scratch/jhayron/tmp/ipykernel_50342/3053704963.py:29: RuntimeWarning: Converting a CFTimeIndex with dates from a non-standard calendar, 'noleap', to a pandas.DatetimeIndex, which uses dates from the standard calendar.  This may lead to subtle errors in operations that depend on the length of time between dates.\n",
      "  datetime_index = cftime_index.to_datetimeindex()\n",
      "/glade/derecho/scratch/jhayron/tmp/ipykernel_50342/3053704963.py:29: RuntimeWarning: Converting a CFTimeIndex with dates from a non-standard calendar, 'noleap', to a pandas.DatetimeIndex, which uses dates from the standard calendar.  This may lead to subtle errors in operations that depend on the length of time between dates.\n",
      "  datetime_index = cftime_index.to_datetimeindex()\n",
      "/glade/derecho/scratch/jhayron/tmp/ipykernel_50342/3053704963.py:29: RuntimeWarning: Converting a CFTimeIndex with dates from a non-standard calendar, 'noleap', to a pandas.DatetimeIndex, which uses dates from the standard calendar.  This may lead to subtle errors in operations that depend on the length of time between dates.\n",
      "  datetime_index = cftime_index.to_datetimeindex()\n",
      "/glade/derecho/scratch/jhayron/tmp/ipykernel_50342/3053704963.py:29: RuntimeWarning: Converting a CFTimeIndex with dates from a non-standard calendar, 'noleap', to a pandas.DatetimeIndex, which uses dates from the standard calendar.  This may lead to subtle errors in operations that depend on the length of time between dates.\n",
      "  datetime_index = cftime_index.to_datetimeindex()\n"
     ]
    },
    {
     "name": "stdout",
     "output_type": "stream",
     "text": [
      "LE2-1301.011_smbb\n"
     ]
    },
    {
     "name": "stderr",
     "output_type": "stream",
     "text": [
      "/glade/derecho/scratch/jhayron/tmp/ipykernel_50342/3053704963.py:29: RuntimeWarning: Converting a CFTimeIndex with dates from a non-standard calendar, 'noleap', to a pandas.DatetimeIndex, which uses dates from the standard calendar.  This may lead to subtle errors in operations that depend on the length of time between dates.\n",
      "  datetime_index = cftime_index.to_datetimeindex()\n",
      "/glade/derecho/scratch/jhayron/tmp/ipykernel_50342/3053704963.py:29: RuntimeWarning: Converting a CFTimeIndex with dates from a non-standard calendar, 'noleap', to a pandas.DatetimeIndex, which uses dates from the standard calendar.  This may lead to subtle errors in operations that depend on the length of time between dates.\n",
      "  datetime_index = cftime_index.to_datetimeindex()\n"
     ]
    },
    {
     "name": "stdout",
     "output_type": "stream",
     "text": [
      "LE2-1301.014_smbb\n",
      "LE2-1301.017_smbb\n",
      "LE2-1301.020_smbb\n"
     ]
    },
    {
     "name": "stderr",
     "output_type": "stream",
     "text": [
      "/glade/derecho/scratch/jhayron/tmp/ipykernel_50342/3053704963.py:29: RuntimeWarning: Converting a CFTimeIndex with dates from a non-standard calendar, 'noleap', to a pandas.DatetimeIndex, which uses dates from the standard calendar.  This may lead to subtle errors in operations that depend on the length of time between dates.\n",
      "  datetime_index = cftime_index.to_datetimeindex()\n",
      "/glade/derecho/scratch/jhayron/tmp/ipykernel_50342/3053704963.py:29: RuntimeWarning: Converting a CFTimeIndex with dates from a non-standard calendar, 'noleap', to a pandas.DatetimeIndex, which uses dates from the standard calendar.  This may lead to subtle errors in operations that depend on the length of time between dates.\n",
      "  datetime_index = cftime_index.to_datetimeindex()\n",
      "/glade/derecho/scratch/jhayron/tmp/ipykernel_50342/3053704963.py:29: RuntimeWarning: Converting a CFTimeIndex with dates from a non-standard calendar, 'noleap', to a pandas.DatetimeIndex, which uses dates from the standard calendar.  This may lead to subtle errors in operations that depend on the length of time between dates.\n",
      "  datetime_index = cftime_index.to_datetimeindex()\n",
      "/glade/derecho/scratch/jhayron/tmp/ipykernel_50342/3053704963.py:29: RuntimeWarning: Converting a CFTimeIndex with dates from a non-standard calendar, 'noleap', to a pandas.DatetimeIndex, which uses dates from the standard calendar.  This may lead to subtle errors in operations that depend on the length of time between dates.\n",
      "  datetime_index = cftime_index.to_datetimeindex()\n",
      "/glade/derecho/scratch/jhayron/tmp/ipykernel_50342/3053704963.py:29: RuntimeWarning: Converting a CFTimeIndex with dates from a non-standard calendar, 'noleap', to a pandas.DatetimeIndex, which uses dates from the standard calendar.  This may lead to subtle errors in operations that depend on the length of time between dates.\n",
      "  datetime_index = cftime_index.to_datetimeindex()\n"
     ]
    },
    {
     "name": "stdout",
     "output_type": "stream",
     "text": [
      "LE2-1301.012_smbb\n",
      "LE2-1301.015_smbb\n",
      "LE2-1301.018_smbb\n"
     ]
    },
    {
     "name": "stderr",
     "output_type": "stream",
     "text": [
      "/glade/derecho/scratch/jhayron/tmp/ipykernel_50342/3053704963.py:29: RuntimeWarning: Converting a CFTimeIndex with dates from a non-standard calendar, 'noleap', to a pandas.DatetimeIndex, which uses dates from the standard calendar.  This may lead to subtle errors in operations that depend on the length of time between dates.\n",
      "  datetime_index = cftime_index.to_datetimeindex()\n",
      "/glade/derecho/scratch/jhayron/tmp/ipykernel_50342/3053704963.py:29: RuntimeWarning: Converting a CFTimeIndex with dates from a non-standard calendar, 'noleap', to a pandas.DatetimeIndex, which uses dates from the standard calendar.  This may lead to subtle errors in operations that depend on the length of time between dates.\n",
      "  datetime_index = cftime_index.to_datetimeindex()\n",
      "/glade/derecho/scratch/jhayron/tmp/ipykernel_50342/3053704963.py:29: RuntimeWarning: Converting a CFTimeIndex with dates from a non-standard calendar, 'noleap', to a pandas.DatetimeIndex, which uses dates from the standard calendar.  This may lead to subtle errors in operations that depend on the length of time between dates.\n",
      "  datetime_index = cftime_index.to_datetimeindex()\n"
     ]
    },
    {
     "name": "stdout",
     "output_type": "stream",
     "text": [
      "LE2-1301.013_smbb\n",
      "LE2-1301.016_smbb\n",
      "LE2-1301.019_smbb\n"
     ]
    },
    {
     "name": "stderr",
     "output_type": "stream",
     "text": [
      "/glade/derecho/scratch/jhayron/tmp/ipykernel_50342/3053704963.py:29: RuntimeWarning: Converting a CFTimeIndex with dates from a non-standard calendar, 'noleap', to a pandas.DatetimeIndex, which uses dates from the standard calendar.  This may lead to subtle errors in operations that depend on the length of time between dates.\n",
      "  datetime_index = cftime_index.to_datetimeindex()\n",
      "/glade/derecho/scratch/jhayron/tmp/ipykernel_50342/3053704963.py:29: RuntimeWarning: Converting a CFTimeIndex with dates from a non-standard calendar, 'noleap', to a pandas.DatetimeIndex, which uses dates from the standard calendar.  This may lead to subtle errors in operations that depend on the length of time between dates.\n",
      "  datetime_index = cftime_index.to_datetimeindex()\n",
      "/glade/derecho/scratch/jhayron/tmp/ipykernel_50342/3053704963.py:29: RuntimeWarning: Converting a CFTimeIndex with dates from a non-standard calendar, 'noleap', to a pandas.DatetimeIndex, which uses dates from the standard calendar.  This may lead to subtle errors in operations that depend on the length of time between dates.\n",
      "  datetime_index = cftime_index.to_datetimeindex()\n"
     ]
    }
   ],
   "source": [
    "from multiprocessing import Pool\n",
    "\n",
    "num_ids = len(unique_names_experiments)\n",
    "num_processors = 10\n",
    "\n",
    "# Create a Pool of worker processes\n",
    "with Pool(processes=num_processors) as pool:\n",
    "    # Map the function to the range of IDs\n",
    "    pool.map(process_anoms_and_save, range(num_ids))"
   ]
  }
 ],
 "metadata": {
  "kernelspec": {
   "display_name": "Python [conda env:weather_regimes]",
   "language": "python",
   "name": "conda-env-weather_regimes-py"
  },
  "language_info": {
   "codemirror_mode": {
    "name": "ipython",
    "version": 3
   },
   "file_extension": ".py",
   "mimetype": "text/x-python",
   "name": "python",
   "nbconvert_exporter": "python",
   "pygments_lexer": "ipython3",
   "version": "3.9.13"
  }
 },
 "nbformat": 4,
 "nbformat_minor": 5
}
