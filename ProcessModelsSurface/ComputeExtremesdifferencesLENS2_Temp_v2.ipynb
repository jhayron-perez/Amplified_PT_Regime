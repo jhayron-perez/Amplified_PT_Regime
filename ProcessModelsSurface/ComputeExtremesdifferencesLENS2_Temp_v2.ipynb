{
 "cells": [
  {
   "cell_type": "code",
   "execution_count": 1,
   "id": "7002f724-5bb7-42da-bda2-5542a25ce97d",
   "metadata": {},
   "outputs": [],
   "source": [
    "import numpy as np\n",
    "import pandas as pd\n",
    "import xarray as xr\n",
    "import glob\n",
    "import matplotlib.pyplot as plt\n",
    "import copy"
   ]
  },
  {
   "cell_type": "markdown",
   "id": "f9f06cfe-d724-4579-956c-a5df42d608e8",
   "metadata": {},
   "source": [
    "# read weather regimes"
   ]
  },
  {
   "cell_type": "code",
   "execution_count": 2,
   "id": "08c20e29-976b-4d06-88fb-634f61490063",
   "metadata": {},
   "outputs": [],
   "source": [
    "names_wrs = [\"Polar High\", \"Pacific Trough\", \"Pacific Ridge\", \"Alaskan Ridge\", \"Atlantic Ridge\" ,\"No WR\"]"
   ]
  },
  {
   "cell_type": "code",
   "execution_count": 3,
   "id": "35272175-cfb5-4b97-8f04-d097b5f79682",
   "metadata": {},
   "outputs": [],
   "source": [
    "from scipy.stats import theilslopes\n",
    "import statsmodels.api as sm"
   ]
  },
  {
   "cell_type": "code",
   "execution_count": 4,
   "id": "46f1673b-1d7a-461a-8f0d-a2d5cfc24ca3",
   "metadata": {
    "scrolled": true
   },
   "outputs": [
    {
     "name": "stderr",
     "output_type": "stream",
     "text": [
      "/glade/derecho/scratch/jhayron/tmp/ipykernel_88395/2115786177.py:25: FutureWarning: A value is trying to be set on a copy of a DataFrame or Series through chained assignment using an inplace method.\n",
      "The behavior will change in pandas 3.0. This inplace method will never work because the intermediate object on which we are setting values always behaves as a copy.\n",
      "\n",
      "For example, when doing 'df[col].method(value, inplace=True)', try using 'df.method({col: value}, inplace=True)' or df[col] = df[col].method(value) instead, to perform the operation inplace on the original object.\n",
      "\n",
      "\n",
      "  df_labels['start_date'].fillna(method='ffill', inplace=True)\n",
      "/glade/derecho/scratch/jhayron/tmp/ipykernel_88395/2115786177.py:25: FutureWarning: Series.fillna with 'method' is deprecated and will raise in a future version. Use obj.ffill() or obj.bfill() instead.\n",
      "  df_labels['start_date'].fillna(method='ffill', inplace=True)\n",
      "/glade/derecho/scratch/jhayron/tmp/ipykernel_88395/2115786177.py:25: FutureWarning: A value is trying to be set on a copy of a DataFrame or Series through chained assignment using an inplace method.\n",
      "The behavior will change in pandas 3.0. This inplace method will never work because the intermediate object on which we are setting values always behaves as a copy.\n",
      "\n",
      "For example, when doing 'df[col].method(value, inplace=True)', try using 'df.method({col: value}, inplace=True)' or df[col] = df[col].method(value) instead, to perform the operation inplace on the original object.\n",
      "\n",
      "\n",
      "  df_labels['start_date'].fillna(method='ffill', inplace=True)\n",
      "/glade/derecho/scratch/jhayron/tmp/ipykernel_88395/2115786177.py:25: FutureWarning: Series.fillna with 'method' is deprecated and will raise in a future version. Use obj.ffill() or obj.bfill() instead.\n",
      "  df_labels['start_date'].fillna(method='ffill', inplace=True)\n",
      "/glade/derecho/scratch/jhayron/tmp/ipykernel_88395/2115786177.py:25: FutureWarning: A value is trying to be set on a copy of a DataFrame or Series through chained assignment using an inplace method.\n",
      "The behavior will change in pandas 3.0. This inplace method will never work because the intermediate object on which we are setting values always behaves as a copy.\n",
      "\n",
      "For example, when doing 'df[col].method(value, inplace=True)', try using 'df.method({col: value}, inplace=True)' or df[col] = df[col].method(value) instead, to perform the operation inplace on the original object.\n",
      "\n",
      "\n",
      "  df_labels['start_date'].fillna(method='ffill', inplace=True)\n",
      "/glade/derecho/scratch/jhayron/tmp/ipykernel_88395/2115786177.py:25: FutureWarning: Series.fillna with 'method' is deprecated and will raise in a future version. Use obj.ffill() or obj.bfill() instead.\n",
      "  df_labels['start_date'].fillna(method='ffill', inplace=True)\n",
      "/glade/derecho/scratch/jhayron/tmp/ipykernel_88395/2115786177.py:25: FutureWarning: A value is trying to be set on a copy of a DataFrame or Series through chained assignment using an inplace method.\n",
      "The behavior will change in pandas 3.0. This inplace method will never work because the intermediate object on which we are setting values always behaves as a copy.\n",
      "\n",
      "For example, when doing 'df[col].method(value, inplace=True)', try using 'df.method({col: value}, inplace=True)' or df[col] = df[col].method(value) instead, to perform the operation inplace on the original object.\n",
      "\n",
      "\n",
      "  df_labels['start_date'].fillna(method='ffill', inplace=True)\n",
      "/glade/derecho/scratch/jhayron/tmp/ipykernel_88395/2115786177.py:25: FutureWarning: Series.fillna with 'method' is deprecated and will raise in a future version. Use obj.ffill() or obj.bfill() instead.\n",
      "  df_labels['start_date'].fillna(method='ffill', inplace=True)\n",
      "/glade/derecho/scratch/jhayron/tmp/ipykernel_88395/2115786177.py:25: FutureWarning: A value is trying to be set on a copy of a DataFrame or Series through chained assignment using an inplace method.\n",
      "The behavior will change in pandas 3.0. This inplace method will never work because the intermediate object on which we are setting values always behaves as a copy.\n",
      "\n",
      "For example, when doing 'df[col].method(value, inplace=True)', try using 'df.method({col: value}, inplace=True)' or df[col] = df[col].method(value) instead, to perform the operation inplace on the original object.\n",
      "\n",
      "\n",
      "  df_labels['start_date'].fillna(method='ffill', inplace=True)\n",
      "/glade/derecho/scratch/jhayron/tmp/ipykernel_88395/2115786177.py:25: FutureWarning: Series.fillna with 'method' is deprecated and will raise in a future version. Use obj.ffill() or obj.bfill() instead.\n",
      "  df_labels['start_date'].fillna(method='ffill', inplace=True)\n",
      "/glade/derecho/scratch/jhayron/tmp/ipykernel_88395/2115786177.py:25: FutureWarning: A value is trying to be set on a copy of a DataFrame or Series through chained assignment using an inplace method.\n",
      "The behavior will change in pandas 3.0. This inplace method will never work because the intermediate object on which we are setting values always behaves as a copy.\n",
      "\n",
      "For example, when doing 'df[col].method(value, inplace=True)', try using 'df.method({col: value}, inplace=True)' or df[col] = df[col].method(value) instead, to perform the operation inplace on the original object.\n",
      "\n",
      "\n",
      "  df_labels['start_date'].fillna(method='ffill', inplace=True)\n",
      "/glade/derecho/scratch/jhayron/tmp/ipykernel_88395/2115786177.py:25: FutureWarning: Series.fillna with 'method' is deprecated and will raise in a future version. Use obj.ffill() or obj.bfill() instead.\n",
      "  df_labels['start_date'].fillna(method='ffill', inplace=True)\n",
      "/glade/derecho/scratch/jhayron/tmp/ipykernel_88395/2115786177.py:25: FutureWarning: A value is trying to be set on a copy of a DataFrame or Series through chained assignment using an inplace method.\n",
      "The behavior will change in pandas 3.0. This inplace method will never work because the intermediate object on which we are setting values always behaves as a copy.\n",
      "\n",
      "For example, when doing 'df[col].method(value, inplace=True)', try using 'df.method({col: value}, inplace=True)' or df[col] = df[col].method(value) instead, to perform the operation inplace on the original object.\n",
      "\n",
      "\n",
      "  df_labels['start_date'].fillna(method='ffill', inplace=True)\n",
      "/glade/derecho/scratch/jhayron/tmp/ipykernel_88395/2115786177.py:25: FutureWarning: Series.fillna with 'method' is deprecated and will raise in a future version. Use obj.ffill() or obj.bfill() instead.\n",
      "  df_labels['start_date'].fillna(method='ffill', inplace=True)\n",
      "/glade/derecho/scratch/jhayron/tmp/ipykernel_88395/2115786177.py:25: FutureWarning: A value is trying to be set on a copy of a DataFrame or Series through chained assignment using an inplace method.\n",
      "The behavior will change in pandas 3.0. This inplace method will never work because the intermediate object on which we are setting values always behaves as a copy.\n",
      "\n",
      "For example, when doing 'df[col].method(value, inplace=True)', try using 'df.method({col: value}, inplace=True)' or df[col] = df[col].method(value) instead, to perform the operation inplace on the original object.\n",
      "\n",
      "\n",
      "  df_labels['start_date'].fillna(method='ffill', inplace=True)\n",
      "/glade/derecho/scratch/jhayron/tmp/ipykernel_88395/2115786177.py:25: FutureWarning: Series.fillna with 'method' is deprecated and will raise in a future version. Use obj.ffill() or obj.bfill() instead.\n",
      "  df_labels['start_date'].fillna(method='ffill', inplace=True)\n",
      "/glade/derecho/scratch/jhayron/tmp/ipykernel_88395/2115786177.py:25: FutureWarning: A value is trying to be set on a copy of a DataFrame or Series through chained assignment using an inplace method.\n",
      "The behavior will change in pandas 3.0. This inplace method will never work because the intermediate object on which we are setting values always behaves as a copy.\n",
      "\n",
      "For example, when doing 'df[col].method(value, inplace=True)', try using 'df.method({col: value}, inplace=True)' or df[col] = df[col].method(value) instead, to perform the operation inplace on the original object.\n",
      "\n",
      "\n",
      "  df_labels['start_date'].fillna(method='ffill', inplace=True)\n",
      "/glade/derecho/scratch/jhayron/tmp/ipykernel_88395/2115786177.py:25: FutureWarning: Series.fillna with 'method' is deprecated and will raise in a future version. Use obj.ffill() or obj.bfill() instead.\n",
      "  df_labels['start_date'].fillna(method='ffill', inplace=True)\n",
      "/glade/derecho/scratch/jhayron/tmp/ipykernel_88395/2115786177.py:25: FutureWarning: A value is trying to be set on a copy of a DataFrame or Series through chained assignment using an inplace method.\n",
      "The behavior will change in pandas 3.0. This inplace method will never work because the intermediate object on which we are setting values always behaves as a copy.\n",
      "\n",
      "For example, when doing 'df[col].method(value, inplace=True)', try using 'df.method({col: value}, inplace=True)' or df[col] = df[col].method(value) instead, to perform the operation inplace on the original object.\n",
      "\n",
      "\n",
      "  df_labels['start_date'].fillna(method='ffill', inplace=True)\n",
      "/glade/derecho/scratch/jhayron/tmp/ipykernel_88395/2115786177.py:25: FutureWarning: Series.fillna with 'method' is deprecated and will raise in a future version. Use obj.ffill() or obj.bfill() instead.\n",
      "  df_labels['start_date'].fillna(method='ffill', inplace=True)\n",
      "/glade/derecho/scratch/jhayron/tmp/ipykernel_88395/2115786177.py:25: FutureWarning: A value is trying to be set on a copy of a DataFrame or Series through chained assignment using an inplace method.\n",
      "The behavior will change in pandas 3.0. This inplace method will never work because the intermediate object on which we are setting values always behaves as a copy.\n",
      "\n",
      "For example, when doing 'df[col].method(value, inplace=True)', try using 'df.method({col: value}, inplace=True)' or df[col] = df[col].method(value) instead, to perform the operation inplace on the original object.\n",
      "\n",
      "\n",
      "  df_labels['start_date'].fillna(method='ffill', inplace=True)\n",
      "/glade/derecho/scratch/jhayron/tmp/ipykernel_88395/2115786177.py:25: FutureWarning: Series.fillna with 'method' is deprecated and will raise in a future version. Use obj.ffill() or obj.bfill() instead.\n",
      "  df_labels['start_date'].fillna(method='ffill', inplace=True)\n",
      "/glade/derecho/scratch/jhayron/tmp/ipykernel_88395/2115786177.py:25: FutureWarning: A value is trying to be set on a copy of a DataFrame or Series through chained assignment using an inplace method.\n",
      "The behavior will change in pandas 3.0. This inplace method will never work because the intermediate object on which we are setting values always behaves as a copy.\n",
      "\n",
      "For example, when doing 'df[col].method(value, inplace=True)', try using 'df.method({col: value}, inplace=True)' or df[col] = df[col].method(value) instead, to perform the operation inplace on the original object.\n",
      "\n",
      "\n",
      "  df_labels['start_date'].fillna(method='ffill', inplace=True)\n",
      "/glade/derecho/scratch/jhayron/tmp/ipykernel_88395/2115786177.py:25: FutureWarning: Series.fillna with 'method' is deprecated and will raise in a future version. Use obj.ffill() or obj.bfill() instead.\n",
      "  df_labels['start_date'].fillna(method='ffill', inplace=True)\n",
      "/glade/derecho/scratch/jhayron/tmp/ipykernel_88395/2115786177.py:25: FutureWarning: A value is trying to be set on a copy of a DataFrame or Series through chained assignment using an inplace method.\n",
      "The behavior will change in pandas 3.0. This inplace method will never work because the intermediate object on which we are setting values always behaves as a copy.\n",
      "\n",
      "For example, when doing 'df[col].method(value, inplace=True)', try using 'df.method({col: value}, inplace=True)' or df[col] = df[col].method(value) instead, to perform the operation inplace on the original object.\n",
      "\n",
      "\n",
      "  df_labels['start_date'].fillna(method='ffill', inplace=True)\n",
      "/glade/derecho/scratch/jhayron/tmp/ipykernel_88395/2115786177.py:25: FutureWarning: Series.fillna with 'method' is deprecated and will raise in a future version. Use obj.ffill() or obj.bfill() instead.\n",
      "  df_labels['start_date'].fillna(method='ffill', inplace=True)\n",
      "/glade/derecho/scratch/jhayron/tmp/ipykernel_88395/2115786177.py:25: FutureWarning: A value is trying to be set on a copy of a DataFrame or Series through chained assignment using an inplace method.\n",
      "The behavior will change in pandas 3.0. This inplace method will never work because the intermediate object on which we are setting values always behaves as a copy.\n",
      "\n",
      "For example, when doing 'df[col].method(value, inplace=True)', try using 'df.method({col: value}, inplace=True)' or df[col] = df[col].method(value) instead, to perform the operation inplace on the original object.\n",
      "\n",
      "\n",
      "  df_labels['start_date'].fillna(method='ffill', inplace=True)\n",
      "/glade/derecho/scratch/jhayron/tmp/ipykernel_88395/2115786177.py:25: FutureWarning: Series.fillna with 'method' is deprecated and will raise in a future version. Use obj.ffill() or obj.bfill() instead.\n",
      "  df_labels['start_date'].fillna(method='ffill', inplace=True)\n",
      "/glade/derecho/scratch/jhayron/tmp/ipykernel_88395/2115786177.py:25: FutureWarning: A value is trying to be set on a copy of a DataFrame or Series through chained assignment using an inplace method.\n",
      "The behavior will change in pandas 3.0. This inplace method will never work because the intermediate object on which we are setting values always behaves as a copy.\n",
      "\n",
      "For example, when doing 'df[col].method(value, inplace=True)', try using 'df.method({col: value}, inplace=True)' or df[col] = df[col].method(value) instead, to perform the operation inplace on the original object.\n",
      "\n",
      "\n",
      "  df_labels['start_date'].fillna(method='ffill', inplace=True)\n",
      "/glade/derecho/scratch/jhayron/tmp/ipykernel_88395/2115786177.py:25: FutureWarning: Series.fillna with 'method' is deprecated and will raise in a future version. Use obj.ffill() or obj.bfill() instead.\n",
      "  df_labels['start_date'].fillna(method='ffill', inplace=True)\n",
      "/glade/derecho/scratch/jhayron/tmp/ipykernel_88395/2115786177.py:25: FutureWarning: A value is trying to be set on a copy of a DataFrame or Series through chained assignment using an inplace method.\n",
      "The behavior will change in pandas 3.0. This inplace method will never work because the intermediate object on which we are setting values always behaves as a copy.\n",
      "\n",
      "For example, when doing 'df[col].method(value, inplace=True)', try using 'df.method({col: value}, inplace=True)' or df[col] = df[col].method(value) instead, to perform the operation inplace on the original object.\n",
      "\n",
      "\n",
      "  df_labels['start_date'].fillna(method='ffill', inplace=True)\n",
      "/glade/derecho/scratch/jhayron/tmp/ipykernel_88395/2115786177.py:25: FutureWarning: Series.fillna with 'method' is deprecated and will raise in a future version. Use obj.ffill() or obj.bfill() instead.\n",
      "  df_labels['start_date'].fillna(method='ffill', inplace=True)\n",
      "/glade/derecho/scratch/jhayron/tmp/ipykernel_88395/2115786177.py:25: FutureWarning: A value is trying to be set on a copy of a DataFrame or Series through chained assignment using an inplace method.\n",
      "The behavior will change in pandas 3.0. This inplace method will never work because the intermediate object on which we are setting values always behaves as a copy.\n",
      "\n",
      "For example, when doing 'df[col].method(value, inplace=True)', try using 'df.method({col: value}, inplace=True)' or df[col] = df[col].method(value) instead, to perform the operation inplace on the original object.\n",
      "\n",
      "\n",
      "  df_labels['start_date'].fillna(method='ffill', inplace=True)\n",
      "/glade/derecho/scratch/jhayron/tmp/ipykernel_88395/2115786177.py:25: FutureWarning: Series.fillna with 'method' is deprecated and will raise in a future version. Use obj.ffill() or obj.bfill() instead.\n",
      "  df_labels['start_date'].fillna(method='ffill', inplace=True)\n",
      "/glade/derecho/scratch/jhayron/tmp/ipykernel_88395/2115786177.py:25: FutureWarning: A value is trying to be set on a copy of a DataFrame or Series through chained assignment using an inplace method.\n",
      "The behavior will change in pandas 3.0. This inplace method will never work because the intermediate object on which we are setting values always behaves as a copy.\n",
      "\n",
      "For example, when doing 'df[col].method(value, inplace=True)', try using 'df.method({col: value}, inplace=True)' or df[col] = df[col].method(value) instead, to perform the operation inplace on the original object.\n",
      "\n",
      "\n",
      "  df_labels['start_date'].fillna(method='ffill', inplace=True)\n",
      "/glade/derecho/scratch/jhayron/tmp/ipykernel_88395/2115786177.py:25: FutureWarning: Series.fillna with 'method' is deprecated and will raise in a future version. Use obj.ffill() or obj.bfill() instead.\n",
      "  df_labels['start_date'].fillna(method='ffill', inplace=True)\n",
      "/glade/derecho/scratch/jhayron/tmp/ipykernel_88395/2115786177.py:25: FutureWarning: A value is trying to be set on a copy of a DataFrame or Series through chained assignment using an inplace method.\n",
      "The behavior will change in pandas 3.0. This inplace method will never work because the intermediate object on which we are setting values always behaves as a copy.\n",
      "\n",
      "For example, when doing 'df[col].method(value, inplace=True)', try using 'df.method({col: value}, inplace=True)' or df[col] = df[col].method(value) instead, to perform the operation inplace on the original object.\n",
      "\n",
      "\n",
      "  df_labels['start_date'].fillna(method='ffill', inplace=True)\n",
      "/glade/derecho/scratch/jhayron/tmp/ipykernel_88395/2115786177.py:25: FutureWarning: Series.fillna with 'method' is deprecated and will raise in a future version. Use obj.ffill() or obj.bfill() instead.\n",
      "  df_labels['start_date'].fillna(method='ffill', inplace=True)\n",
      "/glade/derecho/scratch/jhayron/tmp/ipykernel_88395/2115786177.py:25: FutureWarning: A value is trying to be set on a copy of a DataFrame or Series through chained assignment using an inplace method.\n",
      "The behavior will change in pandas 3.0. This inplace method will never work because the intermediate object on which we are setting values always behaves as a copy.\n",
      "\n",
      "For example, when doing 'df[col].method(value, inplace=True)', try using 'df.method({col: value}, inplace=True)' or df[col] = df[col].method(value) instead, to perform the operation inplace on the original object.\n",
      "\n",
      "\n",
      "  df_labels['start_date'].fillna(method='ffill', inplace=True)\n",
      "/glade/derecho/scratch/jhayron/tmp/ipykernel_88395/2115786177.py:25: FutureWarning: Series.fillna with 'method' is deprecated and will raise in a future version. Use obj.ffill() or obj.bfill() instead.\n",
      "  df_labels['start_date'].fillna(method='ffill', inplace=True)\n",
      "/glade/derecho/scratch/jhayron/tmp/ipykernel_88395/2115786177.py:25: FutureWarning: A value is trying to be set on a copy of a DataFrame or Series through chained assignment using an inplace method.\n",
      "The behavior will change in pandas 3.0. This inplace method will never work because the intermediate object on which we are setting values always behaves as a copy.\n",
      "\n",
      "For example, when doing 'df[col].method(value, inplace=True)', try using 'df.method({col: value}, inplace=True)' or df[col] = df[col].method(value) instead, to perform the operation inplace on the original object.\n",
      "\n",
      "\n",
      "  df_labels['start_date'].fillna(method='ffill', inplace=True)\n",
      "/glade/derecho/scratch/jhayron/tmp/ipykernel_88395/2115786177.py:25: FutureWarning: Series.fillna with 'method' is deprecated and will raise in a future version. Use obj.ffill() or obj.bfill() instead.\n",
      "  df_labels['start_date'].fillna(method='ffill', inplace=True)\n",
      "/glade/derecho/scratch/jhayron/tmp/ipykernel_88395/2115786177.py:25: FutureWarning: A value is trying to be set on a copy of a DataFrame or Series through chained assignment using an inplace method.\n",
      "The behavior will change in pandas 3.0. This inplace method will never work because the intermediate object on which we are setting values always behaves as a copy.\n",
      "\n",
      "For example, when doing 'df[col].method(value, inplace=True)', try using 'df.method({col: value}, inplace=True)' or df[col] = df[col].method(value) instead, to perform the operation inplace on the original object.\n",
      "\n",
      "\n",
      "  df_labels['start_date'].fillna(method='ffill', inplace=True)\n",
      "/glade/derecho/scratch/jhayron/tmp/ipykernel_88395/2115786177.py:25: FutureWarning: Series.fillna with 'method' is deprecated and will raise in a future version. Use obj.ffill() or obj.bfill() instead.\n",
      "  df_labels['start_date'].fillna(method='ffill', inplace=True)\n",
      "/glade/derecho/scratch/jhayron/tmp/ipykernel_88395/2115786177.py:25: FutureWarning: A value is trying to be set on a copy of a DataFrame or Series through chained assignment using an inplace method.\n",
      "The behavior will change in pandas 3.0. This inplace method will never work because the intermediate object on which we are setting values always behaves as a copy.\n",
      "\n",
      "For example, when doing 'df[col].method(value, inplace=True)', try using 'df.method({col: value}, inplace=True)' or df[col] = df[col].method(value) instead, to perform the operation inplace on the original object.\n",
      "\n",
      "\n",
      "  df_labels['start_date'].fillna(method='ffill', inplace=True)\n",
      "/glade/derecho/scratch/jhayron/tmp/ipykernel_88395/2115786177.py:25: FutureWarning: Series.fillna with 'method' is deprecated and will raise in a future version. Use obj.ffill() or obj.bfill() instead.\n",
      "  df_labels['start_date'].fillna(method='ffill', inplace=True)\n",
      "/glade/derecho/scratch/jhayron/tmp/ipykernel_88395/2115786177.py:25: FutureWarning: A value is trying to be set on a copy of a DataFrame or Series through chained assignment using an inplace method.\n",
      "The behavior will change in pandas 3.0. This inplace method will never work because the intermediate object on which we are setting values always behaves as a copy.\n",
      "\n",
      "For example, when doing 'df[col].method(value, inplace=True)', try using 'df.method({col: value}, inplace=True)' or df[col] = df[col].method(value) instead, to perform the operation inplace on the original object.\n",
      "\n",
      "\n",
      "  df_labels['start_date'].fillna(method='ffill', inplace=True)\n",
      "/glade/derecho/scratch/jhayron/tmp/ipykernel_88395/2115786177.py:25: FutureWarning: Series.fillna with 'method' is deprecated and will raise in a future version. Use obj.ffill() or obj.bfill() instead.\n",
      "  df_labels['start_date'].fillna(method='ffill', inplace=True)\n",
      "/glade/derecho/scratch/jhayron/tmp/ipykernel_88395/2115786177.py:25: FutureWarning: A value is trying to be set on a copy of a DataFrame or Series through chained assignment using an inplace method.\n",
      "The behavior will change in pandas 3.0. This inplace method will never work because the intermediate object on which we are setting values always behaves as a copy.\n",
      "\n",
      "For example, when doing 'df[col].method(value, inplace=True)', try using 'df.method({col: value}, inplace=True)' or df[col] = df[col].method(value) instead, to perform the operation inplace on the original object.\n",
      "\n",
      "\n",
      "  df_labels['start_date'].fillna(method='ffill', inplace=True)\n",
      "/glade/derecho/scratch/jhayron/tmp/ipykernel_88395/2115786177.py:25: FutureWarning: Series.fillna with 'method' is deprecated and will raise in a future version. Use obj.ffill() or obj.bfill() instead.\n",
      "  df_labels['start_date'].fillna(method='ffill', inplace=True)\n",
      "/glade/derecho/scratch/jhayron/tmp/ipykernel_88395/2115786177.py:25: FutureWarning: A value is trying to be set on a copy of a DataFrame or Series through chained assignment using an inplace method.\n",
      "The behavior will change in pandas 3.0. This inplace method will never work because the intermediate object on which we are setting values always behaves as a copy.\n",
      "\n",
      "For example, when doing 'df[col].method(value, inplace=True)', try using 'df.method({col: value}, inplace=True)' or df[col] = df[col].method(value) instead, to perform the operation inplace on the original object.\n",
      "\n",
      "\n",
      "  df_labels['start_date'].fillna(method='ffill', inplace=True)\n",
      "/glade/derecho/scratch/jhayron/tmp/ipykernel_88395/2115786177.py:25: FutureWarning: Series.fillna with 'method' is deprecated and will raise in a future version. Use obj.ffill() or obj.bfill() instead.\n",
      "  df_labels['start_date'].fillna(method='ffill', inplace=True)\n",
      "/glade/derecho/scratch/jhayron/tmp/ipykernel_88395/2115786177.py:25: FutureWarning: A value is trying to be set on a copy of a DataFrame or Series through chained assignment using an inplace method.\n",
      "The behavior will change in pandas 3.0. This inplace method will never work because the intermediate object on which we are setting values always behaves as a copy.\n",
      "\n",
      "For example, when doing 'df[col].method(value, inplace=True)', try using 'df.method({col: value}, inplace=True)' or df[col] = df[col].method(value) instead, to perform the operation inplace on the original object.\n",
      "\n",
      "\n",
      "  df_labels['start_date'].fillna(method='ffill', inplace=True)\n",
      "/glade/derecho/scratch/jhayron/tmp/ipykernel_88395/2115786177.py:25: FutureWarning: Series.fillna with 'method' is deprecated and will raise in a future version. Use obj.ffill() or obj.bfill() instead.\n",
      "  df_labels['start_date'].fillna(method='ffill', inplace=True)\n",
      "/glade/derecho/scratch/jhayron/tmp/ipykernel_88395/2115786177.py:25: FutureWarning: A value is trying to be set on a copy of a DataFrame or Series through chained assignment using an inplace method.\n",
      "The behavior will change in pandas 3.0. This inplace method will never work because the intermediate object on which we are setting values always behaves as a copy.\n",
      "\n",
      "For example, when doing 'df[col].method(value, inplace=True)', try using 'df.method({col: value}, inplace=True)' or df[col] = df[col].method(value) instead, to perform the operation inplace on the original object.\n",
      "\n",
      "\n",
      "  df_labels['start_date'].fillna(method='ffill', inplace=True)\n",
      "/glade/derecho/scratch/jhayron/tmp/ipykernel_88395/2115786177.py:25: FutureWarning: Series.fillna with 'method' is deprecated and will raise in a future version. Use obj.ffill() or obj.bfill() instead.\n",
      "  df_labels['start_date'].fillna(method='ffill', inplace=True)\n",
      "/glade/derecho/scratch/jhayron/tmp/ipykernel_88395/2115786177.py:25: FutureWarning: A value is trying to be set on a copy of a DataFrame or Series through chained assignment using an inplace method.\n",
      "The behavior will change in pandas 3.0. This inplace method will never work because the intermediate object on which we are setting values always behaves as a copy.\n",
      "\n",
      "For example, when doing 'df[col].method(value, inplace=True)', try using 'df.method({col: value}, inplace=True)' or df[col] = df[col].method(value) instead, to perform the operation inplace on the original object.\n",
      "\n",
      "\n",
      "  df_labels['start_date'].fillna(method='ffill', inplace=True)\n",
      "/glade/derecho/scratch/jhayron/tmp/ipykernel_88395/2115786177.py:25: FutureWarning: Series.fillna with 'method' is deprecated and will raise in a future version. Use obj.ffill() or obj.bfill() instead.\n",
      "  df_labels['start_date'].fillna(method='ffill', inplace=True)\n",
      "/glade/derecho/scratch/jhayron/tmp/ipykernel_88395/2115786177.py:25: FutureWarning: A value is trying to be set on a copy of a DataFrame or Series through chained assignment using an inplace method.\n",
      "The behavior will change in pandas 3.0. This inplace method will never work because the intermediate object on which we are setting values always behaves as a copy.\n",
      "\n",
      "For example, when doing 'df[col].method(value, inplace=True)', try using 'df.method({col: value}, inplace=True)' or df[col] = df[col].method(value) instead, to perform the operation inplace on the original object.\n",
      "\n",
      "\n",
      "  df_labels['start_date'].fillna(method='ffill', inplace=True)\n",
      "/glade/derecho/scratch/jhayron/tmp/ipykernel_88395/2115786177.py:25: FutureWarning: Series.fillna with 'method' is deprecated and will raise in a future version. Use obj.ffill() or obj.bfill() instead.\n",
      "  df_labels['start_date'].fillna(method='ffill', inplace=True)\n",
      "/glade/derecho/scratch/jhayron/tmp/ipykernel_88395/2115786177.py:25: FutureWarning: A value is trying to be set on a copy of a DataFrame or Series through chained assignment using an inplace method.\n",
      "The behavior will change in pandas 3.0. This inplace method will never work because the intermediate object on which we are setting values always behaves as a copy.\n",
      "\n",
      "For example, when doing 'df[col].method(value, inplace=True)', try using 'df.method({col: value}, inplace=True)' or df[col] = df[col].method(value) instead, to perform the operation inplace on the original object.\n",
      "\n",
      "\n",
      "  df_labels['start_date'].fillna(method='ffill', inplace=True)\n",
      "/glade/derecho/scratch/jhayron/tmp/ipykernel_88395/2115786177.py:25: FutureWarning: Series.fillna with 'method' is deprecated and will raise in a future version. Use obj.ffill() or obj.bfill() instead.\n",
      "  df_labels['start_date'].fillna(method='ffill', inplace=True)\n",
      "/glade/derecho/scratch/jhayron/tmp/ipykernel_88395/2115786177.py:25: FutureWarning: A value is trying to be set on a copy of a DataFrame or Series through chained assignment using an inplace method.\n",
      "The behavior will change in pandas 3.0. This inplace method will never work because the intermediate object on which we are setting values always behaves as a copy.\n",
      "\n",
      "For example, when doing 'df[col].method(value, inplace=True)', try using 'df.method({col: value}, inplace=True)' or df[col] = df[col].method(value) instead, to perform the operation inplace on the original object.\n",
      "\n",
      "\n",
      "  df_labels['start_date'].fillna(method='ffill', inplace=True)\n",
      "/glade/derecho/scratch/jhayron/tmp/ipykernel_88395/2115786177.py:25: FutureWarning: Series.fillna with 'method' is deprecated and will raise in a future version. Use obj.ffill() or obj.bfill() instead.\n",
      "  df_labels['start_date'].fillna(method='ffill', inplace=True)\n",
      "/glade/derecho/scratch/jhayron/tmp/ipykernel_88395/2115786177.py:25: FutureWarning: A value is trying to be set on a copy of a DataFrame or Series through chained assignment using an inplace method.\n",
      "The behavior will change in pandas 3.0. This inplace method will never work because the intermediate object on which we are setting values always behaves as a copy.\n",
      "\n",
      "For example, when doing 'df[col].method(value, inplace=True)', try using 'df.method({col: value}, inplace=True)' or df[col] = df[col].method(value) instead, to perform the operation inplace on the original object.\n",
      "\n",
      "\n",
      "  df_labels['start_date'].fillna(method='ffill', inplace=True)\n",
      "/glade/derecho/scratch/jhayron/tmp/ipykernel_88395/2115786177.py:25: FutureWarning: Series.fillna with 'method' is deprecated and will raise in a future version. Use obj.ffill() or obj.bfill() instead.\n",
      "  df_labels['start_date'].fillna(method='ffill', inplace=True)\n",
      "/glade/derecho/scratch/jhayron/tmp/ipykernel_88395/2115786177.py:25: FutureWarning: A value is trying to be set on a copy of a DataFrame or Series through chained assignment using an inplace method.\n",
      "The behavior will change in pandas 3.0. This inplace method will never work because the intermediate object on which we are setting values always behaves as a copy.\n",
      "\n",
      "For example, when doing 'df[col].method(value, inplace=True)', try using 'df.method({col: value}, inplace=True)' or df[col] = df[col].method(value) instead, to perform the operation inplace on the original object.\n",
      "\n",
      "\n",
      "  df_labels['start_date'].fillna(method='ffill', inplace=True)\n",
      "/glade/derecho/scratch/jhayron/tmp/ipykernel_88395/2115786177.py:25: FutureWarning: Series.fillna with 'method' is deprecated and will raise in a future version. Use obj.ffill() or obj.bfill() instead.\n",
      "  df_labels['start_date'].fillna(method='ffill', inplace=True)\n",
      "/glade/derecho/scratch/jhayron/tmp/ipykernel_88395/2115786177.py:25: FutureWarning: A value is trying to be set on a copy of a DataFrame or Series through chained assignment using an inplace method.\n",
      "The behavior will change in pandas 3.0. This inplace method will never work because the intermediate object on which we are setting values always behaves as a copy.\n",
      "\n",
      "For example, when doing 'df[col].method(value, inplace=True)', try using 'df.method({col: value}, inplace=True)' or df[col] = df[col].method(value) instead, to perform the operation inplace on the original object.\n",
      "\n",
      "\n",
      "  df_labels['start_date'].fillna(method='ffill', inplace=True)\n",
      "/glade/derecho/scratch/jhayron/tmp/ipykernel_88395/2115786177.py:25: FutureWarning: Series.fillna with 'method' is deprecated and will raise in a future version. Use obj.ffill() or obj.bfill() instead.\n",
      "  df_labels['start_date'].fillna(method='ffill', inplace=True)\n",
      "/glade/derecho/scratch/jhayron/tmp/ipykernel_88395/2115786177.py:25: FutureWarning: A value is trying to be set on a copy of a DataFrame or Series through chained assignment using an inplace method.\n",
      "The behavior will change in pandas 3.0. This inplace method will never work because the intermediate object on which we are setting values always behaves as a copy.\n",
      "\n",
      "For example, when doing 'df[col].method(value, inplace=True)', try using 'df.method({col: value}, inplace=True)' or df[col] = df[col].method(value) instead, to perform the operation inplace on the original object.\n",
      "\n",
      "\n",
      "  df_labels['start_date'].fillna(method='ffill', inplace=True)\n",
      "/glade/derecho/scratch/jhayron/tmp/ipykernel_88395/2115786177.py:25: FutureWarning: Series.fillna with 'method' is deprecated and will raise in a future version. Use obj.ffill() or obj.bfill() instead.\n",
      "  df_labels['start_date'].fillna(method='ffill', inplace=True)\n",
      "/glade/derecho/scratch/jhayron/tmp/ipykernel_88395/2115786177.py:25: FutureWarning: A value is trying to be set on a copy of a DataFrame or Series through chained assignment using an inplace method.\n",
      "The behavior will change in pandas 3.0. This inplace method will never work because the intermediate object on which we are setting values always behaves as a copy.\n",
      "\n",
      "For example, when doing 'df[col].method(value, inplace=True)', try using 'df.method({col: value}, inplace=True)' or df[col] = df[col].method(value) instead, to perform the operation inplace on the original object.\n",
      "\n",
      "\n",
      "  df_labels['start_date'].fillna(method='ffill', inplace=True)\n",
      "/glade/derecho/scratch/jhayron/tmp/ipykernel_88395/2115786177.py:25: FutureWarning: Series.fillna with 'method' is deprecated and will raise in a future version. Use obj.ffill() or obj.bfill() instead.\n",
      "  df_labels['start_date'].fillna(method='ffill', inplace=True)\n",
      "/glade/derecho/scratch/jhayron/tmp/ipykernel_88395/2115786177.py:25: FutureWarning: A value is trying to be set on a copy of a DataFrame or Series through chained assignment using an inplace method.\n",
      "The behavior will change in pandas 3.0. This inplace method will never work because the intermediate object on which we are setting values always behaves as a copy.\n",
      "\n",
      "For example, when doing 'df[col].method(value, inplace=True)', try using 'df.method({col: value}, inplace=True)' or df[col] = df[col].method(value) instead, to perform the operation inplace on the original object.\n",
      "\n",
      "\n",
      "  df_labels['start_date'].fillna(method='ffill', inplace=True)\n",
      "/glade/derecho/scratch/jhayron/tmp/ipykernel_88395/2115786177.py:25: FutureWarning: Series.fillna with 'method' is deprecated and will raise in a future version. Use obj.ffill() or obj.bfill() instead.\n",
      "  df_labels['start_date'].fillna(method='ffill', inplace=True)\n",
      "/glade/derecho/scratch/jhayron/tmp/ipykernel_88395/2115786177.py:25: FutureWarning: A value is trying to be set on a copy of a DataFrame or Series through chained assignment using an inplace method.\n",
      "The behavior will change in pandas 3.0. This inplace method will never work because the intermediate object on which we are setting values always behaves as a copy.\n",
      "\n",
      "For example, when doing 'df[col].method(value, inplace=True)', try using 'df.method({col: value}, inplace=True)' or df[col] = df[col].method(value) instead, to perform the operation inplace on the original object.\n",
      "\n",
      "\n",
      "  df_labels['start_date'].fillna(method='ffill', inplace=True)\n",
      "/glade/derecho/scratch/jhayron/tmp/ipykernel_88395/2115786177.py:25: FutureWarning: Series.fillna with 'method' is deprecated and will raise in a future version. Use obj.ffill() or obj.bfill() instead.\n",
      "  df_labels['start_date'].fillna(method='ffill', inplace=True)\n",
      "/glade/derecho/scratch/jhayron/tmp/ipykernel_88395/2115786177.py:25: FutureWarning: A value is trying to be set on a copy of a DataFrame or Series through chained assignment using an inplace method.\n",
      "The behavior will change in pandas 3.0. This inplace method will never work because the intermediate object on which we are setting values always behaves as a copy.\n",
      "\n",
      "For example, when doing 'df[col].method(value, inplace=True)', try using 'df.method({col: value}, inplace=True)' or df[col] = df[col].method(value) instead, to perform the operation inplace on the original object.\n",
      "\n",
      "\n",
      "  df_labels['start_date'].fillna(method='ffill', inplace=True)\n",
      "/glade/derecho/scratch/jhayron/tmp/ipykernel_88395/2115786177.py:25: FutureWarning: Series.fillna with 'method' is deprecated and will raise in a future version. Use obj.ffill() or obj.bfill() instead.\n",
      "  df_labels['start_date'].fillna(method='ffill', inplace=True)\n",
      "/glade/derecho/scratch/jhayron/tmp/ipykernel_88395/2115786177.py:25: FutureWarning: A value is trying to be set on a copy of a DataFrame or Series through chained assignment using an inplace method.\n",
      "The behavior will change in pandas 3.0. This inplace method will never work because the intermediate object on which we are setting values always behaves as a copy.\n",
      "\n",
      "For example, when doing 'df[col].method(value, inplace=True)', try using 'df.method({col: value}, inplace=True)' or df[col] = df[col].method(value) instead, to perform the operation inplace on the original object.\n",
      "\n",
      "\n",
      "  df_labels['start_date'].fillna(method='ffill', inplace=True)\n",
      "/glade/derecho/scratch/jhayron/tmp/ipykernel_88395/2115786177.py:25: FutureWarning: Series.fillna with 'method' is deprecated and will raise in a future version. Use obj.ffill() or obj.bfill() instead.\n",
      "  df_labels['start_date'].fillna(method='ffill', inplace=True)\n",
      "/glade/derecho/scratch/jhayron/tmp/ipykernel_88395/2115786177.py:25: FutureWarning: A value is trying to be set on a copy of a DataFrame or Series through chained assignment using an inplace method.\n",
      "The behavior will change in pandas 3.0. This inplace method will never work because the intermediate object on which we are setting values always behaves as a copy.\n",
      "\n",
      "For example, when doing 'df[col].method(value, inplace=True)', try using 'df.method({col: value}, inplace=True)' or df[col] = df[col].method(value) instead, to perform the operation inplace on the original object.\n",
      "\n",
      "\n",
      "  df_labels['start_date'].fillna(method='ffill', inplace=True)\n",
      "/glade/derecho/scratch/jhayron/tmp/ipykernel_88395/2115786177.py:25: FutureWarning: Series.fillna with 'method' is deprecated and will raise in a future version. Use obj.ffill() or obj.bfill() instead.\n",
      "  df_labels['start_date'].fillna(method='ffill', inplace=True)\n",
      "/glade/derecho/scratch/jhayron/tmp/ipykernel_88395/2115786177.py:25: FutureWarning: A value is trying to be set on a copy of a DataFrame or Series through chained assignment using an inplace method.\n",
      "The behavior will change in pandas 3.0. This inplace method will never work because the intermediate object on which we are setting values always behaves as a copy.\n",
      "\n",
      "For example, when doing 'df[col].method(value, inplace=True)', try using 'df.method({col: value}, inplace=True)' or df[col] = df[col].method(value) instead, to perform the operation inplace on the original object.\n",
      "\n",
      "\n",
      "  df_labels['start_date'].fillna(method='ffill', inplace=True)\n",
      "/glade/derecho/scratch/jhayron/tmp/ipykernel_88395/2115786177.py:25: FutureWarning: Series.fillna with 'method' is deprecated and will raise in a future version. Use obj.ffill() or obj.bfill() instead.\n",
      "  df_labels['start_date'].fillna(method='ffill', inplace=True)\n",
      "/glade/derecho/scratch/jhayron/tmp/ipykernel_88395/2115786177.py:25: FutureWarning: A value is trying to be set on a copy of a DataFrame or Series through chained assignment using an inplace method.\n",
      "The behavior will change in pandas 3.0. This inplace method will never work because the intermediate object on which we are setting values always behaves as a copy.\n",
      "\n",
      "For example, when doing 'df[col].method(value, inplace=True)', try using 'df.method({col: value}, inplace=True)' or df[col] = df[col].method(value) instead, to perform the operation inplace on the original object.\n",
      "\n",
      "\n",
      "  df_labels['start_date'].fillna(method='ffill', inplace=True)\n",
      "/glade/derecho/scratch/jhayron/tmp/ipykernel_88395/2115786177.py:25: FutureWarning: Series.fillna with 'method' is deprecated and will raise in a future version. Use obj.ffill() or obj.bfill() instead.\n",
      "  df_labels['start_date'].fillna(method='ffill', inplace=True)\n",
      "/glade/derecho/scratch/jhayron/tmp/ipykernel_88395/2115786177.py:25: FutureWarning: A value is trying to be set on a copy of a DataFrame or Series through chained assignment using an inplace method.\n",
      "The behavior will change in pandas 3.0. This inplace method will never work because the intermediate object on which we are setting values always behaves as a copy.\n",
      "\n",
      "For example, when doing 'df[col].method(value, inplace=True)', try using 'df.method({col: value}, inplace=True)' or df[col] = df[col].method(value) instead, to perform the operation inplace on the original object.\n",
      "\n",
      "\n",
      "  df_labels['start_date'].fillna(method='ffill', inplace=True)\n",
      "/glade/derecho/scratch/jhayron/tmp/ipykernel_88395/2115786177.py:25: FutureWarning: Series.fillna with 'method' is deprecated and will raise in a future version. Use obj.ffill() or obj.bfill() instead.\n",
      "  df_labels['start_date'].fillna(method='ffill', inplace=True)\n",
      "/glade/derecho/scratch/jhayron/tmp/ipykernel_88395/2115786177.py:25: FutureWarning: A value is trying to be set on a copy of a DataFrame or Series through chained assignment using an inplace method.\n",
      "The behavior will change in pandas 3.0. This inplace method will never work because the intermediate object on which we are setting values always behaves as a copy.\n",
      "\n",
      "For example, when doing 'df[col].method(value, inplace=True)', try using 'df.method({col: value}, inplace=True)' or df[col] = df[col].method(value) instead, to perform the operation inplace on the original object.\n",
      "\n",
      "\n",
      "  df_labels['start_date'].fillna(method='ffill', inplace=True)\n",
      "/glade/derecho/scratch/jhayron/tmp/ipykernel_88395/2115786177.py:25: FutureWarning: Series.fillna with 'method' is deprecated and will raise in a future version. Use obj.ffill() or obj.bfill() instead.\n",
      "  df_labels['start_date'].fillna(method='ffill', inplace=True)\n",
      "/glade/derecho/scratch/jhayron/tmp/ipykernel_88395/2115786177.py:25: FutureWarning: A value is trying to be set on a copy of a DataFrame or Series through chained assignment using an inplace method.\n",
      "The behavior will change in pandas 3.0. This inplace method will never work because the intermediate object on which we are setting values always behaves as a copy.\n",
      "\n",
      "For example, when doing 'df[col].method(value, inplace=True)', try using 'df.method({col: value}, inplace=True)' or df[col] = df[col].method(value) instead, to perform the operation inplace on the original object.\n",
      "\n",
      "\n",
      "  df_labels['start_date'].fillna(method='ffill', inplace=True)\n",
      "/glade/derecho/scratch/jhayron/tmp/ipykernel_88395/2115786177.py:25: FutureWarning: Series.fillna with 'method' is deprecated and will raise in a future version. Use obj.ffill() or obj.bfill() instead.\n",
      "  df_labels['start_date'].fillna(method='ffill', inplace=True)\n",
      "/glade/derecho/scratch/jhayron/tmp/ipykernel_88395/2115786177.py:25: FutureWarning: A value is trying to be set on a copy of a DataFrame or Series through chained assignment using an inplace method.\n",
      "The behavior will change in pandas 3.0. This inplace method will never work because the intermediate object on which we are setting values always behaves as a copy.\n",
      "\n",
      "For example, when doing 'df[col].method(value, inplace=True)', try using 'df.method({col: value}, inplace=True)' or df[col] = df[col].method(value) instead, to perform the operation inplace on the original object.\n",
      "\n",
      "\n",
      "  df_labels['start_date'].fillna(method='ffill', inplace=True)\n",
      "/glade/derecho/scratch/jhayron/tmp/ipykernel_88395/2115786177.py:25: FutureWarning: Series.fillna with 'method' is deprecated and will raise in a future version. Use obj.ffill() or obj.bfill() instead.\n",
      "  df_labels['start_date'].fillna(method='ffill', inplace=True)\n",
      "/glade/derecho/scratch/jhayron/tmp/ipykernel_88395/2115786177.py:25: FutureWarning: A value is trying to be set on a copy of a DataFrame or Series through chained assignment using an inplace method.\n",
      "The behavior will change in pandas 3.0. This inplace method will never work because the intermediate object on which we are setting values always behaves as a copy.\n",
      "\n",
      "For example, when doing 'df[col].method(value, inplace=True)', try using 'df.method({col: value}, inplace=True)' or df[col] = df[col].method(value) instead, to perform the operation inplace on the original object.\n",
      "\n",
      "\n",
      "  df_labels['start_date'].fillna(method='ffill', inplace=True)\n",
      "/glade/derecho/scratch/jhayron/tmp/ipykernel_88395/2115786177.py:25: FutureWarning: Series.fillna with 'method' is deprecated and will raise in a future version. Use obj.ffill() or obj.bfill() instead.\n",
      "  df_labels['start_date'].fillna(method='ffill', inplace=True)\n",
      "/glade/derecho/scratch/jhayron/tmp/ipykernel_88395/2115786177.py:25: FutureWarning: A value is trying to be set on a copy of a DataFrame or Series through chained assignment using an inplace method.\n",
      "The behavior will change in pandas 3.0. This inplace method will never work because the intermediate object on which we are setting values always behaves as a copy.\n",
      "\n",
      "For example, when doing 'df[col].method(value, inplace=True)', try using 'df.method({col: value}, inplace=True)' or df[col] = df[col].method(value) instead, to perform the operation inplace on the original object.\n",
      "\n",
      "\n",
      "  df_labels['start_date'].fillna(method='ffill', inplace=True)\n",
      "/glade/derecho/scratch/jhayron/tmp/ipykernel_88395/2115786177.py:25: FutureWarning: Series.fillna with 'method' is deprecated and will raise in a future version. Use obj.ffill() or obj.bfill() instead.\n",
      "  df_labels['start_date'].fillna(method='ffill', inplace=True)\n",
      "/glade/derecho/scratch/jhayron/tmp/ipykernel_88395/2115786177.py:25: FutureWarning: A value is trying to be set on a copy of a DataFrame or Series through chained assignment using an inplace method.\n",
      "The behavior will change in pandas 3.0. This inplace method will never work because the intermediate object on which we are setting values always behaves as a copy.\n",
      "\n",
      "For example, when doing 'df[col].method(value, inplace=True)', try using 'df.method({col: value}, inplace=True)' or df[col] = df[col].method(value) instead, to perform the operation inplace on the original object.\n",
      "\n",
      "\n",
      "  df_labels['start_date'].fillna(method='ffill', inplace=True)\n",
      "/glade/derecho/scratch/jhayron/tmp/ipykernel_88395/2115786177.py:25: FutureWarning: Series.fillna with 'method' is deprecated and will raise in a future version. Use obj.ffill() or obj.bfill() instead.\n",
      "  df_labels['start_date'].fillna(method='ffill', inplace=True)\n",
      "/glade/derecho/scratch/jhayron/tmp/ipykernel_88395/2115786177.py:25: FutureWarning: A value is trying to be set on a copy of a DataFrame or Series through chained assignment using an inplace method.\n",
      "The behavior will change in pandas 3.0. This inplace method will never work because the intermediate object on which we are setting values always behaves as a copy.\n",
      "\n",
      "For example, when doing 'df[col].method(value, inplace=True)', try using 'df.method({col: value}, inplace=True)' or df[col] = df[col].method(value) instead, to perform the operation inplace on the original object.\n",
      "\n",
      "\n",
      "  df_labels['start_date'].fillna(method='ffill', inplace=True)\n",
      "/glade/derecho/scratch/jhayron/tmp/ipykernel_88395/2115786177.py:25: FutureWarning: Series.fillna with 'method' is deprecated and will raise in a future version. Use obj.ffill() or obj.bfill() instead.\n",
      "  df_labels['start_date'].fillna(method='ffill', inplace=True)\n",
      "/glade/derecho/scratch/jhayron/tmp/ipykernel_88395/2115786177.py:25: FutureWarning: A value is trying to be set on a copy of a DataFrame or Series through chained assignment using an inplace method.\n",
      "The behavior will change in pandas 3.0. This inplace method will never work because the intermediate object on which we are setting values always behaves as a copy.\n",
      "\n",
      "For example, when doing 'df[col].method(value, inplace=True)', try using 'df.method({col: value}, inplace=True)' or df[col] = df[col].method(value) instead, to perform the operation inplace on the original object.\n",
      "\n",
      "\n",
      "  df_labels['start_date'].fillna(method='ffill', inplace=True)\n",
      "/glade/derecho/scratch/jhayron/tmp/ipykernel_88395/2115786177.py:25: FutureWarning: Series.fillna with 'method' is deprecated and will raise in a future version. Use obj.ffill() or obj.bfill() instead.\n",
      "  df_labels['start_date'].fillna(method='ffill', inplace=True)\n",
      "/glade/derecho/scratch/jhayron/tmp/ipykernel_88395/2115786177.py:25: FutureWarning: A value is trying to be set on a copy of a DataFrame or Series through chained assignment using an inplace method.\n",
      "The behavior will change in pandas 3.0. This inplace method will never work because the intermediate object on which we are setting values always behaves as a copy.\n",
      "\n",
      "For example, when doing 'df[col].method(value, inplace=True)', try using 'df.method({col: value}, inplace=True)' or df[col] = df[col].method(value) instead, to perform the operation inplace on the original object.\n",
      "\n",
      "\n",
      "  df_labels['start_date'].fillna(method='ffill', inplace=True)\n",
      "/glade/derecho/scratch/jhayron/tmp/ipykernel_88395/2115786177.py:25: FutureWarning: Series.fillna with 'method' is deprecated and will raise in a future version. Use obj.ffill() or obj.bfill() instead.\n",
      "  df_labels['start_date'].fillna(method='ffill', inplace=True)\n",
      "/glade/derecho/scratch/jhayron/tmp/ipykernel_88395/2115786177.py:25: FutureWarning: A value is trying to be set on a copy of a DataFrame or Series through chained assignment using an inplace method.\n",
      "The behavior will change in pandas 3.0. This inplace method will never work because the intermediate object on which we are setting values always behaves as a copy.\n",
      "\n",
      "For example, when doing 'df[col].method(value, inplace=True)', try using 'df.method({col: value}, inplace=True)' or df[col] = df[col].method(value) instead, to perform the operation inplace on the original object.\n",
      "\n",
      "\n",
      "  df_labels['start_date'].fillna(method='ffill', inplace=True)\n",
      "/glade/derecho/scratch/jhayron/tmp/ipykernel_88395/2115786177.py:25: FutureWarning: Series.fillna with 'method' is deprecated and will raise in a future version. Use obj.ffill() or obj.bfill() instead.\n",
      "  df_labels['start_date'].fillna(method='ffill', inplace=True)\n",
      "/glade/derecho/scratch/jhayron/tmp/ipykernel_88395/2115786177.py:25: FutureWarning: A value is trying to be set on a copy of a DataFrame or Series through chained assignment using an inplace method.\n",
      "The behavior will change in pandas 3.0. This inplace method will never work because the intermediate object on which we are setting values always behaves as a copy.\n",
      "\n",
      "For example, when doing 'df[col].method(value, inplace=True)', try using 'df.method({col: value}, inplace=True)' or df[col] = df[col].method(value) instead, to perform the operation inplace on the original object.\n",
      "\n",
      "\n",
      "  df_labels['start_date'].fillna(method='ffill', inplace=True)\n",
      "/glade/derecho/scratch/jhayron/tmp/ipykernel_88395/2115786177.py:25: FutureWarning: Series.fillna with 'method' is deprecated and will raise in a future version. Use obj.ffill() or obj.bfill() instead.\n",
      "  df_labels['start_date'].fillna(method='ffill', inplace=True)\n",
      "/glade/derecho/scratch/jhayron/tmp/ipykernel_88395/2115786177.py:25: FutureWarning: A value is trying to be set on a copy of a DataFrame or Series through chained assignment using an inplace method.\n",
      "The behavior will change in pandas 3.0. This inplace method will never work because the intermediate object on which we are setting values always behaves as a copy.\n",
      "\n",
      "For example, when doing 'df[col].method(value, inplace=True)', try using 'df.method({col: value}, inplace=True)' or df[col] = df[col].method(value) instead, to perform the operation inplace on the original object.\n",
      "\n",
      "\n",
      "  df_labels['start_date'].fillna(method='ffill', inplace=True)\n",
      "/glade/derecho/scratch/jhayron/tmp/ipykernel_88395/2115786177.py:25: FutureWarning: Series.fillna with 'method' is deprecated and will raise in a future version. Use obj.ffill() or obj.bfill() instead.\n",
      "  df_labels['start_date'].fillna(method='ffill', inplace=True)\n",
      "/glade/derecho/scratch/jhayron/tmp/ipykernel_88395/2115786177.py:25: FutureWarning: A value is trying to be set on a copy of a DataFrame or Series through chained assignment using an inplace method.\n",
      "The behavior will change in pandas 3.0. This inplace method will never work because the intermediate object on which we are setting values always behaves as a copy.\n",
      "\n",
      "For example, when doing 'df[col].method(value, inplace=True)', try using 'df.method({col: value}, inplace=True)' or df[col] = df[col].method(value) instead, to perform the operation inplace on the original object.\n",
      "\n",
      "\n",
      "  df_labels['start_date'].fillna(method='ffill', inplace=True)\n",
      "/glade/derecho/scratch/jhayron/tmp/ipykernel_88395/2115786177.py:25: FutureWarning: Series.fillna with 'method' is deprecated and will raise in a future version. Use obj.ffill() or obj.bfill() instead.\n",
      "  df_labels['start_date'].fillna(method='ffill', inplace=True)\n",
      "/glade/derecho/scratch/jhayron/tmp/ipykernel_88395/2115786177.py:25: FutureWarning: A value is trying to be set on a copy of a DataFrame or Series through chained assignment using an inplace method.\n",
      "The behavior will change in pandas 3.0. This inplace method will never work because the intermediate object on which we are setting values always behaves as a copy.\n",
      "\n",
      "For example, when doing 'df[col].method(value, inplace=True)', try using 'df.method({col: value}, inplace=True)' or df[col] = df[col].method(value) instead, to perform the operation inplace on the original object.\n",
      "\n",
      "\n",
      "  df_labels['start_date'].fillna(method='ffill', inplace=True)\n",
      "/glade/derecho/scratch/jhayron/tmp/ipykernel_88395/2115786177.py:25: FutureWarning: Series.fillna with 'method' is deprecated and will raise in a future version. Use obj.ffill() or obj.bfill() instead.\n",
      "  df_labels['start_date'].fillna(method='ffill', inplace=True)\n",
      "/glade/derecho/scratch/jhayron/tmp/ipykernel_88395/2115786177.py:25: FutureWarning: A value is trying to be set on a copy of a DataFrame or Series through chained assignment using an inplace method.\n",
      "The behavior will change in pandas 3.0. This inplace method will never work because the intermediate object on which we are setting values always behaves as a copy.\n",
      "\n",
      "For example, when doing 'df[col].method(value, inplace=True)', try using 'df.method({col: value}, inplace=True)' or df[col] = df[col].method(value) instead, to perform the operation inplace on the original object.\n",
      "\n",
      "\n",
      "  df_labels['start_date'].fillna(method='ffill', inplace=True)\n",
      "/glade/derecho/scratch/jhayron/tmp/ipykernel_88395/2115786177.py:25: FutureWarning: Series.fillna with 'method' is deprecated and will raise in a future version. Use obj.ffill() or obj.bfill() instead.\n",
      "  df_labels['start_date'].fillna(method='ffill', inplace=True)\n",
      "/glade/derecho/scratch/jhayron/tmp/ipykernel_88395/2115786177.py:25: FutureWarning: A value is trying to be set on a copy of a DataFrame or Series through chained assignment using an inplace method.\n",
      "The behavior will change in pandas 3.0. This inplace method will never work because the intermediate object on which we are setting values always behaves as a copy.\n",
      "\n",
      "For example, when doing 'df[col].method(value, inplace=True)', try using 'df.method({col: value}, inplace=True)' or df[col] = df[col].method(value) instead, to perform the operation inplace on the original object.\n",
      "\n",
      "\n",
      "  df_labels['start_date'].fillna(method='ffill', inplace=True)\n",
      "/glade/derecho/scratch/jhayron/tmp/ipykernel_88395/2115786177.py:25: FutureWarning: Series.fillna with 'method' is deprecated and will raise in a future version. Use obj.ffill() or obj.bfill() instead.\n",
      "  df_labels['start_date'].fillna(method='ffill', inplace=True)\n",
      "/glade/derecho/scratch/jhayron/tmp/ipykernel_88395/2115786177.py:25: FutureWarning: A value is trying to be set on a copy of a DataFrame or Series through chained assignment using an inplace method.\n",
      "The behavior will change in pandas 3.0. This inplace method will never work because the intermediate object on which we are setting values always behaves as a copy.\n",
      "\n",
      "For example, when doing 'df[col].method(value, inplace=True)', try using 'df.method({col: value}, inplace=True)' or df[col] = df[col].method(value) instead, to perform the operation inplace on the original object.\n",
      "\n",
      "\n",
      "  df_labels['start_date'].fillna(method='ffill', inplace=True)\n",
      "/glade/derecho/scratch/jhayron/tmp/ipykernel_88395/2115786177.py:25: FutureWarning: Series.fillna with 'method' is deprecated and will raise in a future version. Use obj.ffill() or obj.bfill() instead.\n",
      "  df_labels['start_date'].fillna(method='ffill', inplace=True)\n",
      "/glade/derecho/scratch/jhayron/tmp/ipykernel_88395/2115786177.py:25: FutureWarning: A value is trying to be set on a copy of a DataFrame or Series through chained assignment using an inplace method.\n",
      "The behavior will change in pandas 3.0. This inplace method will never work because the intermediate object on which we are setting values always behaves as a copy.\n",
      "\n",
      "For example, when doing 'df[col].method(value, inplace=True)', try using 'df.method({col: value}, inplace=True)' or df[col] = df[col].method(value) instead, to perform the operation inplace on the original object.\n",
      "\n",
      "\n",
      "  df_labels['start_date'].fillna(method='ffill', inplace=True)\n",
      "/glade/derecho/scratch/jhayron/tmp/ipykernel_88395/2115786177.py:25: FutureWarning: Series.fillna with 'method' is deprecated and will raise in a future version. Use obj.ffill() or obj.bfill() instead.\n",
      "  df_labels['start_date'].fillna(method='ffill', inplace=True)\n",
      "/glade/derecho/scratch/jhayron/tmp/ipykernel_88395/2115786177.py:25: FutureWarning: A value is trying to be set on a copy of a DataFrame or Series through chained assignment using an inplace method.\n",
      "The behavior will change in pandas 3.0. This inplace method will never work because the intermediate object on which we are setting values always behaves as a copy.\n",
      "\n",
      "For example, when doing 'df[col].method(value, inplace=True)', try using 'df.method({col: value}, inplace=True)' or df[col] = df[col].method(value) instead, to perform the operation inplace on the original object.\n",
      "\n",
      "\n",
      "  df_labels['start_date'].fillna(method='ffill', inplace=True)\n",
      "/glade/derecho/scratch/jhayron/tmp/ipykernel_88395/2115786177.py:25: FutureWarning: Series.fillna with 'method' is deprecated and will raise in a future version. Use obj.ffill() or obj.bfill() instead.\n",
      "  df_labels['start_date'].fillna(method='ffill', inplace=True)\n",
      "/glade/derecho/scratch/jhayron/tmp/ipykernel_88395/2115786177.py:25: FutureWarning: A value is trying to be set on a copy of a DataFrame or Series through chained assignment using an inplace method.\n",
      "The behavior will change in pandas 3.0. This inplace method will never work because the intermediate object on which we are setting values always behaves as a copy.\n",
      "\n",
      "For example, when doing 'df[col].method(value, inplace=True)', try using 'df.method({col: value}, inplace=True)' or df[col] = df[col].method(value) instead, to perform the operation inplace on the original object.\n",
      "\n",
      "\n",
      "  df_labels['start_date'].fillna(method='ffill', inplace=True)\n",
      "/glade/derecho/scratch/jhayron/tmp/ipykernel_88395/2115786177.py:25: FutureWarning: Series.fillna with 'method' is deprecated and will raise in a future version. Use obj.ffill() or obj.bfill() instead.\n",
      "  df_labels['start_date'].fillna(method='ffill', inplace=True)\n",
      "/glade/derecho/scratch/jhayron/tmp/ipykernel_88395/2115786177.py:25: FutureWarning: A value is trying to be set on a copy of a DataFrame or Series through chained assignment using an inplace method.\n",
      "The behavior will change in pandas 3.0. This inplace method will never work because the intermediate object on which we are setting values always behaves as a copy.\n",
      "\n",
      "For example, when doing 'df[col].method(value, inplace=True)', try using 'df.method({col: value}, inplace=True)' or df[col] = df[col].method(value) instead, to perform the operation inplace on the original object.\n",
      "\n",
      "\n",
      "  df_labels['start_date'].fillna(method='ffill', inplace=True)\n",
      "/glade/derecho/scratch/jhayron/tmp/ipykernel_88395/2115786177.py:25: FutureWarning: Series.fillna with 'method' is deprecated and will raise in a future version. Use obj.ffill() or obj.bfill() instead.\n",
      "  df_labels['start_date'].fillna(method='ffill', inplace=True)\n",
      "/glade/derecho/scratch/jhayron/tmp/ipykernel_88395/2115786177.py:25: FutureWarning: A value is trying to be set on a copy of a DataFrame or Series through chained assignment using an inplace method.\n",
      "The behavior will change in pandas 3.0. This inplace method will never work because the intermediate object on which we are setting values always behaves as a copy.\n",
      "\n",
      "For example, when doing 'df[col].method(value, inplace=True)', try using 'df.method({col: value}, inplace=True)' or df[col] = df[col].method(value) instead, to perform the operation inplace on the original object.\n",
      "\n",
      "\n",
      "  df_labels['start_date'].fillna(method='ffill', inplace=True)\n",
      "/glade/derecho/scratch/jhayron/tmp/ipykernel_88395/2115786177.py:25: FutureWarning: Series.fillna with 'method' is deprecated and will raise in a future version. Use obj.ffill() or obj.bfill() instead.\n",
      "  df_labels['start_date'].fillna(method='ffill', inplace=True)\n",
      "/glade/derecho/scratch/jhayron/tmp/ipykernel_88395/2115786177.py:25: FutureWarning: A value is trying to be set on a copy of a DataFrame or Series through chained assignment using an inplace method.\n",
      "The behavior will change in pandas 3.0. This inplace method will never work because the intermediate object on which we are setting values always behaves as a copy.\n",
      "\n",
      "For example, when doing 'df[col].method(value, inplace=True)', try using 'df.method({col: value}, inplace=True)' or df[col] = df[col].method(value) instead, to perform the operation inplace on the original object.\n",
      "\n",
      "\n",
      "  df_labels['start_date'].fillna(method='ffill', inplace=True)\n",
      "/glade/derecho/scratch/jhayron/tmp/ipykernel_88395/2115786177.py:25: FutureWarning: Series.fillna with 'method' is deprecated and will raise in a future version. Use obj.ffill() or obj.bfill() instead.\n",
      "  df_labels['start_date'].fillna(method='ffill', inplace=True)\n",
      "/glade/derecho/scratch/jhayron/tmp/ipykernel_88395/2115786177.py:25: FutureWarning: A value is trying to be set on a copy of a DataFrame or Series through chained assignment using an inplace method.\n",
      "The behavior will change in pandas 3.0. This inplace method will never work because the intermediate object on which we are setting values always behaves as a copy.\n",
      "\n",
      "For example, when doing 'df[col].method(value, inplace=True)', try using 'df.method({col: value}, inplace=True)' or df[col] = df[col].method(value) instead, to perform the operation inplace on the original object.\n",
      "\n",
      "\n",
      "  df_labels['start_date'].fillna(method='ffill', inplace=True)\n",
      "/glade/derecho/scratch/jhayron/tmp/ipykernel_88395/2115786177.py:25: FutureWarning: Series.fillna with 'method' is deprecated and will raise in a future version. Use obj.ffill() or obj.bfill() instead.\n",
      "  df_labels['start_date'].fillna(method='ffill', inplace=True)\n",
      "/glade/derecho/scratch/jhayron/tmp/ipykernel_88395/2115786177.py:25: FutureWarning: A value is trying to be set on a copy of a DataFrame or Series through chained assignment using an inplace method.\n",
      "The behavior will change in pandas 3.0. This inplace method will never work because the intermediate object on which we are setting values always behaves as a copy.\n",
      "\n",
      "For example, when doing 'df[col].method(value, inplace=True)', try using 'df.method({col: value}, inplace=True)' or df[col] = df[col].method(value) instead, to perform the operation inplace on the original object.\n",
      "\n",
      "\n",
      "  df_labels['start_date'].fillna(method='ffill', inplace=True)\n",
      "/glade/derecho/scratch/jhayron/tmp/ipykernel_88395/2115786177.py:25: FutureWarning: Series.fillna with 'method' is deprecated and will raise in a future version. Use obj.ffill() or obj.bfill() instead.\n",
      "  df_labels['start_date'].fillna(method='ffill', inplace=True)\n",
      "/glade/derecho/scratch/jhayron/tmp/ipykernel_88395/2115786177.py:25: FutureWarning: A value is trying to be set on a copy of a DataFrame or Series through chained assignment using an inplace method.\n",
      "The behavior will change in pandas 3.0. This inplace method will never work because the intermediate object on which we are setting values always behaves as a copy.\n",
      "\n",
      "For example, when doing 'df[col].method(value, inplace=True)', try using 'df.method({col: value}, inplace=True)' or df[col] = df[col].method(value) instead, to perform the operation inplace on the original object.\n",
      "\n",
      "\n",
      "  df_labels['start_date'].fillna(method='ffill', inplace=True)\n",
      "/glade/derecho/scratch/jhayron/tmp/ipykernel_88395/2115786177.py:25: FutureWarning: Series.fillna with 'method' is deprecated and will raise in a future version. Use obj.ffill() or obj.bfill() instead.\n",
      "  df_labels['start_date'].fillna(method='ffill', inplace=True)\n",
      "/glade/derecho/scratch/jhayron/tmp/ipykernel_88395/2115786177.py:25: FutureWarning: A value is trying to be set on a copy of a DataFrame or Series through chained assignment using an inplace method.\n",
      "The behavior will change in pandas 3.0. This inplace method will never work because the intermediate object on which we are setting values always behaves as a copy.\n",
      "\n",
      "For example, when doing 'df[col].method(value, inplace=True)', try using 'df.method({col: value}, inplace=True)' or df[col] = df[col].method(value) instead, to perform the operation inplace on the original object.\n",
      "\n",
      "\n",
      "  df_labels['start_date'].fillna(method='ffill', inplace=True)\n",
      "/glade/derecho/scratch/jhayron/tmp/ipykernel_88395/2115786177.py:25: FutureWarning: Series.fillna with 'method' is deprecated and will raise in a future version. Use obj.ffill() or obj.bfill() instead.\n",
      "  df_labels['start_date'].fillna(method='ffill', inplace=True)\n",
      "/glade/derecho/scratch/jhayron/tmp/ipykernel_88395/2115786177.py:25: FutureWarning: A value is trying to be set on a copy of a DataFrame or Series through chained assignment using an inplace method.\n",
      "The behavior will change in pandas 3.0. This inplace method will never work because the intermediate object on which we are setting values always behaves as a copy.\n",
      "\n",
      "For example, when doing 'df[col].method(value, inplace=True)', try using 'df.method({col: value}, inplace=True)' or df[col] = df[col].method(value) instead, to perform the operation inplace on the original object.\n",
      "\n",
      "\n",
      "  df_labels['start_date'].fillna(method='ffill', inplace=True)\n",
      "/glade/derecho/scratch/jhayron/tmp/ipykernel_88395/2115786177.py:25: FutureWarning: Series.fillna with 'method' is deprecated and will raise in a future version. Use obj.ffill() or obj.bfill() instead.\n",
      "  df_labels['start_date'].fillna(method='ffill', inplace=True)\n",
      "/glade/derecho/scratch/jhayron/tmp/ipykernel_88395/2115786177.py:25: FutureWarning: A value is trying to be set on a copy of a DataFrame or Series through chained assignment using an inplace method.\n",
      "The behavior will change in pandas 3.0. This inplace method will never work because the intermediate object on which we are setting values always behaves as a copy.\n",
      "\n",
      "For example, when doing 'df[col].method(value, inplace=True)', try using 'df.method({col: value}, inplace=True)' or df[col] = df[col].method(value) instead, to perform the operation inplace on the original object.\n",
      "\n",
      "\n",
      "  df_labels['start_date'].fillna(method='ffill', inplace=True)\n",
      "/glade/derecho/scratch/jhayron/tmp/ipykernel_88395/2115786177.py:25: FutureWarning: Series.fillna with 'method' is deprecated and will raise in a future version. Use obj.ffill() or obj.bfill() instead.\n",
      "  df_labels['start_date'].fillna(method='ffill', inplace=True)\n",
      "/glade/derecho/scratch/jhayron/tmp/ipykernel_88395/2115786177.py:25: FutureWarning: A value is trying to be set on a copy of a DataFrame or Series through chained assignment using an inplace method.\n",
      "The behavior will change in pandas 3.0. This inplace method will never work because the intermediate object on which we are setting values always behaves as a copy.\n",
      "\n",
      "For example, when doing 'df[col].method(value, inplace=True)', try using 'df.method({col: value}, inplace=True)' or df[col] = df[col].method(value) instead, to perform the operation inplace on the original object.\n",
      "\n",
      "\n",
      "  df_labels['start_date'].fillna(method='ffill', inplace=True)\n",
      "/glade/derecho/scratch/jhayron/tmp/ipykernel_88395/2115786177.py:25: FutureWarning: Series.fillna with 'method' is deprecated and will raise in a future version. Use obj.ffill() or obj.bfill() instead.\n",
      "  df_labels['start_date'].fillna(method='ffill', inplace=True)\n",
      "/glade/derecho/scratch/jhayron/tmp/ipykernel_88395/2115786177.py:25: FutureWarning: A value is trying to be set on a copy of a DataFrame or Series through chained assignment using an inplace method.\n",
      "The behavior will change in pandas 3.0. This inplace method will never work because the intermediate object on which we are setting values always behaves as a copy.\n",
      "\n",
      "For example, when doing 'df[col].method(value, inplace=True)', try using 'df.method({col: value}, inplace=True)' or df[col] = df[col].method(value) instead, to perform the operation inplace on the original object.\n",
      "\n",
      "\n",
      "  df_labels['start_date'].fillna(method='ffill', inplace=True)\n",
      "/glade/derecho/scratch/jhayron/tmp/ipykernel_88395/2115786177.py:25: FutureWarning: Series.fillna with 'method' is deprecated and will raise in a future version. Use obj.ffill() or obj.bfill() instead.\n",
      "  df_labels['start_date'].fillna(method='ffill', inplace=True)\n",
      "/glade/derecho/scratch/jhayron/tmp/ipykernel_88395/2115786177.py:25: FutureWarning: A value is trying to be set on a copy of a DataFrame or Series through chained assignment using an inplace method.\n",
      "The behavior will change in pandas 3.0. This inplace method will never work because the intermediate object on which we are setting values always behaves as a copy.\n",
      "\n",
      "For example, when doing 'df[col].method(value, inplace=True)', try using 'df.method({col: value}, inplace=True)' or df[col] = df[col].method(value) instead, to perform the operation inplace on the original object.\n",
      "\n",
      "\n",
      "  df_labels['start_date'].fillna(method='ffill', inplace=True)\n",
      "/glade/derecho/scratch/jhayron/tmp/ipykernel_88395/2115786177.py:25: FutureWarning: Series.fillna with 'method' is deprecated and will raise in a future version. Use obj.ffill() or obj.bfill() instead.\n",
      "  df_labels['start_date'].fillna(method='ffill', inplace=True)\n",
      "/glade/derecho/scratch/jhayron/tmp/ipykernel_88395/2115786177.py:25: FutureWarning: A value is trying to be set on a copy of a DataFrame or Series through chained assignment using an inplace method.\n",
      "The behavior will change in pandas 3.0. This inplace method will never work because the intermediate object on which we are setting values always behaves as a copy.\n",
      "\n",
      "For example, when doing 'df[col].method(value, inplace=True)', try using 'df.method({col: value}, inplace=True)' or df[col] = df[col].method(value) instead, to perform the operation inplace on the original object.\n",
      "\n",
      "\n",
      "  df_labels['start_date'].fillna(method='ffill', inplace=True)\n",
      "/glade/derecho/scratch/jhayron/tmp/ipykernel_88395/2115786177.py:25: FutureWarning: Series.fillna with 'method' is deprecated and will raise in a future version. Use obj.ffill() or obj.bfill() instead.\n",
      "  df_labels['start_date'].fillna(method='ffill', inplace=True)\n",
      "/glade/derecho/scratch/jhayron/tmp/ipykernel_88395/2115786177.py:25: FutureWarning: A value is trying to be set on a copy of a DataFrame or Series through chained assignment using an inplace method.\n",
      "The behavior will change in pandas 3.0. This inplace method will never work because the intermediate object on which we are setting values always behaves as a copy.\n",
      "\n",
      "For example, when doing 'df[col].method(value, inplace=True)', try using 'df.method({col: value}, inplace=True)' or df[col] = df[col].method(value) instead, to perform the operation inplace on the original object.\n",
      "\n",
      "\n",
      "  df_labels['start_date'].fillna(method='ffill', inplace=True)\n",
      "/glade/derecho/scratch/jhayron/tmp/ipykernel_88395/2115786177.py:25: FutureWarning: Series.fillna with 'method' is deprecated and will raise in a future version. Use obj.ffill() or obj.bfill() instead.\n",
      "  df_labels['start_date'].fillna(method='ffill', inplace=True)\n",
      "/glade/derecho/scratch/jhayron/tmp/ipykernel_88395/2115786177.py:25: FutureWarning: A value is trying to be set on a copy of a DataFrame or Series through chained assignment using an inplace method.\n",
      "The behavior will change in pandas 3.0. This inplace method will never work because the intermediate object on which we are setting values always behaves as a copy.\n",
      "\n",
      "For example, when doing 'df[col].method(value, inplace=True)', try using 'df.method({col: value}, inplace=True)' or df[col] = df[col].method(value) instead, to perform the operation inplace on the original object.\n",
      "\n",
      "\n",
      "  df_labels['start_date'].fillna(method='ffill', inplace=True)\n",
      "/glade/derecho/scratch/jhayron/tmp/ipykernel_88395/2115786177.py:25: FutureWarning: Series.fillna with 'method' is deprecated and will raise in a future version. Use obj.ffill() or obj.bfill() instead.\n",
      "  df_labels['start_date'].fillna(method='ffill', inplace=True)\n",
      "/glade/derecho/scratch/jhayron/tmp/ipykernel_88395/2115786177.py:25: FutureWarning: A value is trying to be set on a copy of a DataFrame or Series through chained assignment using an inplace method.\n",
      "The behavior will change in pandas 3.0. This inplace method will never work because the intermediate object on which we are setting values always behaves as a copy.\n",
      "\n",
      "For example, when doing 'df[col].method(value, inplace=True)', try using 'df.method({col: value}, inplace=True)' or df[col] = df[col].method(value) instead, to perform the operation inplace on the original object.\n",
      "\n",
      "\n",
      "  df_labels['start_date'].fillna(method='ffill', inplace=True)\n",
      "/glade/derecho/scratch/jhayron/tmp/ipykernel_88395/2115786177.py:25: FutureWarning: Series.fillna with 'method' is deprecated and will raise in a future version. Use obj.ffill() or obj.bfill() instead.\n",
      "  df_labels['start_date'].fillna(method='ffill', inplace=True)\n",
      "/glade/derecho/scratch/jhayron/tmp/ipykernel_88395/2115786177.py:25: FutureWarning: A value is trying to be set on a copy of a DataFrame or Series through chained assignment using an inplace method.\n",
      "The behavior will change in pandas 3.0. This inplace method will never work because the intermediate object on which we are setting values always behaves as a copy.\n",
      "\n",
      "For example, when doing 'df[col].method(value, inplace=True)', try using 'df.method({col: value}, inplace=True)' or df[col] = df[col].method(value) instead, to perform the operation inplace on the original object.\n",
      "\n",
      "\n",
      "  df_labels['start_date'].fillna(method='ffill', inplace=True)\n",
      "/glade/derecho/scratch/jhayron/tmp/ipykernel_88395/2115786177.py:25: FutureWarning: Series.fillna with 'method' is deprecated and will raise in a future version. Use obj.ffill() or obj.bfill() instead.\n",
      "  df_labels['start_date'].fillna(method='ffill', inplace=True)\n",
      "/glade/derecho/scratch/jhayron/tmp/ipykernel_88395/2115786177.py:25: FutureWarning: A value is trying to be set on a copy of a DataFrame or Series through chained assignment using an inplace method.\n",
      "The behavior will change in pandas 3.0. This inplace method will never work because the intermediate object on which we are setting values always behaves as a copy.\n",
      "\n",
      "For example, when doing 'df[col].method(value, inplace=True)', try using 'df.method({col: value}, inplace=True)' or df[col] = df[col].method(value) instead, to perform the operation inplace on the original object.\n",
      "\n",
      "\n",
      "  df_labels['start_date'].fillna(method='ffill', inplace=True)\n",
      "/glade/derecho/scratch/jhayron/tmp/ipykernel_88395/2115786177.py:25: FutureWarning: Series.fillna with 'method' is deprecated and will raise in a future version. Use obj.ffill() or obj.bfill() instead.\n",
      "  df_labels['start_date'].fillna(method='ffill', inplace=True)\n",
      "/glade/derecho/scratch/jhayron/tmp/ipykernel_88395/2115786177.py:25: FutureWarning: A value is trying to be set on a copy of a DataFrame or Series through chained assignment using an inplace method.\n",
      "The behavior will change in pandas 3.0. This inplace method will never work because the intermediate object on which we are setting values always behaves as a copy.\n",
      "\n",
      "For example, when doing 'df[col].method(value, inplace=True)', try using 'df.method({col: value}, inplace=True)' or df[col] = df[col].method(value) instead, to perform the operation inplace on the original object.\n",
      "\n",
      "\n",
      "  df_labels['start_date'].fillna(method='ffill', inplace=True)\n",
      "/glade/derecho/scratch/jhayron/tmp/ipykernel_88395/2115786177.py:25: FutureWarning: Series.fillna with 'method' is deprecated and will raise in a future version. Use obj.ffill() or obj.bfill() instead.\n",
      "  df_labels['start_date'].fillna(method='ffill', inplace=True)\n",
      "/glade/derecho/scratch/jhayron/tmp/ipykernel_88395/2115786177.py:25: FutureWarning: A value is trying to be set on a copy of a DataFrame or Series through chained assignment using an inplace method.\n",
      "The behavior will change in pandas 3.0. This inplace method will never work because the intermediate object on which we are setting values always behaves as a copy.\n",
      "\n",
      "For example, when doing 'df[col].method(value, inplace=True)', try using 'df.method({col: value}, inplace=True)' or df[col] = df[col].method(value) instead, to perform the operation inplace on the original object.\n",
      "\n",
      "\n",
      "  df_labels['start_date'].fillna(method='ffill', inplace=True)\n",
      "/glade/derecho/scratch/jhayron/tmp/ipykernel_88395/2115786177.py:25: FutureWarning: Series.fillna with 'method' is deprecated and will raise in a future version. Use obj.ffill() or obj.bfill() instead.\n",
      "  df_labels['start_date'].fillna(method='ffill', inplace=True)\n",
      "/glade/derecho/scratch/jhayron/tmp/ipykernel_88395/2115786177.py:25: FutureWarning: A value is trying to be set on a copy of a DataFrame or Series through chained assignment using an inplace method.\n",
      "The behavior will change in pandas 3.0. This inplace method will never work because the intermediate object on which we are setting values always behaves as a copy.\n",
      "\n",
      "For example, when doing 'df[col].method(value, inplace=True)', try using 'df.method({col: value}, inplace=True)' or df[col] = df[col].method(value) instead, to perform the operation inplace on the original object.\n",
      "\n",
      "\n",
      "  df_labels['start_date'].fillna(method='ffill', inplace=True)\n",
      "/glade/derecho/scratch/jhayron/tmp/ipykernel_88395/2115786177.py:25: FutureWarning: Series.fillna with 'method' is deprecated and will raise in a future version. Use obj.ffill() or obj.bfill() instead.\n",
      "  df_labels['start_date'].fillna(method='ffill', inplace=True)\n",
      "/glade/derecho/scratch/jhayron/tmp/ipykernel_88395/2115786177.py:25: FutureWarning: A value is trying to be set on a copy of a DataFrame or Series through chained assignment using an inplace method.\n",
      "The behavior will change in pandas 3.0. This inplace method will never work because the intermediate object on which we are setting values always behaves as a copy.\n",
      "\n",
      "For example, when doing 'df[col].method(value, inplace=True)', try using 'df.method({col: value}, inplace=True)' or df[col] = df[col].method(value) instead, to perform the operation inplace on the original object.\n",
      "\n",
      "\n",
      "  df_labels['start_date'].fillna(method='ffill', inplace=True)\n",
      "/glade/derecho/scratch/jhayron/tmp/ipykernel_88395/2115786177.py:25: FutureWarning: Series.fillna with 'method' is deprecated and will raise in a future version. Use obj.ffill() or obj.bfill() instead.\n",
      "  df_labels['start_date'].fillna(method='ffill', inplace=True)\n",
      "/glade/derecho/scratch/jhayron/tmp/ipykernel_88395/2115786177.py:25: FutureWarning: A value is trying to be set on a copy of a DataFrame or Series through chained assignment using an inplace method.\n",
      "The behavior will change in pandas 3.0. This inplace method will never work because the intermediate object on which we are setting values always behaves as a copy.\n",
      "\n",
      "For example, when doing 'df[col].method(value, inplace=True)', try using 'df.method({col: value}, inplace=True)' or df[col] = df[col].method(value) instead, to perform the operation inplace on the original object.\n",
      "\n",
      "\n",
      "  df_labels['start_date'].fillna(method='ffill', inplace=True)\n",
      "/glade/derecho/scratch/jhayron/tmp/ipykernel_88395/2115786177.py:25: FutureWarning: Series.fillna with 'method' is deprecated and will raise in a future version. Use obj.ffill() or obj.bfill() instead.\n",
      "  df_labels['start_date'].fillna(method='ffill', inplace=True)\n",
      "/glade/derecho/scratch/jhayron/tmp/ipykernel_88395/2115786177.py:25: FutureWarning: A value is trying to be set on a copy of a DataFrame or Series through chained assignment using an inplace method.\n",
      "The behavior will change in pandas 3.0. This inplace method will never work because the intermediate object on which we are setting values always behaves as a copy.\n",
      "\n",
      "For example, when doing 'df[col].method(value, inplace=True)', try using 'df.method({col: value}, inplace=True)' or df[col] = df[col].method(value) instead, to perform the operation inplace on the original object.\n",
      "\n",
      "\n",
      "  df_labels['start_date'].fillna(method='ffill', inplace=True)\n",
      "/glade/derecho/scratch/jhayron/tmp/ipykernel_88395/2115786177.py:25: FutureWarning: Series.fillna with 'method' is deprecated and will raise in a future version. Use obj.ffill() or obj.bfill() instead.\n",
      "  df_labels['start_date'].fillna(method='ffill', inplace=True)\n",
      "/glade/derecho/scratch/jhayron/tmp/ipykernel_88395/2115786177.py:25: FutureWarning: A value is trying to be set on a copy of a DataFrame or Series through chained assignment using an inplace method.\n",
      "The behavior will change in pandas 3.0. This inplace method will never work because the intermediate object on which we are setting values always behaves as a copy.\n",
      "\n",
      "For example, when doing 'df[col].method(value, inplace=True)', try using 'df.method({col: value}, inplace=True)' or df[col] = df[col].method(value) instead, to perform the operation inplace on the original object.\n",
      "\n",
      "\n",
      "  df_labels['start_date'].fillna(method='ffill', inplace=True)\n",
      "/glade/derecho/scratch/jhayron/tmp/ipykernel_88395/2115786177.py:25: FutureWarning: Series.fillna with 'method' is deprecated and will raise in a future version. Use obj.ffill() or obj.bfill() instead.\n",
      "  df_labels['start_date'].fillna(method='ffill', inplace=True)\n",
      "/glade/derecho/scratch/jhayron/tmp/ipykernel_88395/2115786177.py:25: FutureWarning: A value is trying to be set on a copy of a DataFrame or Series through chained assignment using an inplace method.\n",
      "The behavior will change in pandas 3.0. This inplace method will never work because the intermediate object on which we are setting values always behaves as a copy.\n",
      "\n",
      "For example, when doing 'df[col].method(value, inplace=True)', try using 'df.method({col: value}, inplace=True)' or df[col] = df[col].method(value) instead, to perform the operation inplace on the original object.\n",
      "\n",
      "\n",
      "  df_labels['start_date'].fillna(method='ffill', inplace=True)\n",
      "/glade/derecho/scratch/jhayron/tmp/ipykernel_88395/2115786177.py:25: FutureWarning: Series.fillna with 'method' is deprecated and will raise in a future version. Use obj.ffill() or obj.bfill() instead.\n",
      "  df_labels['start_date'].fillna(method='ffill', inplace=True)\n",
      "/glade/derecho/scratch/jhayron/tmp/ipykernel_88395/2115786177.py:25: FutureWarning: A value is trying to be set on a copy of a DataFrame or Series through chained assignment using an inplace method.\n",
      "The behavior will change in pandas 3.0. This inplace method will never work because the intermediate object on which we are setting values always behaves as a copy.\n",
      "\n",
      "For example, when doing 'df[col].method(value, inplace=True)', try using 'df.method({col: value}, inplace=True)' or df[col] = df[col].method(value) instead, to perform the operation inplace on the original object.\n",
      "\n",
      "\n",
      "  df_labels['start_date'].fillna(method='ffill', inplace=True)\n",
      "/glade/derecho/scratch/jhayron/tmp/ipykernel_88395/2115786177.py:25: FutureWarning: Series.fillna with 'method' is deprecated and will raise in a future version. Use obj.ffill() or obj.bfill() instead.\n",
      "  df_labels['start_date'].fillna(method='ffill', inplace=True)\n",
      "/glade/derecho/scratch/jhayron/tmp/ipykernel_88395/2115786177.py:25: FutureWarning: A value is trying to be set on a copy of a DataFrame or Series through chained assignment using an inplace method.\n",
      "The behavior will change in pandas 3.0. This inplace method will never work because the intermediate object on which we are setting values always behaves as a copy.\n",
      "\n",
      "For example, when doing 'df[col].method(value, inplace=True)', try using 'df.method({col: value}, inplace=True)' or df[col] = df[col].method(value) instead, to perform the operation inplace on the original object.\n",
      "\n",
      "\n",
      "  df_labels['start_date'].fillna(method='ffill', inplace=True)\n",
      "/glade/derecho/scratch/jhayron/tmp/ipykernel_88395/2115786177.py:25: FutureWarning: Series.fillna with 'method' is deprecated and will raise in a future version. Use obj.ffill() or obj.bfill() instead.\n",
      "  df_labels['start_date'].fillna(method='ffill', inplace=True)\n",
      "/glade/derecho/scratch/jhayron/tmp/ipykernel_88395/2115786177.py:25: FutureWarning: A value is trying to be set on a copy of a DataFrame or Series through chained assignment using an inplace method.\n",
      "The behavior will change in pandas 3.0. This inplace method will never work because the intermediate object on which we are setting values always behaves as a copy.\n",
      "\n",
      "For example, when doing 'df[col].method(value, inplace=True)', try using 'df.method({col: value}, inplace=True)' or df[col] = df[col].method(value) instead, to perform the operation inplace on the original object.\n",
      "\n",
      "\n",
      "  df_labels['start_date'].fillna(method='ffill', inplace=True)\n",
      "/glade/derecho/scratch/jhayron/tmp/ipykernel_88395/2115786177.py:25: FutureWarning: Series.fillna with 'method' is deprecated and will raise in a future version. Use obj.ffill() or obj.bfill() instead.\n",
      "  df_labels['start_date'].fillna(method='ffill', inplace=True)\n",
      "/glade/derecho/scratch/jhayron/tmp/ipykernel_88395/2115786177.py:25: FutureWarning: A value is trying to be set on a copy of a DataFrame or Series through chained assignment using an inplace method.\n",
      "The behavior will change in pandas 3.0. This inplace method will never work because the intermediate object on which we are setting values always behaves as a copy.\n",
      "\n",
      "For example, when doing 'df[col].method(value, inplace=True)', try using 'df.method({col: value}, inplace=True)' or df[col] = df[col].method(value) instead, to perform the operation inplace on the original object.\n",
      "\n",
      "\n",
      "  df_labels['start_date'].fillna(method='ffill', inplace=True)\n",
      "/glade/derecho/scratch/jhayron/tmp/ipykernel_88395/2115786177.py:25: FutureWarning: Series.fillna with 'method' is deprecated and will raise in a future version. Use obj.ffill() or obj.bfill() instead.\n",
      "  df_labels['start_date'].fillna(method='ffill', inplace=True)\n",
      "/glade/derecho/scratch/jhayron/tmp/ipykernel_88395/2115786177.py:25: FutureWarning: A value is trying to be set on a copy of a DataFrame or Series through chained assignment using an inplace method.\n",
      "The behavior will change in pandas 3.0. This inplace method will never work because the intermediate object on which we are setting values always behaves as a copy.\n",
      "\n",
      "For example, when doing 'df[col].method(value, inplace=True)', try using 'df.method({col: value}, inplace=True)' or df[col] = df[col].method(value) instead, to perform the operation inplace on the original object.\n",
      "\n",
      "\n",
      "  df_labels['start_date'].fillna(method='ffill', inplace=True)\n",
      "/glade/derecho/scratch/jhayron/tmp/ipykernel_88395/2115786177.py:25: FutureWarning: Series.fillna with 'method' is deprecated and will raise in a future version. Use obj.ffill() or obj.bfill() instead.\n",
      "  df_labels['start_date'].fillna(method='ffill', inplace=True)\n",
      "/glade/derecho/scratch/jhayron/tmp/ipykernel_88395/2115786177.py:25: FutureWarning: A value is trying to be set on a copy of a DataFrame or Series through chained assignment using an inplace method.\n",
      "The behavior will change in pandas 3.0. This inplace method will never work because the intermediate object on which we are setting values always behaves as a copy.\n",
      "\n",
      "For example, when doing 'df[col].method(value, inplace=True)', try using 'df.method({col: value}, inplace=True)' or df[col] = df[col].method(value) instead, to perform the operation inplace on the original object.\n",
      "\n",
      "\n",
      "  df_labels['start_date'].fillna(method='ffill', inplace=True)\n",
      "/glade/derecho/scratch/jhayron/tmp/ipykernel_88395/2115786177.py:25: FutureWarning: Series.fillna with 'method' is deprecated and will raise in a future version. Use obj.ffill() or obj.bfill() instead.\n",
      "  df_labels['start_date'].fillna(method='ffill', inplace=True)\n",
      "/glade/derecho/scratch/jhayron/tmp/ipykernel_88395/2115786177.py:25: FutureWarning: A value is trying to be set on a copy of a DataFrame or Series through chained assignment using an inplace method.\n",
      "The behavior will change in pandas 3.0. This inplace method will never work because the intermediate object on which we are setting values always behaves as a copy.\n",
      "\n",
      "For example, when doing 'df[col].method(value, inplace=True)', try using 'df.method({col: value}, inplace=True)' or df[col] = df[col].method(value) instead, to perform the operation inplace on the original object.\n",
      "\n",
      "\n",
      "  df_labels['start_date'].fillna(method='ffill', inplace=True)\n",
      "/glade/derecho/scratch/jhayron/tmp/ipykernel_88395/2115786177.py:25: FutureWarning: Series.fillna with 'method' is deprecated and will raise in a future version. Use obj.ffill() or obj.bfill() instead.\n",
      "  df_labels['start_date'].fillna(method='ffill', inplace=True)\n",
      "/glade/derecho/scratch/jhayron/tmp/ipykernel_88395/2115786177.py:25: FutureWarning: A value is trying to be set on a copy of a DataFrame or Series through chained assignment using an inplace method.\n",
      "The behavior will change in pandas 3.0. This inplace method will never work because the intermediate object on which we are setting values always behaves as a copy.\n",
      "\n",
      "For example, when doing 'df[col].method(value, inplace=True)', try using 'df.method({col: value}, inplace=True)' or df[col] = df[col].method(value) instead, to perform the operation inplace on the original object.\n",
      "\n",
      "\n",
      "  df_labels['start_date'].fillna(method='ffill', inplace=True)\n",
      "/glade/derecho/scratch/jhayron/tmp/ipykernel_88395/2115786177.py:25: FutureWarning: Series.fillna with 'method' is deprecated and will raise in a future version. Use obj.ffill() or obj.bfill() instead.\n",
      "  df_labels['start_date'].fillna(method='ffill', inplace=True)\n",
      "/glade/derecho/scratch/jhayron/tmp/ipykernel_88395/2115786177.py:25: FutureWarning: A value is trying to be set on a copy of a DataFrame or Series through chained assignment using an inplace method.\n",
      "The behavior will change in pandas 3.0. This inplace method will never work because the intermediate object on which we are setting values always behaves as a copy.\n",
      "\n",
      "For example, when doing 'df[col].method(value, inplace=True)', try using 'df.method({col: value}, inplace=True)' or df[col] = df[col].method(value) instead, to perform the operation inplace on the original object.\n",
      "\n",
      "\n",
      "  df_labels['start_date'].fillna(method='ffill', inplace=True)\n",
      "/glade/derecho/scratch/jhayron/tmp/ipykernel_88395/2115786177.py:25: FutureWarning: Series.fillna with 'method' is deprecated and will raise in a future version. Use obj.ffill() or obj.bfill() instead.\n",
      "  df_labels['start_date'].fillna(method='ffill', inplace=True)\n"
     ]
    }
   ],
   "source": [
    "files_lens2 = np.sort(glob.glob('../ProcessZ500/labels_lens2/*.csv'))\n",
    "\n",
    "dic_labels_lens2 = {}\n",
    "\n",
    "for file_temp in files_lens2:\n",
    "    labels_temp = pd.read_csv(file_temp, parse_dates=True, index_col=0, \n",
    "                              names=['WR','distances','corr'], skiprows=1)#[['WR']]\n",
    "    labels_temp['season'] = labels_temp.index.month % 12 // 3 + 1  # This will give: 1=DJF, 2=MAM, 3=JJA, 4=SON\n",
    "    # Map season numbers to season names\n",
    "    season_map = {1: 'Winter', 2: 'Spring', 3: 'Summer', 4: 'Fall'}\n",
    "    labels_temp['season'] = labels_temp['season'].map(season_map)\n",
    "    labels_temp.loc[labels_temp['corr']<=0.2,'WR']=np.unique(labels_temp['WR'])[-1]\n",
    "    dic_labels_lens2[file_temp.split('labels_')[-1][:-4]] = labels_temp\n",
    "\n",
    "dic_events_lens2 = {}\n",
    "\n",
    "for file_temp in files_lens2:\n",
    "    # Compute Overall Frequency of Each Class\n",
    "    df_labels = copy.deepcopy(dic_labels_lens2[file_temp.split('labels_')[-1][:-4]])\n",
    "\n",
    "    # Step 1: Identify changes in class to find the start of each event\n",
    "    df_labels['shifted'] = df_labels['WR'].shift(1)\n",
    "    df_labels['start'] = df_labels['WR'] != df_labels['shifted']\n",
    "    df_labels['start_date'] = df_labels.index.where(df_labels['start'], pd.NaT)\n",
    "    df_labels['start_date'].fillna(method='ffill', inplace=True)\n",
    "    \n",
    "    # Step 2: Calculate the duration of each event\n",
    "    # Convert the Timedelta to its 'days' component\n",
    "    df_labels['duration'] = (df_labels.index - df_labels['start_date']).dt.days + 1\n",
    "    \n",
    "    # Step 3: Create the df_events DataFrame\n",
    "    # Group by 'start_date' and 'class' to get the duration of each class event\n",
    "    df_events = df_labels.groupby(['start_date', 'WR']).agg({'duration': 'max','corr':'mean','distances':'mean'}).reset_index()\n",
    "    \n",
    "    # Drop the temporary columns used for calculations\n",
    "    df_labels.drop(columns=['shifted', 'start', 'start_date', 'duration'], inplace=True)\n",
    "    \n",
    "    # Set 'start_date' as the index if needed\n",
    "    df_events.set_index('start_date', inplace=True)\n",
    "    df_events['season'] = df_events.index.month % 12 // 3 + 1  # This will give: 1=DJF, 2=MAM, 3=JJA, 4=SON\n",
    "    # Map season numbers to season names\n",
    "    season_map = {1: 'Winter', 2: 'Spring', 3: 'Summer', 4: 'Fall'}\n",
    "    df_events['season'] = df_events['season'].map(season_map)\n",
    "    df_events['year'] = df_events.index.year\n",
    "    # df_events = df_events[df_events['duration']>=4]\n",
    "    dic_events_lens2[file_temp.split('labels_')[-1][:-4]] = df_events"
   ]
  },
  {
   "cell_type": "code",
   "execution_count": 5,
   "id": "afa7c1e6-7f10-4f0d-9c62-df7143e71074",
   "metadata": {
    "scrolled": true
   },
   "outputs": [
    {
     "name": "stdout",
     "output_type": "stream",
     "text": [
      "../ProcessZ500/labels_lens2/df_labels_LE2-1001.001_cmip6.csv../ProcessZ500/labels_lens2/df_labels_LE2-1011.001_smbb.csv../ProcessZ500/labels_lens2/df_labels_LE2-1031.002_smbb.csv../ProcessZ500/labels_lens2/df_labels_LE2-1021.002_cmip6.csv../ProcessZ500/labels_lens2/df_labels_LE2-1041.003_cmip6.csv../ProcessZ500/labels_lens2/df_labels_LE2-1051.003_smbb.csv../ProcessZ500/labels_lens2/df_labels_LE2-1061.004_cmip6.csv../ProcessZ500/labels_lens2/df_labels_LE2-1071.004_smbb.csv../ProcessZ500/labels_lens2/df_labels_LE2-1081.005_cmip6.csv../ProcessZ500/labels_lens2/df_labels_LE2-1091.005_smbb.csv../ProcessZ500/labels_lens2/df_labels_LE2-1101.006_cmip6.csv\n",
      "../ProcessZ500/labels_lens2/df_labels_LE2-1111.006_smbb.csv../ProcessZ500/labels_lens2/df_labels_LE2-1121.007_cmip6.csv\n",
      "../ProcessZ500/labels_lens2/df_labels_LE2-1131.007_smbb.csv\n",
      "\n",
      "../ProcessZ500/labels_lens2/df_labels_LE2-1141.008_cmip6.csv../ProcessZ500/labels_lens2/df_labels_LE2-1161.009_cmip6.csv\n",
      "../ProcessZ500/labels_lens2/df_labels_LE2-1151.008_smbb.csv../ProcessZ500/labels_lens2/df_labels_LE2-1171.009_smbb.csv\n",
      "\n",
      "../ProcessZ500/labels_lens2/df_labels_LE2-1181.010_cmip6.csv\n",
      "../ProcessZ500/labels_lens2/df_labels_LE2-1191.010_smbb.csv\n",
      "../ProcessZ500/labels_lens2/df_labels_LE2-1231.001_cmip6.csv../ProcessZ500/labels_lens2/df_labels_LE2-1231.002_cmip6.csv\n",
      "\n",
      "../ProcessZ500/labels_lens2/df_labels_LE2-1231.003_cmip6.csv../ProcessZ500/labels_lens2/df_labels_LE2-1231.005_cmip6.csv\n",
      "../ProcessZ500/labels_lens2/df_labels_LE2-1231.004_cmip6.csv\n",
      "../ProcessZ500/labels_lens2/df_labels_LE2-1231.006_cmip6.csv\n",
      "../ProcessZ500/labels_lens2/df_labels_LE2-1231.007_cmip6.csv../ProcessZ500/labels_lens2/df_labels_LE2-1231.008_cmip6.csv\n",
      "\n",
      "../ProcessZ500/labels_lens2/df_labels_LE2-1231.011_smbb.csv\n",
      "../ProcessZ500/labels_lens2/df_labels_LE2-1231.012_smbb.csv\n",
      "../ProcessZ500/labels_lens2/df_labels_LE2-1231.013_smbb.csv../ProcessZ500/labels_lens2/df_labels_LE2-1231.014_smbb.csv\n",
      "../ProcessZ500/labels_lens2/df_labels_LE2-1231.015_smbb.csv\n",
      "\n",
      "../ProcessZ500/labels_lens2/df_labels_LE2-1231.016_smbb.csv\n",
      "../ProcessZ500/labels_lens2/df_labels_LE2-1231.017_smbb.csv../ProcessZ500/labels_lens2/df_labels_LE2-1231.018_smbb.csv../ProcessZ500/labels_lens2/df_labels_LE2-1231.019_smbb.csv\n",
      "../ProcessZ500/labels_lens2/df_labels_LE2-1231.020_smbb.csv../ProcessZ500/labels_lens2/df_labels_LE2-1251.001_cmip6.csv\n",
      "\n",
      "../ProcessZ500/labels_lens2/df_labels_LE2-1251.002_cmip6.csv../ProcessZ500/labels_lens2/df_labels_LE2-1251.003_cmip6.csv\n",
      "../ProcessZ500/labels_lens2/df_labels_LE2-1251.004_cmip6.csv../ProcessZ500/labels_lens2/df_labels_LE2-1251.005_cmip6.csv\n",
      "../ProcessZ500/labels_lens2/df_labels_LE2-1251.006_cmip6.csv\n",
      "../ProcessZ500/labels_lens2/df_labels_LE2-1251.007_cmip6.csv../ProcessZ500/labels_lens2/df_labels_LE2-1251.008_cmip6.csv\n",
      "../ProcessZ500/labels_lens2/df_labels_LE2-1251.010_cmip6.csv\n",
      "../ProcessZ500/labels_lens2/df_labels_LE2-1251.011_smbb.csv../ProcessZ500/labels_lens2/df_labels_LE2-1251.012_smbb.csv../ProcessZ500/labels_lens2/df_labels_LE2-1251.009_cmip6.csv../ProcessZ500/labels_lens2/df_labels_LE2-1251.013_smbb.csv\n",
      "\n",
      "../ProcessZ500/labels_lens2/df_labels_LE2-1251.014_smbb.csv\n",
      "../ProcessZ500/labels_lens2/df_labels_LE2-1251.015_smbb.csv../ProcessZ500/labels_lens2/df_labels_LE2-1251.016_smbb.csv../ProcessZ500/labels_lens2/df_labels_LE2-1251.017_smbb.csv\n",
      "../ProcessZ500/labels_lens2/df_labels_LE2-1251.018_smbb.csv\n",
      "\n",
      "../ProcessZ500/labels_lens2/df_labels_LE2-1251.019_smbb.csv../ProcessZ500/labels_lens2/df_labels_LE2-1251.020_smbb.csv../ProcessZ500/labels_lens2/df_labels_LE2-1281.001_cmip6.csv\n",
      "../ProcessZ500/labels_lens2/df_labels_LE2-1281.003_cmip6.csv\n",
      "../ProcessZ500/labels_lens2/df_labels_LE2-1281.002_cmip6.csv\n",
      "../ProcessZ500/labels_lens2/df_labels_LE2-1281.004_cmip6.csv\n",
      "\n",
      "\n",
      "../ProcessZ500/labels_lens2/df_labels_LE2-1281.005_cmip6.csv\n",
      "../ProcessZ500/labels_lens2/df_labels_LE2-1281.006_cmip6.csv\n",
      "\n",
      "../ProcessZ500/labels_lens2/df_labels_LE2-1281.007_cmip6.csv../ProcessZ500/labels_lens2/df_labels_LE2-1281.008_cmip6.csv\n",
      "../ProcessZ500/labels_lens2/df_labels_LE2-1281.009_cmip6.csv\n",
      "../ProcessZ500/labels_lens2/df_labels_LE2-1281.010_cmip6.csv../ProcessZ500/labels_lens2/df_labels_LE2-1281.011_smbb.csv\n",
      "../ProcessZ500/labels_lens2/df_labels_LE2-1281.012_smbb.csv../ProcessZ500/labels_lens2/df_labels_LE2-1281.013_smbb.csv\n",
      "../ProcessZ500/labels_lens2/df_labels_LE2-1281.014_smbb.csv../ProcessZ500/labels_lens2/df_labels_LE2-1281.015_smbb.csv../ProcessZ500/labels_lens2/df_labels_LE2-1281.016_smbb.csv\n",
      "\n",
      "\n",
      "../ProcessZ500/labels_lens2/df_labels_LE2-1281.017_smbb.csv../ProcessZ500/labels_lens2/df_labels_LE2-1281.018_smbb.csv../ProcessZ500/labels_lens2/df_labels_LE2-1281.019_smbb.csv\n",
      "../ProcessZ500/labels_lens2/df_labels_LE2-1301.001_cmip6.csv../ProcessZ500/labels_lens2/df_labels_LE2-1281.020_smbb.csv\n",
      "../ProcessZ500/labels_lens2/df_labels_LE2-1301.002_cmip6.csv../ProcessZ500/labels_lens2/df_labels_LE2-1301.003_cmip6.csv../ProcessZ500/labels_lens2/df_labels_LE2-1301.004_cmip6.csv../ProcessZ500/labels_lens2/df_labels_LE2-1301.005_cmip6.csv\n",
      "../ProcessZ500/labels_lens2/df_labels_LE2-1301.006_cmip6.csv../ProcessZ500/labels_lens2/df_labels_LE2-1301.007_cmip6.csv\n",
      "\n",
      "../ProcessZ500/labels_lens2/df_labels_LE2-1301.009_cmip6.csv../ProcessZ500/labels_lens2/df_labels_LE2-1301.008_cmip6.csv../ProcessZ500/labels_lens2/df_labels_LE2-1301.010_cmip6.csv\n",
      "\n",
      "\n",
      "../ProcessZ500/labels_lens2/df_labels_LE2-1301.011_smbb.csv../ProcessZ500/labels_lens2/df_labels_LE2-1301.012_smbb.csv\n",
      "\n",
      "../ProcessZ500/labels_lens2/df_labels_LE2-1301.016_smbb.csv../ProcessZ500/labels_lens2/df_labels_LE2-1301.015_smbb.csv\n",
      "../ProcessZ500/labels_lens2/df_labels_LE2-1301.017_smbb.csv../ProcessZ500/labels_lens2/df_labels_LE2-1301.018_smbb.csv\n",
      "\n",
      "\n",
      "../ProcessZ500/labels_lens2/df_labels_LE2-1301.019_smbb.csv../ProcessZ500/labels_lens2/df_labels_LE2-1301.020_smbb.csv\n",
      "\n",
      "\n",
      "\n",
      "\n",
      "\n",
      "\n",
      "\n",
      "\n",
      "\n",
      "\n",
      "\n",
      "\n",
      "\n",
      "\n",
      "\n",
      "\n",
      "\n",
      "\n",
      "\n",
      "\n",
      "\n",
      "\n",
      "\n",
      "\n",
      "\n",
      "\n",
      "\n",
      "\n",
      "\n",
      "../ProcessZ500/labels_lens2/df_labels_LE2-1231.009_cmip6.csv\n",
      "../ProcessZ500/labels_lens2/df_labels_LE2-1231.010_cmip6.csv\n",
      "../ProcessZ500/labels_lens2/df_labels_LE2-1301.013_smbb.csv\n",
      "../ProcessZ500/labels_lens2/df_labels_LE2-1301.014_smbb.csv\n"
     ]
    }
   ],
   "source": [
    "N=30\n",
    "from multiprocessing import Pool\n",
    "\n",
    "# Function to process each file and return results\n",
    "def process_file(file_temp):\n",
    "    print(file_temp)\n",
    "    key = file_temp.split('labels_')[-1][:-4]\n",
    "    dic_stats = {}\n",
    "    dic_dfs = {}\n",
    "\n",
    "    start_year = dic_labels_lens2[key].index.year[0] + (N-1)\n",
    "    end_year = dic_labels_lens2[key].index.year[-1]\n",
    "    \n",
    "    for wr in range(6):\n",
    "        df_temp = copy.deepcopy(dic_events_lens2[key])\n",
    "        df_temp = df_temp[(df_temp['season'] == 'Winter')|(df_temp['season'] == 'Spring')]\n",
    "        df_temp = df_temp[df_temp['WR'] == wr]\n",
    "        \n",
    "        dic_stats_temp = {\n",
    "            'mean': [],\n",
    "            'std': [],\n",
    "            'p90': [],\n",
    "            'p10': [],\n",
    "            'p95': [],\n",
    "            'p05': [],\n",
    "            'n_events': [],\n",
    "            'n_days': []\n",
    "        }\n",
    "        \n",
    "        for year in range(start_year, end_year + 1):\n",
    "            df_temp_temp = df_temp.loc[str(year-N+1):str(year)]['duration']\n",
    "            dic_stats_temp['mean'].append(df_temp_temp.mean())\n",
    "            dic_stats_temp['std'].append(df_temp_temp.std())\n",
    "            dic_stats_temp['p90'].append(df_temp_temp.quantile(0.9))\n",
    "            dic_stats_temp['p10'].append(df_temp_temp.quantile(0.1))\n",
    "            dic_stats_temp['p95'].append(df_temp_temp.quantile(0.95))\n",
    "            dic_stats_temp['p05'].append(df_temp_temp.quantile(0.05))\n",
    "\n",
    "            dic_stats_temp['n_events'].append(len(df_temp_temp) / 30)\n",
    "            dic_stats_temp['n_days'].append(df_temp_temp.sum() / (30 * 365 / 2))\n",
    "        \n",
    "        df_stats_temp = pd.DataFrame(dic_stats_temp, index=np.arange(start_year, end_year + 1))\n",
    "        dic_stats[f'wr{wr}'] = df_stats_temp\n",
    "        dic_dfs[f'wr{wr}'] = df_temp\n",
    "    \n",
    "    return key, dic_stats, dic_dfs\n",
    "\n",
    "# Use multiprocessing to parallelize the processing\n",
    "if __name__ == '__main__':\n",
    "    dic_stats_durations_lens2 = {}\n",
    "    dic_dfs_durations_lens2 = {}\n",
    "\n",
    "    with Pool() as pool:\n",
    "        results = pool.map(process_file, files_lens2)\n",
    "\n",
    "    # Collect results into the final dictionaries\n",
    "    for key, dic_stats, dic_dfs in results:\n",
    "        dic_stats_durations_lens2[key] = dic_stats\n",
    "        dic_dfs_durations_lens2[key] = dic_dfs\n",
    "\n",
    "    # You can now use dic_stats_durations_lens2 and dic_dfs_durations_lens2 as needed\n",
    "\n",
    "names_models = np.array([file_temp.split('labels_')[-1][:-4] for file_temp in files_lens2])"
   ]
  },
  {
   "cell_type": "code",
   "execution_count": 6,
   "id": "f4ccfcd6-d42a-4d38-8fa1-b756d7ec703e",
   "metadata": {},
   "outputs": [],
   "source": [
    "wr = 1\n",
    "dic_yearly_freqs = {}\n",
    "\n",
    "for name_exp in names_models:\n",
    "    wr=1\n",
    "    \n",
    "    # Plot metrics\n",
    "    df_events_temp = copy.deepcopy(dic_events_lens2[name_exp][dic_events_lens2[name_exp]['WR']==wr])\n",
    "    df_events_temp = df_events_temp[df_events_temp.index.month.isin([12,1, 2, 3, 4, 5])]\n",
    "    is_leap_year = df_events_temp.index.is_leap_year\n",
    "    total_days_in_year = np.where(is_leap_year, 366, 365)\n",
    "    \n",
    "    # Convert DatetimeIndex to years in decimals\n",
    "    df_events_temp['year_decimal'] = (df_events_temp.index.year + (df_events_temp.index.dayofyear / total_days_in_year)).values\n",
    "    \n",
    "    yearly_count = df_events_temp.groupby('year').sum()['duration']\n",
    "    yearly_count = yearly_count.reindex(index=np.arange(1948,2101))\n",
    "    yearly_count = 100*yearly_count/(365/2)\n",
    "    yearly_count=yearly_count.fillna(0)\n",
    "    dic_yearly_freqs[name_exp] = yearly_count"
   ]
  },
  {
   "cell_type": "code",
   "execution_count": 7,
   "id": "2cc75003-f0ee-44fd-992b-890bcc2a7ce1",
   "metadata": {},
   "outputs": [],
   "source": [
    "def calculate_pixel_correlation_vectorized(data_array, time_series):\n",
    "    \"\"\"\n",
    "    Calculates Pearson correlation between each pixel and a time series (vectorized).\n",
    "\n",
    "    Args:\n",
    "        data_array (xr.DataArray): DataArray with 'year', 'lat', and 'lon' dimensions.\n",
    "        time_series (pd.Series): Pandas Series with the same index as the 'year' coordinate.\n",
    "\n",
    "    Returns:\n",
    "        xr.Dataset: Dataset with correlation coefficients and p-values.\n",
    "    \"\"\"\n",
    "\n",
    "    # Calculate means and standard deviations\n",
    "    data_mean = data_array.mean(dim='year')\n",
    "    time_mean = time_series.mean()\n",
    "    data_std = data_array.std(dim='year')\n",
    "    time_std = time_series.std()\n",
    "\n",
    "    # Calculate covariance\n",
    "    time_series_expanded = time_series.values[:, np.newaxis, np.newaxis] # add 2 new dimensions\n",
    "    covariance = np.nanmean(((data_array - data_mean).values * (time_series_expanded - time_mean)),axis=0)#.mean(axis=0)\n",
    "    # \n",
    "    # # # Calculate correlation coefficients\n",
    "    correlation_coeffs = covariance / (data_std.values * time_std)\n",
    "\n",
    "    correlation_coeffs = xr.DataArray(\n",
    "        correlation_coeffs,\n",
    "        coords=data_mean.coords,\n",
    "        dims=data_mean.dims\n",
    "    )\n",
    "    # Calculate t-statistic and p-values\n",
    "    n = data_array.sizes['year']\n",
    "    t_statistic = correlation_coeffs * np.sqrt((n - 2) / (1 - correlation_coeffs**2))\n",
    "    p_values = xr.DataArray(\n",
    "        2 * (1 - xr.DataArray(np.abs(t_statistic))),\n",
    "        coords=data_mean.coords,\n",
    "        dims=data_mean.dims\n",
    "    )\n",
    "\n",
    "    return xr.Dataset({'correlation': correlation_coeffs, 'p_value': p_values})"
   ]
  },
  {
   "cell_type": "markdown",
   "id": "4b90ceb6-c7fe-4b6b-8cf0-3cf072d7fb37",
   "metadata": {},
   "source": [
    "# compute"
   ]
  },
  {
   "cell_type": "code",
   "execution_count": 12,
   "id": "186c10b6-53e3-4596-89ba-2beb36f3702f",
   "metadata": {},
   "outputs": [],
   "source": [
    "path_temp_files = '/glade/derecho/scratch/jhayron/Data4WRsClimateChange/LENS2_higherthanp90_v2/'"
   ]
  },
  {
   "cell_type": "code",
   "execution_count": 13,
   "id": "c230b584-e2aa-4909-9ff1-90f17ecab45b",
   "metadata": {},
   "outputs": [],
   "source": [
    "filenames = np.sort(glob.glob(f'{path_temp_files}*'))"
   ]
  },
  {
   "cell_type": "code",
   "execution_count": 14,
   "id": "d2bd2fad-3dba-41c2-a69e-bae6e6348412",
   "metadata": {},
   "outputs": [],
   "source": [
    "names_exps = np.array([filenames[i].split('p90')[-1][1:-3] for i in range(len(filenames))])"
   ]
  },
  {
   "cell_type": "code",
   "execution_count": 15,
   "id": "71d40bba-f1cc-4362-87c3-785596d48971",
   "metadata": {},
   "outputs": [],
   "source": [
    "filei=0"
   ]
  },
  {
   "cell_type": "code",
   "execution_count": 16,
   "id": "aca7204c-f118-46ca-998a-3965d21e8928",
   "metadata": {
    "scrolled": true
   },
   "outputs": [
    {
     "name": "stdout",
     "output_type": "stream",
     "text": [
      "0\n"
     ]
    },
    {
     "name": "stderr",
     "output_type": "stream",
     "text": [
      "/glade/derecho/scratch/jhayron/tmp/ipykernel_88395/3195897115.py:44: UserWarning: Boolean Series key will be reindexed to match DataFrame index.\n",
      "  freq_pt_past = 100*len(df_temp.loc['1994':'2023'][df_temp['WR']==1])/len(df_temp.loc['1994':'2023'])\n",
      "/glade/derecho/scratch/jhayron/tmp/ipykernel_88395/3195897115.py:45: UserWarning: Boolean Series key will be reindexed to match DataFrame index.\n",
      "  freq_pt_present = 100*len(df_temp.loc['2071':'2100'][df_temp['WR']==1])/len(df_temp.loc['2071':'2100'])\n"
     ]
    },
    {
     "name": "stdout",
     "output_type": "stream",
     "text": [
      "1\n"
     ]
    },
    {
     "name": "stderr",
     "output_type": "stream",
     "text": [
      "/glade/derecho/scratch/jhayron/tmp/ipykernel_88395/3195897115.py:44: UserWarning: Boolean Series key will be reindexed to match DataFrame index.\n",
      "  freq_pt_past = 100*len(df_temp.loc['1994':'2023'][df_temp['WR']==1])/len(df_temp.loc['1994':'2023'])\n",
      "/glade/derecho/scratch/jhayron/tmp/ipykernel_88395/3195897115.py:45: UserWarning: Boolean Series key will be reindexed to match DataFrame index.\n",
      "  freq_pt_present = 100*len(df_temp.loc['2071':'2100'][df_temp['WR']==1])/len(df_temp.loc['2071':'2100'])\n"
     ]
    },
    {
     "name": "stdout",
     "output_type": "stream",
     "text": [
      "2\n"
     ]
    },
    {
     "name": "stderr",
     "output_type": "stream",
     "text": [
      "/glade/derecho/scratch/jhayron/tmp/ipykernel_88395/3195897115.py:44: UserWarning: Boolean Series key will be reindexed to match DataFrame index.\n",
      "  freq_pt_past = 100*len(df_temp.loc['1994':'2023'][df_temp['WR']==1])/len(df_temp.loc['1994':'2023'])\n",
      "/glade/derecho/scratch/jhayron/tmp/ipykernel_88395/3195897115.py:45: UserWarning: Boolean Series key will be reindexed to match DataFrame index.\n",
      "  freq_pt_present = 100*len(df_temp.loc['2071':'2100'][df_temp['WR']==1])/len(df_temp.loc['2071':'2100'])\n"
     ]
    },
    {
     "name": "stdout",
     "output_type": "stream",
     "text": [
      "3\n"
     ]
    },
    {
     "name": "stderr",
     "output_type": "stream",
     "text": [
      "/glade/derecho/scratch/jhayron/tmp/ipykernel_88395/3195897115.py:44: UserWarning: Boolean Series key will be reindexed to match DataFrame index.\n",
      "  freq_pt_past = 100*len(df_temp.loc['1994':'2023'][df_temp['WR']==1])/len(df_temp.loc['1994':'2023'])\n",
      "/glade/derecho/scratch/jhayron/tmp/ipykernel_88395/3195897115.py:45: UserWarning: Boolean Series key will be reindexed to match DataFrame index.\n",
      "  freq_pt_present = 100*len(df_temp.loc['2071':'2100'][df_temp['WR']==1])/len(df_temp.loc['2071':'2100'])\n"
     ]
    },
    {
     "name": "stdout",
     "output_type": "stream",
     "text": [
      "4\n"
     ]
    },
    {
     "name": "stderr",
     "output_type": "stream",
     "text": [
      "/glade/derecho/scratch/jhayron/tmp/ipykernel_88395/3195897115.py:44: UserWarning: Boolean Series key will be reindexed to match DataFrame index.\n",
      "  freq_pt_past = 100*len(df_temp.loc['1994':'2023'][df_temp['WR']==1])/len(df_temp.loc['1994':'2023'])\n",
      "/glade/derecho/scratch/jhayron/tmp/ipykernel_88395/3195897115.py:45: UserWarning: Boolean Series key will be reindexed to match DataFrame index.\n",
      "  freq_pt_present = 100*len(df_temp.loc['2071':'2100'][df_temp['WR']==1])/len(df_temp.loc['2071':'2100'])\n"
     ]
    },
    {
     "name": "stdout",
     "output_type": "stream",
     "text": [
      "5\n"
     ]
    },
    {
     "name": "stderr",
     "output_type": "stream",
     "text": [
      "/glade/derecho/scratch/jhayron/tmp/ipykernel_88395/3195897115.py:44: UserWarning: Boolean Series key will be reindexed to match DataFrame index.\n",
      "  freq_pt_past = 100*len(df_temp.loc['1994':'2023'][df_temp['WR']==1])/len(df_temp.loc['1994':'2023'])\n",
      "/glade/derecho/scratch/jhayron/tmp/ipykernel_88395/3195897115.py:45: UserWarning: Boolean Series key will be reindexed to match DataFrame index.\n",
      "  freq_pt_present = 100*len(df_temp.loc['2071':'2100'][df_temp['WR']==1])/len(df_temp.loc['2071':'2100'])\n"
     ]
    },
    {
     "name": "stdout",
     "output_type": "stream",
     "text": [
      "6\n"
     ]
    },
    {
     "name": "stderr",
     "output_type": "stream",
     "text": [
      "/glade/derecho/scratch/jhayron/tmp/ipykernel_88395/3195897115.py:44: UserWarning: Boolean Series key will be reindexed to match DataFrame index.\n",
      "  freq_pt_past = 100*len(df_temp.loc['1994':'2023'][df_temp['WR']==1])/len(df_temp.loc['1994':'2023'])\n",
      "/glade/derecho/scratch/jhayron/tmp/ipykernel_88395/3195897115.py:45: UserWarning: Boolean Series key will be reindexed to match DataFrame index.\n",
      "  freq_pt_present = 100*len(df_temp.loc['2071':'2100'][df_temp['WR']==1])/len(df_temp.loc['2071':'2100'])\n"
     ]
    },
    {
     "name": "stdout",
     "output_type": "stream",
     "text": [
      "7\n"
     ]
    },
    {
     "name": "stderr",
     "output_type": "stream",
     "text": [
      "/glade/derecho/scratch/jhayron/tmp/ipykernel_88395/3195897115.py:44: UserWarning: Boolean Series key will be reindexed to match DataFrame index.\n",
      "  freq_pt_past = 100*len(df_temp.loc['1994':'2023'][df_temp['WR']==1])/len(df_temp.loc['1994':'2023'])\n",
      "/glade/derecho/scratch/jhayron/tmp/ipykernel_88395/3195897115.py:45: UserWarning: Boolean Series key will be reindexed to match DataFrame index.\n",
      "  freq_pt_present = 100*len(df_temp.loc['2071':'2100'][df_temp['WR']==1])/len(df_temp.loc['2071':'2100'])\n"
     ]
    },
    {
     "name": "stdout",
     "output_type": "stream",
     "text": [
      "8\n"
     ]
    },
    {
     "name": "stderr",
     "output_type": "stream",
     "text": [
      "/glade/derecho/scratch/jhayron/tmp/ipykernel_88395/3195897115.py:44: UserWarning: Boolean Series key will be reindexed to match DataFrame index.\n",
      "  freq_pt_past = 100*len(df_temp.loc['1994':'2023'][df_temp['WR']==1])/len(df_temp.loc['1994':'2023'])\n",
      "/glade/derecho/scratch/jhayron/tmp/ipykernel_88395/3195897115.py:45: UserWarning: Boolean Series key will be reindexed to match DataFrame index.\n",
      "  freq_pt_present = 100*len(df_temp.loc['2071':'2100'][df_temp['WR']==1])/len(df_temp.loc['2071':'2100'])\n"
     ]
    },
    {
     "name": "stdout",
     "output_type": "stream",
     "text": [
      "9\n"
     ]
    },
    {
     "name": "stderr",
     "output_type": "stream",
     "text": [
      "/glade/derecho/scratch/jhayron/tmp/ipykernel_88395/3195897115.py:44: UserWarning: Boolean Series key will be reindexed to match DataFrame index.\n",
      "  freq_pt_past = 100*len(df_temp.loc['1994':'2023'][df_temp['WR']==1])/len(df_temp.loc['1994':'2023'])\n",
      "/glade/derecho/scratch/jhayron/tmp/ipykernel_88395/3195897115.py:45: UserWarning: Boolean Series key will be reindexed to match DataFrame index.\n",
      "  freq_pt_present = 100*len(df_temp.loc['2071':'2100'][df_temp['WR']==1])/len(df_temp.loc['2071':'2100'])\n"
     ]
    },
    {
     "name": "stdout",
     "output_type": "stream",
     "text": [
      "10\n"
     ]
    },
    {
     "name": "stderr",
     "output_type": "stream",
     "text": [
      "/glade/derecho/scratch/jhayron/tmp/ipykernel_88395/3195897115.py:44: UserWarning: Boolean Series key will be reindexed to match DataFrame index.\n",
      "  freq_pt_past = 100*len(df_temp.loc['1994':'2023'][df_temp['WR']==1])/len(df_temp.loc['1994':'2023'])\n",
      "/glade/derecho/scratch/jhayron/tmp/ipykernel_88395/3195897115.py:45: UserWarning: Boolean Series key will be reindexed to match DataFrame index.\n",
      "  freq_pt_present = 100*len(df_temp.loc['2071':'2100'][df_temp['WR']==1])/len(df_temp.loc['2071':'2100'])\n"
     ]
    },
    {
     "name": "stdout",
     "output_type": "stream",
     "text": [
      "11\n"
     ]
    },
    {
     "name": "stderr",
     "output_type": "stream",
     "text": [
      "/glade/derecho/scratch/jhayron/tmp/ipykernel_88395/3195897115.py:44: UserWarning: Boolean Series key will be reindexed to match DataFrame index.\n",
      "  freq_pt_past = 100*len(df_temp.loc['1994':'2023'][df_temp['WR']==1])/len(df_temp.loc['1994':'2023'])\n",
      "/glade/derecho/scratch/jhayron/tmp/ipykernel_88395/3195897115.py:45: UserWarning: Boolean Series key will be reindexed to match DataFrame index.\n",
      "  freq_pt_present = 100*len(df_temp.loc['2071':'2100'][df_temp['WR']==1])/len(df_temp.loc['2071':'2100'])\n"
     ]
    },
    {
     "name": "stdout",
     "output_type": "stream",
     "text": [
      "12\n"
     ]
    },
    {
     "name": "stderr",
     "output_type": "stream",
     "text": [
      "/glade/derecho/scratch/jhayron/tmp/ipykernel_88395/3195897115.py:44: UserWarning: Boolean Series key will be reindexed to match DataFrame index.\n",
      "  freq_pt_past = 100*len(df_temp.loc['1994':'2023'][df_temp['WR']==1])/len(df_temp.loc['1994':'2023'])\n",
      "/glade/derecho/scratch/jhayron/tmp/ipykernel_88395/3195897115.py:45: UserWarning: Boolean Series key will be reindexed to match DataFrame index.\n",
      "  freq_pt_present = 100*len(df_temp.loc['2071':'2100'][df_temp['WR']==1])/len(df_temp.loc['2071':'2100'])\n"
     ]
    },
    {
     "name": "stdout",
     "output_type": "stream",
     "text": [
      "13\n"
     ]
    },
    {
     "name": "stderr",
     "output_type": "stream",
     "text": [
      "/glade/derecho/scratch/jhayron/tmp/ipykernel_88395/3195897115.py:44: UserWarning: Boolean Series key will be reindexed to match DataFrame index.\n",
      "  freq_pt_past = 100*len(df_temp.loc['1994':'2023'][df_temp['WR']==1])/len(df_temp.loc['1994':'2023'])\n",
      "/glade/derecho/scratch/jhayron/tmp/ipykernel_88395/3195897115.py:45: UserWarning: Boolean Series key will be reindexed to match DataFrame index.\n",
      "  freq_pt_present = 100*len(df_temp.loc['2071':'2100'][df_temp['WR']==1])/len(df_temp.loc['2071':'2100'])\n"
     ]
    },
    {
     "name": "stdout",
     "output_type": "stream",
     "text": [
      "14\n"
     ]
    },
    {
     "name": "stderr",
     "output_type": "stream",
     "text": [
      "/glade/derecho/scratch/jhayron/tmp/ipykernel_88395/3195897115.py:44: UserWarning: Boolean Series key will be reindexed to match DataFrame index.\n",
      "  freq_pt_past = 100*len(df_temp.loc['1994':'2023'][df_temp['WR']==1])/len(df_temp.loc['1994':'2023'])\n",
      "/glade/derecho/scratch/jhayron/tmp/ipykernel_88395/3195897115.py:45: UserWarning: Boolean Series key will be reindexed to match DataFrame index.\n",
      "  freq_pt_present = 100*len(df_temp.loc['2071':'2100'][df_temp['WR']==1])/len(df_temp.loc['2071':'2100'])\n"
     ]
    },
    {
     "name": "stdout",
     "output_type": "stream",
     "text": [
      "15\n"
     ]
    },
    {
     "name": "stderr",
     "output_type": "stream",
     "text": [
      "/glade/derecho/scratch/jhayron/tmp/ipykernel_88395/3195897115.py:44: UserWarning: Boolean Series key will be reindexed to match DataFrame index.\n",
      "  freq_pt_past = 100*len(df_temp.loc['1994':'2023'][df_temp['WR']==1])/len(df_temp.loc['1994':'2023'])\n",
      "/glade/derecho/scratch/jhayron/tmp/ipykernel_88395/3195897115.py:45: UserWarning: Boolean Series key will be reindexed to match DataFrame index.\n",
      "  freq_pt_present = 100*len(df_temp.loc['2071':'2100'][df_temp['WR']==1])/len(df_temp.loc['2071':'2100'])\n"
     ]
    },
    {
     "name": "stdout",
     "output_type": "stream",
     "text": [
      "16\n"
     ]
    },
    {
     "name": "stderr",
     "output_type": "stream",
     "text": [
      "/glade/derecho/scratch/jhayron/tmp/ipykernel_88395/3195897115.py:44: UserWarning: Boolean Series key will be reindexed to match DataFrame index.\n",
      "  freq_pt_past = 100*len(df_temp.loc['1994':'2023'][df_temp['WR']==1])/len(df_temp.loc['1994':'2023'])\n",
      "/glade/derecho/scratch/jhayron/tmp/ipykernel_88395/3195897115.py:45: UserWarning: Boolean Series key will be reindexed to match DataFrame index.\n",
      "  freq_pt_present = 100*len(df_temp.loc['2071':'2100'][df_temp['WR']==1])/len(df_temp.loc['2071':'2100'])\n"
     ]
    },
    {
     "name": "stdout",
     "output_type": "stream",
     "text": [
      "17\n"
     ]
    },
    {
     "name": "stderr",
     "output_type": "stream",
     "text": [
      "/glade/derecho/scratch/jhayron/tmp/ipykernel_88395/3195897115.py:44: UserWarning: Boolean Series key will be reindexed to match DataFrame index.\n",
      "  freq_pt_past = 100*len(df_temp.loc['1994':'2023'][df_temp['WR']==1])/len(df_temp.loc['1994':'2023'])\n",
      "/glade/derecho/scratch/jhayron/tmp/ipykernel_88395/3195897115.py:45: UserWarning: Boolean Series key will be reindexed to match DataFrame index.\n",
      "  freq_pt_present = 100*len(df_temp.loc['2071':'2100'][df_temp['WR']==1])/len(df_temp.loc['2071':'2100'])\n"
     ]
    },
    {
     "name": "stdout",
     "output_type": "stream",
     "text": [
      "18\n"
     ]
    },
    {
     "name": "stderr",
     "output_type": "stream",
     "text": [
      "/glade/derecho/scratch/jhayron/tmp/ipykernel_88395/3195897115.py:44: UserWarning: Boolean Series key will be reindexed to match DataFrame index.\n",
      "  freq_pt_past = 100*len(df_temp.loc['1994':'2023'][df_temp['WR']==1])/len(df_temp.loc['1994':'2023'])\n",
      "/glade/derecho/scratch/jhayron/tmp/ipykernel_88395/3195897115.py:45: UserWarning: Boolean Series key will be reindexed to match DataFrame index.\n",
      "  freq_pt_present = 100*len(df_temp.loc['2071':'2100'][df_temp['WR']==1])/len(df_temp.loc['2071':'2100'])\n"
     ]
    },
    {
     "name": "stdout",
     "output_type": "stream",
     "text": [
      "19\n"
     ]
    },
    {
     "name": "stderr",
     "output_type": "stream",
     "text": [
      "/glade/derecho/scratch/jhayron/tmp/ipykernel_88395/3195897115.py:44: UserWarning: Boolean Series key will be reindexed to match DataFrame index.\n",
      "  freq_pt_past = 100*len(df_temp.loc['1994':'2023'][df_temp['WR']==1])/len(df_temp.loc['1994':'2023'])\n",
      "/glade/derecho/scratch/jhayron/tmp/ipykernel_88395/3195897115.py:45: UserWarning: Boolean Series key will be reindexed to match DataFrame index.\n",
      "  freq_pt_present = 100*len(df_temp.loc['2071':'2100'][df_temp['WR']==1])/len(df_temp.loc['2071':'2100'])\n"
     ]
    },
    {
     "name": "stdout",
     "output_type": "stream",
     "text": [
      "20\n"
     ]
    },
    {
     "name": "stderr",
     "output_type": "stream",
     "text": [
      "/glade/derecho/scratch/jhayron/tmp/ipykernel_88395/3195897115.py:44: UserWarning: Boolean Series key will be reindexed to match DataFrame index.\n",
      "  freq_pt_past = 100*len(df_temp.loc['1994':'2023'][df_temp['WR']==1])/len(df_temp.loc['1994':'2023'])\n",
      "/glade/derecho/scratch/jhayron/tmp/ipykernel_88395/3195897115.py:45: UserWarning: Boolean Series key will be reindexed to match DataFrame index.\n",
      "  freq_pt_present = 100*len(df_temp.loc['2071':'2100'][df_temp['WR']==1])/len(df_temp.loc['2071':'2100'])\n"
     ]
    },
    {
     "name": "stdout",
     "output_type": "stream",
     "text": [
      "21\n"
     ]
    },
    {
     "name": "stderr",
     "output_type": "stream",
     "text": [
      "/glade/derecho/scratch/jhayron/tmp/ipykernel_88395/3195897115.py:44: UserWarning: Boolean Series key will be reindexed to match DataFrame index.\n",
      "  freq_pt_past = 100*len(df_temp.loc['1994':'2023'][df_temp['WR']==1])/len(df_temp.loc['1994':'2023'])\n",
      "/glade/derecho/scratch/jhayron/tmp/ipykernel_88395/3195897115.py:45: UserWarning: Boolean Series key will be reindexed to match DataFrame index.\n",
      "  freq_pt_present = 100*len(df_temp.loc['2071':'2100'][df_temp['WR']==1])/len(df_temp.loc['2071':'2100'])\n"
     ]
    },
    {
     "name": "stdout",
     "output_type": "stream",
     "text": [
      "22\n"
     ]
    },
    {
     "name": "stderr",
     "output_type": "stream",
     "text": [
      "/glade/derecho/scratch/jhayron/tmp/ipykernel_88395/3195897115.py:44: UserWarning: Boolean Series key will be reindexed to match DataFrame index.\n",
      "  freq_pt_past = 100*len(df_temp.loc['1994':'2023'][df_temp['WR']==1])/len(df_temp.loc['1994':'2023'])\n",
      "/glade/derecho/scratch/jhayron/tmp/ipykernel_88395/3195897115.py:45: UserWarning: Boolean Series key will be reindexed to match DataFrame index.\n",
      "  freq_pt_present = 100*len(df_temp.loc['2071':'2100'][df_temp['WR']==1])/len(df_temp.loc['2071':'2100'])\n"
     ]
    },
    {
     "name": "stdout",
     "output_type": "stream",
     "text": [
      "23\n"
     ]
    },
    {
     "name": "stderr",
     "output_type": "stream",
     "text": [
      "/glade/derecho/scratch/jhayron/tmp/ipykernel_88395/3195897115.py:44: UserWarning: Boolean Series key will be reindexed to match DataFrame index.\n",
      "  freq_pt_past = 100*len(df_temp.loc['1994':'2023'][df_temp['WR']==1])/len(df_temp.loc['1994':'2023'])\n",
      "/glade/derecho/scratch/jhayron/tmp/ipykernel_88395/3195897115.py:45: UserWarning: Boolean Series key will be reindexed to match DataFrame index.\n",
      "  freq_pt_present = 100*len(df_temp.loc['2071':'2100'][df_temp['WR']==1])/len(df_temp.loc['2071':'2100'])\n"
     ]
    },
    {
     "name": "stdout",
     "output_type": "stream",
     "text": [
      "24\n"
     ]
    },
    {
     "name": "stderr",
     "output_type": "stream",
     "text": [
      "/glade/derecho/scratch/jhayron/tmp/ipykernel_88395/3195897115.py:44: UserWarning: Boolean Series key will be reindexed to match DataFrame index.\n",
      "  freq_pt_past = 100*len(df_temp.loc['1994':'2023'][df_temp['WR']==1])/len(df_temp.loc['1994':'2023'])\n",
      "/glade/derecho/scratch/jhayron/tmp/ipykernel_88395/3195897115.py:45: UserWarning: Boolean Series key will be reindexed to match DataFrame index.\n",
      "  freq_pt_present = 100*len(df_temp.loc['2071':'2100'][df_temp['WR']==1])/len(df_temp.loc['2071':'2100'])\n"
     ]
    },
    {
     "name": "stdout",
     "output_type": "stream",
     "text": [
      "25\n"
     ]
    },
    {
     "name": "stderr",
     "output_type": "stream",
     "text": [
      "/glade/derecho/scratch/jhayron/tmp/ipykernel_88395/3195897115.py:44: UserWarning: Boolean Series key will be reindexed to match DataFrame index.\n",
      "  freq_pt_past = 100*len(df_temp.loc['1994':'2023'][df_temp['WR']==1])/len(df_temp.loc['1994':'2023'])\n",
      "/glade/derecho/scratch/jhayron/tmp/ipykernel_88395/3195897115.py:45: UserWarning: Boolean Series key will be reindexed to match DataFrame index.\n",
      "  freq_pt_present = 100*len(df_temp.loc['2071':'2100'][df_temp['WR']==1])/len(df_temp.loc['2071':'2100'])\n"
     ]
    },
    {
     "name": "stdout",
     "output_type": "stream",
     "text": [
      "26\n"
     ]
    },
    {
     "name": "stderr",
     "output_type": "stream",
     "text": [
      "/glade/derecho/scratch/jhayron/tmp/ipykernel_88395/3195897115.py:44: UserWarning: Boolean Series key will be reindexed to match DataFrame index.\n",
      "  freq_pt_past = 100*len(df_temp.loc['1994':'2023'][df_temp['WR']==1])/len(df_temp.loc['1994':'2023'])\n",
      "/glade/derecho/scratch/jhayron/tmp/ipykernel_88395/3195897115.py:45: UserWarning: Boolean Series key will be reindexed to match DataFrame index.\n",
      "  freq_pt_present = 100*len(df_temp.loc['2071':'2100'][df_temp['WR']==1])/len(df_temp.loc['2071':'2100'])\n"
     ]
    },
    {
     "name": "stdout",
     "output_type": "stream",
     "text": [
      "27\n"
     ]
    },
    {
     "name": "stderr",
     "output_type": "stream",
     "text": [
      "/glade/derecho/scratch/jhayron/tmp/ipykernel_88395/3195897115.py:44: UserWarning: Boolean Series key will be reindexed to match DataFrame index.\n",
      "  freq_pt_past = 100*len(df_temp.loc['1994':'2023'][df_temp['WR']==1])/len(df_temp.loc['1994':'2023'])\n",
      "/glade/derecho/scratch/jhayron/tmp/ipykernel_88395/3195897115.py:45: UserWarning: Boolean Series key will be reindexed to match DataFrame index.\n",
      "  freq_pt_present = 100*len(df_temp.loc['2071':'2100'][df_temp['WR']==1])/len(df_temp.loc['2071':'2100'])\n"
     ]
    },
    {
     "name": "stdout",
     "output_type": "stream",
     "text": [
      "28\n"
     ]
    },
    {
     "name": "stderr",
     "output_type": "stream",
     "text": [
      "/glade/derecho/scratch/jhayron/tmp/ipykernel_88395/3195897115.py:44: UserWarning: Boolean Series key will be reindexed to match DataFrame index.\n",
      "  freq_pt_past = 100*len(df_temp.loc['1994':'2023'][df_temp['WR']==1])/len(df_temp.loc['1994':'2023'])\n",
      "/glade/derecho/scratch/jhayron/tmp/ipykernel_88395/3195897115.py:45: UserWarning: Boolean Series key will be reindexed to match DataFrame index.\n",
      "  freq_pt_present = 100*len(df_temp.loc['2071':'2100'][df_temp['WR']==1])/len(df_temp.loc['2071':'2100'])\n"
     ]
    },
    {
     "name": "stdout",
     "output_type": "stream",
     "text": [
      "29\n"
     ]
    },
    {
     "name": "stderr",
     "output_type": "stream",
     "text": [
      "/glade/derecho/scratch/jhayron/tmp/ipykernel_88395/3195897115.py:44: UserWarning: Boolean Series key will be reindexed to match DataFrame index.\n",
      "  freq_pt_past = 100*len(df_temp.loc['1994':'2023'][df_temp['WR']==1])/len(df_temp.loc['1994':'2023'])\n",
      "/glade/derecho/scratch/jhayron/tmp/ipykernel_88395/3195897115.py:45: UserWarning: Boolean Series key will be reindexed to match DataFrame index.\n",
      "  freq_pt_present = 100*len(df_temp.loc['2071':'2100'][df_temp['WR']==1])/len(df_temp.loc['2071':'2100'])\n"
     ]
    },
    {
     "name": "stdout",
     "output_type": "stream",
     "text": [
      "30\n"
     ]
    },
    {
     "name": "stderr",
     "output_type": "stream",
     "text": [
      "/glade/derecho/scratch/jhayron/tmp/ipykernel_88395/3195897115.py:44: UserWarning: Boolean Series key will be reindexed to match DataFrame index.\n",
      "  freq_pt_past = 100*len(df_temp.loc['1994':'2023'][df_temp['WR']==1])/len(df_temp.loc['1994':'2023'])\n",
      "/glade/derecho/scratch/jhayron/tmp/ipykernel_88395/3195897115.py:45: UserWarning: Boolean Series key will be reindexed to match DataFrame index.\n",
      "  freq_pt_present = 100*len(df_temp.loc['2071':'2100'][df_temp['WR']==1])/len(df_temp.loc['2071':'2100'])\n"
     ]
    },
    {
     "name": "stdout",
     "output_type": "stream",
     "text": [
      "31\n"
     ]
    },
    {
     "name": "stderr",
     "output_type": "stream",
     "text": [
      "/glade/derecho/scratch/jhayron/tmp/ipykernel_88395/3195897115.py:44: UserWarning: Boolean Series key will be reindexed to match DataFrame index.\n",
      "  freq_pt_past = 100*len(df_temp.loc['1994':'2023'][df_temp['WR']==1])/len(df_temp.loc['1994':'2023'])\n",
      "/glade/derecho/scratch/jhayron/tmp/ipykernel_88395/3195897115.py:45: UserWarning: Boolean Series key will be reindexed to match DataFrame index.\n",
      "  freq_pt_present = 100*len(df_temp.loc['2071':'2100'][df_temp['WR']==1])/len(df_temp.loc['2071':'2100'])\n"
     ]
    },
    {
     "name": "stdout",
     "output_type": "stream",
     "text": [
      "32\n"
     ]
    },
    {
     "name": "stderr",
     "output_type": "stream",
     "text": [
      "/glade/derecho/scratch/jhayron/tmp/ipykernel_88395/3195897115.py:44: UserWarning: Boolean Series key will be reindexed to match DataFrame index.\n",
      "  freq_pt_past = 100*len(df_temp.loc['1994':'2023'][df_temp['WR']==1])/len(df_temp.loc['1994':'2023'])\n",
      "/glade/derecho/scratch/jhayron/tmp/ipykernel_88395/3195897115.py:45: UserWarning: Boolean Series key will be reindexed to match DataFrame index.\n",
      "  freq_pt_present = 100*len(df_temp.loc['2071':'2100'][df_temp['WR']==1])/len(df_temp.loc['2071':'2100'])\n"
     ]
    },
    {
     "name": "stdout",
     "output_type": "stream",
     "text": [
      "33\n"
     ]
    },
    {
     "name": "stderr",
     "output_type": "stream",
     "text": [
      "/glade/derecho/scratch/jhayron/tmp/ipykernel_88395/3195897115.py:44: UserWarning: Boolean Series key will be reindexed to match DataFrame index.\n",
      "  freq_pt_past = 100*len(df_temp.loc['1994':'2023'][df_temp['WR']==1])/len(df_temp.loc['1994':'2023'])\n",
      "/glade/derecho/scratch/jhayron/tmp/ipykernel_88395/3195897115.py:45: UserWarning: Boolean Series key will be reindexed to match DataFrame index.\n",
      "  freq_pt_present = 100*len(df_temp.loc['2071':'2100'][df_temp['WR']==1])/len(df_temp.loc['2071':'2100'])\n"
     ]
    },
    {
     "name": "stdout",
     "output_type": "stream",
     "text": [
      "34\n"
     ]
    },
    {
     "name": "stderr",
     "output_type": "stream",
     "text": [
      "/glade/derecho/scratch/jhayron/tmp/ipykernel_88395/3195897115.py:44: UserWarning: Boolean Series key will be reindexed to match DataFrame index.\n",
      "  freq_pt_past = 100*len(df_temp.loc['1994':'2023'][df_temp['WR']==1])/len(df_temp.loc['1994':'2023'])\n",
      "/glade/derecho/scratch/jhayron/tmp/ipykernel_88395/3195897115.py:45: UserWarning: Boolean Series key will be reindexed to match DataFrame index.\n",
      "  freq_pt_present = 100*len(df_temp.loc['2071':'2100'][df_temp['WR']==1])/len(df_temp.loc['2071':'2100'])\n"
     ]
    },
    {
     "name": "stdout",
     "output_type": "stream",
     "text": [
      "35\n"
     ]
    },
    {
     "name": "stderr",
     "output_type": "stream",
     "text": [
      "/glade/derecho/scratch/jhayron/tmp/ipykernel_88395/3195897115.py:44: UserWarning: Boolean Series key will be reindexed to match DataFrame index.\n",
      "  freq_pt_past = 100*len(df_temp.loc['1994':'2023'][df_temp['WR']==1])/len(df_temp.loc['1994':'2023'])\n",
      "/glade/derecho/scratch/jhayron/tmp/ipykernel_88395/3195897115.py:45: UserWarning: Boolean Series key will be reindexed to match DataFrame index.\n",
      "  freq_pt_present = 100*len(df_temp.loc['2071':'2100'][df_temp['WR']==1])/len(df_temp.loc['2071':'2100'])\n"
     ]
    },
    {
     "name": "stdout",
     "output_type": "stream",
     "text": [
      "36\n"
     ]
    },
    {
     "name": "stderr",
     "output_type": "stream",
     "text": [
      "/glade/derecho/scratch/jhayron/tmp/ipykernel_88395/3195897115.py:44: UserWarning: Boolean Series key will be reindexed to match DataFrame index.\n",
      "  freq_pt_past = 100*len(df_temp.loc['1994':'2023'][df_temp['WR']==1])/len(df_temp.loc['1994':'2023'])\n",
      "/glade/derecho/scratch/jhayron/tmp/ipykernel_88395/3195897115.py:45: UserWarning: Boolean Series key will be reindexed to match DataFrame index.\n",
      "  freq_pt_present = 100*len(df_temp.loc['2071':'2100'][df_temp['WR']==1])/len(df_temp.loc['2071':'2100'])\n"
     ]
    },
    {
     "name": "stdout",
     "output_type": "stream",
     "text": [
      "37\n"
     ]
    },
    {
     "name": "stderr",
     "output_type": "stream",
     "text": [
      "/glade/derecho/scratch/jhayron/tmp/ipykernel_88395/3195897115.py:44: UserWarning: Boolean Series key will be reindexed to match DataFrame index.\n",
      "  freq_pt_past = 100*len(df_temp.loc['1994':'2023'][df_temp['WR']==1])/len(df_temp.loc['1994':'2023'])\n",
      "/glade/derecho/scratch/jhayron/tmp/ipykernel_88395/3195897115.py:45: UserWarning: Boolean Series key will be reindexed to match DataFrame index.\n",
      "  freq_pt_present = 100*len(df_temp.loc['2071':'2100'][df_temp['WR']==1])/len(df_temp.loc['2071':'2100'])\n"
     ]
    },
    {
     "name": "stdout",
     "output_type": "stream",
     "text": [
      "38\n"
     ]
    },
    {
     "name": "stderr",
     "output_type": "stream",
     "text": [
      "/glade/derecho/scratch/jhayron/tmp/ipykernel_88395/3195897115.py:44: UserWarning: Boolean Series key will be reindexed to match DataFrame index.\n",
      "  freq_pt_past = 100*len(df_temp.loc['1994':'2023'][df_temp['WR']==1])/len(df_temp.loc['1994':'2023'])\n",
      "/glade/derecho/scratch/jhayron/tmp/ipykernel_88395/3195897115.py:45: UserWarning: Boolean Series key will be reindexed to match DataFrame index.\n",
      "  freq_pt_present = 100*len(df_temp.loc['2071':'2100'][df_temp['WR']==1])/len(df_temp.loc['2071':'2100'])\n"
     ]
    },
    {
     "name": "stdout",
     "output_type": "stream",
     "text": [
      "39\n"
     ]
    },
    {
     "name": "stderr",
     "output_type": "stream",
     "text": [
      "/glade/derecho/scratch/jhayron/tmp/ipykernel_88395/3195897115.py:44: UserWarning: Boolean Series key will be reindexed to match DataFrame index.\n",
      "  freq_pt_past = 100*len(df_temp.loc['1994':'2023'][df_temp['WR']==1])/len(df_temp.loc['1994':'2023'])\n",
      "/glade/derecho/scratch/jhayron/tmp/ipykernel_88395/3195897115.py:45: UserWarning: Boolean Series key will be reindexed to match DataFrame index.\n",
      "  freq_pt_present = 100*len(df_temp.loc['2071':'2100'][df_temp['WR']==1])/len(df_temp.loc['2071':'2100'])\n"
     ]
    },
    {
     "name": "stdout",
     "output_type": "stream",
     "text": [
      "40\n"
     ]
    },
    {
     "name": "stderr",
     "output_type": "stream",
     "text": [
      "/glade/derecho/scratch/jhayron/tmp/ipykernel_88395/3195897115.py:44: UserWarning: Boolean Series key will be reindexed to match DataFrame index.\n",
      "  freq_pt_past = 100*len(df_temp.loc['1994':'2023'][df_temp['WR']==1])/len(df_temp.loc['1994':'2023'])\n",
      "/glade/derecho/scratch/jhayron/tmp/ipykernel_88395/3195897115.py:45: UserWarning: Boolean Series key will be reindexed to match DataFrame index.\n",
      "  freq_pt_present = 100*len(df_temp.loc['2071':'2100'][df_temp['WR']==1])/len(df_temp.loc['2071':'2100'])\n"
     ]
    },
    {
     "name": "stdout",
     "output_type": "stream",
     "text": [
      "41\n"
     ]
    },
    {
     "name": "stderr",
     "output_type": "stream",
     "text": [
      "/glade/derecho/scratch/jhayron/tmp/ipykernel_88395/3195897115.py:44: UserWarning: Boolean Series key will be reindexed to match DataFrame index.\n",
      "  freq_pt_past = 100*len(df_temp.loc['1994':'2023'][df_temp['WR']==1])/len(df_temp.loc['1994':'2023'])\n",
      "/glade/derecho/scratch/jhayron/tmp/ipykernel_88395/3195897115.py:45: UserWarning: Boolean Series key will be reindexed to match DataFrame index.\n",
      "  freq_pt_present = 100*len(df_temp.loc['2071':'2100'][df_temp['WR']==1])/len(df_temp.loc['2071':'2100'])\n"
     ]
    },
    {
     "name": "stdout",
     "output_type": "stream",
     "text": [
      "42\n"
     ]
    },
    {
     "name": "stderr",
     "output_type": "stream",
     "text": [
      "/glade/derecho/scratch/jhayron/tmp/ipykernel_88395/3195897115.py:44: UserWarning: Boolean Series key will be reindexed to match DataFrame index.\n",
      "  freq_pt_past = 100*len(df_temp.loc['1994':'2023'][df_temp['WR']==1])/len(df_temp.loc['1994':'2023'])\n",
      "/glade/derecho/scratch/jhayron/tmp/ipykernel_88395/3195897115.py:45: UserWarning: Boolean Series key will be reindexed to match DataFrame index.\n",
      "  freq_pt_present = 100*len(df_temp.loc['2071':'2100'][df_temp['WR']==1])/len(df_temp.loc['2071':'2100'])\n"
     ]
    },
    {
     "name": "stdout",
     "output_type": "stream",
     "text": [
      "43\n"
     ]
    },
    {
     "name": "stderr",
     "output_type": "stream",
     "text": [
      "/glade/derecho/scratch/jhayron/tmp/ipykernel_88395/3195897115.py:44: UserWarning: Boolean Series key will be reindexed to match DataFrame index.\n",
      "  freq_pt_past = 100*len(df_temp.loc['1994':'2023'][df_temp['WR']==1])/len(df_temp.loc['1994':'2023'])\n",
      "/glade/derecho/scratch/jhayron/tmp/ipykernel_88395/3195897115.py:45: UserWarning: Boolean Series key will be reindexed to match DataFrame index.\n",
      "  freq_pt_present = 100*len(df_temp.loc['2071':'2100'][df_temp['WR']==1])/len(df_temp.loc['2071':'2100'])\n"
     ]
    },
    {
     "name": "stdout",
     "output_type": "stream",
     "text": [
      "44\n"
     ]
    },
    {
     "name": "stderr",
     "output_type": "stream",
     "text": [
      "/glade/derecho/scratch/jhayron/tmp/ipykernel_88395/3195897115.py:44: UserWarning: Boolean Series key will be reindexed to match DataFrame index.\n",
      "  freq_pt_past = 100*len(df_temp.loc['1994':'2023'][df_temp['WR']==1])/len(df_temp.loc['1994':'2023'])\n",
      "/glade/derecho/scratch/jhayron/tmp/ipykernel_88395/3195897115.py:45: UserWarning: Boolean Series key will be reindexed to match DataFrame index.\n",
      "  freq_pt_present = 100*len(df_temp.loc['2071':'2100'][df_temp['WR']==1])/len(df_temp.loc['2071':'2100'])\n"
     ]
    },
    {
     "name": "stdout",
     "output_type": "stream",
     "text": [
      "45\n"
     ]
    },
    {
     "name": "stderr",
     "output_type": "stream",
     "text": [
      "/glade/derecho/scratch/jhayron/tmp/ipykernel_88395/3195897115.py:44: UserWarning: Boolean Series key will be reindexed to match DataFrame index.\n",
      "  freq_pt_past = 100*len(df_temp.loc['1994':'2023'][df_temp['WR']==1])/len(df_temp.loc['1994':'2023'])\n",
      "/glade/derecho/scratch/jhayron/tmp/ipykernel_88395/3195897115.py:45: UserWarning: Boolean Series key will be reindexed to match DataFrame index.\n",
      "  freq_pt_present = 100*len(df_temp.loc['2071':'2100'][df_temp['WR']==1])/len(df_temp.loc['2071':'2100'])\n"
     ]
    },
    {
     "name": "stdout",
     "output_type": "stream",
     "text": [
      "46\n"
     ]
    },
    {
     "name": "stderr",
     "output_type": "stream",
     "text": [
      "/glade/derecho/scratch/jhayron/tmp/ipykernel_88395/3195897115.py:44: UserWarning: Boolean Series key will be reindexed to match DataFrame index.\n",
      "  freq_pt_past = 100*len(df_temp.loc['1994':'2023'][df_temp['WR']==1])/len(df_temp.loc['1994':'2023'])\n",
      "/glade/derecho/scratch/jhayron/tmp/ipykernel_88395/3195897115.py:45: UserWarning: Boolean Series key will be reindexed to match DataFrame index.\n",
      "  freq_pt_present = 100*len(df_temp.loc['2071':'2100'][df_temp['WR']==1])/len(df_temp.loc['2071':'2100'])\n"
     ]
    },
    {
     "name": "stdout",
     "output_type": "stream",
     "text": [
      "47\n"
     ]
    },
    {
     "name": "stderr",
     "output_type": "stream",
     "text": [
      "/glade/derecho/scratch/jhayron/tmp/ipykernel_88395/3195897115.py:44: UserWarning: Boolean Series key will be reindexed to match DataFrame index.\n",
      "  freq_pt_past = 100*len(df_temp.loc['1994':'2023'][df_temp['WR']==1])/len(df_temp.loc['1994':'2023'])\n",
      "/glade/derecho/scratch/jhayron/tmp/ipykernel_88395/3195897115.py:45: UserWarning: Boolean Series key will be reindexed to match DataFrame index.\n",
      "  freq_pt_present = 100*len(df_temp.loc['2071':'2100'][df_temp['WR']==1])/len(df_temp.loc['2071':'2100'])\n"
     ]
    },
    {
     "name": "stdout",
     "output_type": "stream",
     "text": [
      "48\n"
     ]
    },
    {
     "name": "stderr",
     "output_type": "stream",
     "text": [
      "/glade/derecho/scratch/jhayron/tmp/ipykernel_88395/3195897115.py:44: UserWarning: Boolean Series key will be reindexed to match DataFrame index.\n",
      "  freq_pt_past = 100*len(df_temp.loc['1994':'2023'][df_temp['WR']==1])/len(df_temp.loc['1994':'2023'])\n",
      "/glade/derecho/scratch/jhayron/tmp/ipykernel_88395/3195897115.py:45: UserWarning: Boolean Series key will be reindexed to match DataFrame index.\n",
      "  freq_pt_present = 100*len(df_temp.loc['2071':'2100'][df_temp['WR']==1])/len(df_temp.loc['2071':'2100'])\n"
     ]
    },
    {
     "name": "stdout",
     "output_type": "stream",
     "text": [
      "49\n"
     ]
    },
    {
     "name": "stderr",
     "output_type": "stream",
     "text": [
      "/glade/derecho/scratch/jhayron/tmp/ipykernel_88395/3195897115.py:44: UserWarning: Boolean Series key will be reindexed to match DataFrame index.\n",
      "  freq_pt_past = 100*len(df_temp.loc['1994':'2023'][df_temp['WR']==1])/len(df_temp.loc['1994':'2023'])\n",
      "/glade/derecho/scratch/jhayron/tmp/ipykernel_88395/3195897115.py:45: UserWarning: Boolean Series key will be reindexed to match DataFrame index.\n",
      "  freq_pt_present = 100*len(df_temp.loc['2071':'2100'][df_temp['WR']==1])/len(df_temp.loc['2071':'2100'])\n"
     ]
    },
    {
     "name": "stdout",
     "output_type": "stream",
     "text": [
      "50\n"
     ]
    },
    {
     "name": "stderr",
     "output_type": "stream",
     "text": [
      "/glade/derecho/scratch/jhayron/tmp/ipykernel_88395/3195897115.py:44: UserWarning: Boolean Series key will be reindexed to match DataFrame index.\n",
      "  freq_pt_past = 100*len(df_temp.loc['1994':'2023'][df_temp['WR']==1])/len(df_temp.loc['1994':'2023'])\n",
      "/glade/derecho/scratch/jhayron/tmp/ipykernel_88395/3195897115.py:45: UserWarning: Boolean Series key will be reindexed to match DataFrame index.\n",
      "  freq_pt_present = 100*len(df_temp.loc['2071':'2100'][df_temp['WR']==1])/len(df_temp.loc['2071':'2100'])\n"
     ]
    },
    {
     "name": "stdout",
     "output_type": "stream",
     "text": [
      "51\n"
     ]
    },
    {
     "name": "stderr",
     "output_type": "stream",
     "text": [
      "/glade/derecho/scratch/jhayron/tmp/ipykernel_88395/3195897115.py:44: UserWarning: Boolean Series key will be reindexed to match DataFrame index.\n",
      "  freq_pt_past = 100*len(df_temp.loc['1994':'2023'][df_temp['WR']==1])/len(df_temp.loc['1994':'2023'])\n",
      "/glade/derecho/scratch/jhayron/tmp/ipykernel_88395/3195897115.py:45: UserWarning: Boolean Series key will be reindexed to match DataFrame index.\n",
      "  freq_pt_present = 100*len(df_temp.loc['2071':'2100'][df_temp['WR']==1])/len(df_temp.loc['2071':'2100'])\n"
     ]
    },
    {
     "name": "stdout",
     "output_type": "stream",
     "text": [
      "52\n"
     ]
    },
    {
     "name": "stderr",
     "output_type": "stream",
     "text": [
      "/glade/derecho/scratch/jhayron/tmp/ipykernel_88395/3195897115.py:44: UserWarning: Boolean Series key will be reindexed to match DataFrame index.\n",
      "  freq_pt_past = 100*len(df_temp.loc['1994':'2023'][df_temp['WR']==1])/len(df_temp.loc['1994':'2023'])\n",
      "/glade/derecho/scratch/jhayron/tmp/ipykernel_88395/3195897115.py:45: UserWarning: Boolean Series key will be reindexed to match DataFrame index.\n",
      "  freq_pt_present = 100*len(df_temp.loc['2071':'2100'][df_temp['WR']==1])/len(df_temp.loc['2071':'2100'])\n"
     ]
    },
    {
     "name": "stdout",
     "output_type": "stream",
     "text": [
      "53\n"
     ]
    },
    {
     "name": "stderr",
     "output_type": "stream",
     "text": [
      "/glade/derecho/scratch/jhayron/tmp/ipykernel_88395/3195897115.py:44: UserWarning: Boolean Series key will be reindexed to match DataFrame index.\n",
      "  freq_pt_past = 100*len(df_temp.loc['1994':'2023'][df_temp['WR']==1])/len(df_temp.loc['1994':'2023'])\n",
      "/glade/derecho/scratch/jhayron/tmp/ipykernel_88395/3195897115.py:45: UserWarning: Boolean Series key will be reindexed to match DataFrame index.\n",
      "  freq_pt_present = 100*len(df_temp.loc['2071':'2100'][df_temp['WR']==1])/len(df_temp.loc['2071':'2100'])\n"
     ]
    },
    {
     "name": "stdout",
     "output_type": "stream",
     "text": [
      "54\n"
     ]
    },
    {
     "name": "stderr",
     "output_type": "stream",
     "text": [
      "/glade/derecho/scratch/jhayron/tmp/ipykernel_88395/3195897115.py:44: UserWarning: Boolean Series key will be reindexed to match DataFrame index.\n",
      "  freq_pt_past = 100*len(df_temp.loc['1994':'2023'][df_temp['WR']==1])/len(df_temp.loc['1994':'2023'])\n",
      "/glade/derecho/scratch/jhayron/tmp/ipykernel_88395/3195897115.py:45: UserWarning: Boolean Series key will be reindexed to match DataFrame index.\n",
      "  freq_pt_present = 100*len(df_temp.loc['2071':'2100'][df_temp['WR']==1])/len(df_temp.loc['2071':'2100'])\n"
     ]
    },
    {
     "name": "stdout",
     "output_type": "stream",
     "text": [
      "55\n"
     ]
    },
    {
     "name": "stderr",
     "output_type": "stream",
     "text": [
      "/glade/derecho/scratch/jhayron/tmp/ipykernel_88395/3195897115.py:44: UserWarning: Boolean Series key will be reindexed to match DataFrame index.\n",
      "  freq_pt_past = 100*len(df_temp.loc['1994':'2023'][df_temp['WR']==1])/len(df_temp.loc['1994':'2023'])\n",
      "/glade/derecho/scratch/jhayron/tmp/ipykernel_88395/3195897115.py:45: UserWarning: Boolean Series key will be reindexed to match DataFrame index.\n",
      "  freq_pt_present = 100*len(df_temp.loc['2071':'2100'][df_temp['WR']==1])/len(df_temp.loc['2071':'2100'])\n"
     ]
    },
    {
     "name": "stdout",
     "output_type": "stream",
     "text": [
      "56\n"
     ]
    },
    {
     "name": "stderr",
     "output_type": "stream",
     "text": [
      "/glade/derecho/scratch/jhayron/tmp/ipykernel_88395/3195897115.py:44: UserWarning: Boolean Series key will be reindexed to match DataFrame index.\n",
      "  freq_pt_past = 100*len(df_temp.loc['1994':'2023'][df_temp['WR']==1])/len(df_temp.loc['1994':'2023'])\n",
      "/glade/derecho/scratch/jhayron/tmp/ipykernel_88395/3195897115.py:45: UserWarning: Boolean Series key will be reindexed to match DataFrame index.\n",
      "  freq_pt_present = 100*len(df_temp.loc['2071':'2100'][df_temp['WR']==1])/len(df_temp.loc['2071':'2100'])\n"
     ]
    },
    {
     "name": "stdout",
     "output_type": "stream",
     "text": [
      "57\n"
     ]
    },
    {
     "name": "stderr",
     "output_type": "stream",
     "text": [
      "/glade/derecho/scratch/jhayron/tmp/ipykernel_88395/3195897115.py:44: UserWarning: Boolean Series key will be reindexed to match DataFrame index.\n",
      "  freq_pt_past = 100*len(df_temp.loc['1994':'2023'][df_temp['WR']==1])/len(df_temp.loc['1994':'2023'])\n",
      "/glade/derecho/scratch/jhayron/tmp/ipykernel_88395/3195897115.py:45: UserWarning: Boolean Series key will be reindexed to match DataFrame index.\n",
      "  freq_pt_present = 100*len(df_temp.loc['2071':'2100'][df_temp['WR']==1])/len(df_temp.loc['2071':'2100'])\n"
     ]
    },
    {
     "name": "stdout",
     "output_type": "stream",
     "text": [
      "58\n"
     ]
    },
    {
     "name": "stderr",
     "output_type": "stream",
     "text": [
      "/glade/derecho/scratch/jhayron/tmp/ipykernel_88395/3195897115.py:44: UserWarning: Boolean Series key will be reindexed to match DataFrame index.\n",
      "  freq_pt_past = 100*len(df_temp.loc['1994':'2023'][df_temp['WR']==1])/len(df_temp.loc['1994':'2023'])\n",
      "/glade/derecho/scratch/jhayron/tmp/ipykernel_88395/3195897115.py:45: UserWarning: Boolean Series key will be reindexed to match DataFrame index.\n",
      "  freq_pt_present = 100*len(df_temp.loc['2071':'2100'][df_temp['WR']==1])/len(df_temp.loc['2071':'2100'])\n"
     ]
    },
    {
     "name": "stdout",
     "output_type": "stream",
     "text": [
      "59\n"
     ]
    },
    {
     "name": "stderr",
     "output_type": "stream",
     "text": [
      "/glade/derecho/scratch/jhayron/tmp/ipykernel_88395/3195897115.py:44: UserWarning: Boolean Series key will be reindexed to match DataFrame index.\n",
      "  freq_pt_past = 100*len(df_temp.loc['1994':'2023'][df_temp['WR']==1])/len(df_temp.loc['1994':'2023'])\n",
      "/glade/derecho/scratch/jhayron/tmp/ipykernel_88395/3195897115.py:45: UserWarning: Boolean Series key will be reindexed to match DataFrame index.\n",
      "  freq_pt_present = 100*len(df_temp.loc['2071':'2100'][df_temp['WR']==1])/len(df_temp.loc['2071':'2100'])\n"
     ]
    },
    {
     "name": "stdout",
     "output_type": "stream",
     "text": [
      "60\n"
     ]
    },
    {
     "name": "stderr",
     "output_type": "stream",
     "text": [
      "/glade/derecho/scratch/jhayron/tmp/ipykernel_88395/3195897115.py:44: UserWarning: Boolean Series key will be reindexed to match DataFrame index.\n",
      "  freq_pt_past = 100*len(df_temp.loc['1994':'2023'][df_temp['WR']==1])/len(df_temp.loc['1994':'2023'])\n",
      "/glade/derecho/scratch/jhayron/tmp/ipykernel_88395/3195897115.py:45: UserWarning: Boolean Series key will be reindexed to match DataFrame index.\n",
      "  freq_pt_present = 100*len(df_temp.loc['2071':'2100'][df_temp['WR']==1])/len(df_temp.loc['2071':'2100'])\n"
     ]
    },
    {
     "name": "stdout",
     "output_type": "stream",
     "text": [
      "61\n"
     ]
    },
    {
     "name": "stderr",
     "output_type": "stream",
     "text": [
      "/glade/derecho/scratch/jhayron/tmp/ipykernel_88395/3195897115.py:44: UserWarning: Boolean Series key will be reindexed to match DataFrame index.\n",
      "  freq_pt_past = 100*len(df_temp.loc['1994':'2023'][df_temp['WR']==1])/len(df_temp.loc['1994':'2023'])\n",
      "/glade/derecho/scratch/jhayron/tmp/ipykernel_88395/3195897115.py:45: UserWarning: Boolean Series key will be reindexed to match DataFrame index.\n",
      "  freq_pt_present = 100*len(df_temp.loc['2071':'2100'][df_temp['WR']==1])/len(df_temp.loc['2071':'2100'])\n"
     ]
    },
    {
     "name": "stdout",
     "output_type": "stream",
     "text": [
      "62\n"
     ]
    },
    {
     "name": "stderr",
     "output_type": "stream",
     "text": [
      "/glade/derecho/scratch/jhayron/tmp/ipykernel_88395/3195897115.py:44: UserWarning: Boolean Series key will be reindexed to match DataFrame index.\n",
      "  freq_pt_past = 100*len(df_temp.loc['1994':'2023'][df_temp['WR']==1])/len(df_temp.loc['1994':'2023'])\n",
      "/glade/derecho/scratch/jhayron/tmp/ipykernel_88395/3195897115.py:45: UserWarning: Boolean Series key will be reindexed to match DataFrame index.\n",
      "  freq_pt_present = 100*len(df_temp.loc['2071':'2100'][df_temp['WR']==1])/len(df_temp.loc['2071':'2100'])\n"
     ]
    },
    {
     "name": "stdout",
     "output_type": "stream",
     "text": [
      "63\n"
     ]
    },
    {
     "name": "stderr",
     "output_type": "stream",
     "text": [
      "/glade/derecho/scratch/jhayron/tmp/ipykernel_88395/3195897115.py:44: UserWarning: Boolean Series key will be reindexed to match DataFrame index.\n",
      "  freq_pt_past = 100*len(df_temp.loc['1994':'2023'][df_temp['WR']==1])/len(df_temp.loc['1994':'2023'])\n",
      "/glade/derecho/scratch/jhayron/tmp/ipykernel_88395/3195897115.py:45: UserWarning: Boolean Series key will be reindexed to match DataFrame index.\n",
      "  freq_pt_present = 100*len(df_temp.loc['2071':'2100'][df_temp['WR']==1])/len(df_temp.loc['2071':'2100'])\n"
     ]
    },
    {
     "name": "stdout",
     "output_type": "stream",
     "text": [
      "64\n"
     ]
    },
    {
     "name": "stderr",
     "output_type": "stream",
     "text": [
      "/glade/derecho/scratch/jhayron/tmp/ipykernel_88395/3195897115.py:44: UserWarning: Boolean Series key will be reindexed to match DataFrame index.\n",
      "  freq_pt_past = 100*len(df_temp.loc['1994':'2023'][df_temp['WR']==1])/len(df_temp.loc['1994':'2023'])\n",
      "/glade/derecho/scratch/jhayron/tmp/ipykernel_88395/3195897115.py:45: UserWarning: Boolean Series key will be reindexed to match DataFrame index.\n",
      "  freq_pt_present = 100*len(df_temp.loc['2071':'2100'][df_temp['WR']==1])/len(df_temp.loc['2071':'2100'])\n"
     ]
    },
    {
     "name": "stdout",
     "output_type": "stream",
     "text": [
      "65\n"
     ]
    },
    {
     "name": "stderr",
     "output_type": "stream",
     "text": [
      "/glade/derecho/scratch/jhayron/tmp/ipykernel_88395/3195897115.py:44: UserWarning: Boolean Series key will be reindexed to match DataFrame index.\n",
      "  freq_pt_past = 100*len(df_temp.loc['1994':'2023'][df_temp['WR']==1])/len(df_temp.loc['1994':'2023'])\n",
      "/glade/derecho/scratch/jhayron/tmp/ipykernel_88395/3195897115.py:45: UserWarning: Boolean Series key will be reindexed to match DataFrame index.\n",
      "  freq_pt_present = 100*len(df_temp.loc['2071':'2100'][df_temp['WR']==1])/len(df_temp.loc['2071':'2100'])\n"
     ]
    },
    {
     "name": "stdout",
     "output_type": "stream",
     "text": [
      "66\n"
     ]
    },
    {
     "name": "stderr",
     "output_type": "stream",
     "text": [
      "/glade/derecho/scratch/jhayron/tmp/ipykernel_88395/3195897115.py:44: UserWarning: Boolean Series key will be reindexed to match DataFrame index.\n",
      "  freq_pt_past = 100*len(df_temp.loc['1994':'2023'][df_temp['WR']==1])/len(df_temp.loc['1994':'2023'])\n",
      "/glade/derecho/scratch/jhayron/tmp/ipykernel_88395/3195897115.py:45: UserWarning: Boolean Series key will be reindexed to match DataFrame index.\n",
      "  freq_pt_present = 100*len(df_temp.loc['2071':'2100'][df_temp['WR']==1])/len(df_temp.loc['2071':'2100'])\n"
     ]
    },
    {
     "name": "stdout",
     "output_type": "stream",
     "text": [
      "67\n"
     ]
    },
    {
     "name": "stderr",
     "output_type": "stream",
     "text": [
      "/glade/derecho/scratch/jhayron/tmp/ipykernel_88395/3195897115.py:44: UserWarning: Boolean Series key will be reindexed to match DataFrame index.\n",
      "  freq_pt_past = 100*len(df_temp.loc['1994':'2023'][df_temp['WR']==1])/len(df_temp.loc['1994':'2023'])\n",
      "/glade/derecho/scratch/jhayron/tmp/ipykernel_88395/3195897115.py:45: UserWarning: Boolean Series key will be reindexed to match DataFrame index.\n",
      "  freq_pt_present = 100*len(df_temp.loc['2071':'2100'][df_temp['WR']==1])/len(df_temp.loc['2071':'2100'])\n"
     ]
    },
    {
     "name": "stdout",
     "output_type": "stream",
     "text": [
      "68\n"
     ]
    },
    {
     "name": "stderr",
     "output_type": "stream",
     "text": [
      "/glade/derecho/scratch/jhayron/tmp/ipykernel_88395/3195897115.py:44: UserWarning: Boolean Series key will be reindexed to match DataFrame index.\n",
      "  freq_pt_past = 100*len(df_temp.loc['1994':'2023'][df_temp['WR']==1])/len(df_temp.loc['1994':'2023'])\n",
      "/glade/derecho/scratch/jhayron/tmp/ipykernel_88395/3195897115.py:45: UserWarning: Boolean Series key will be reindexed to match DataFrame index.\n",
      "  freq_pt_present = 100*len(df_temp.loc['2071':'2100'][df_temp['WR']==1])/len(df_temp.loc['2071':'2100'])\n"
     ]
    },
    {
     "name": "stdout",
     "output_type": "stream",
     "text": [
      "69\n"
     ]
    },
    {
     "name": "stderr",
     "output_type": "stream",
     "text": [
      "/glade/derecho/scratch/jhayron/tmp/ipykernel_88395/3195897115.py:44: UserWarning: Boolean Series key will be reindexed to match DataFrame index.\n",
      "  freq_pt_past = 100*len(df_temp.loc['1994':'2023'][df_temp['WR']==1])/len(df_temp.loc['1994':'2023'])\n",
      "/glade/derecho/scratch/jhayron/tmp/ipykernel_88395/3195897115.py:45: UserWarning: Boolean Series key will be reindexed to match DataFrame index.\n",
      "  freq_pt_present = 100*len(df_temp.loc['2071':'2100'][df_temp['WR']==1])/len(df_temp.loc['2071':'2100'])\n"
     ]
    },
    {
     "name": "stdout",
     "output_type": "stream",
     "text": [
      "70\n"
     ]
    },
    {
     "name": "stderr",
     "output_type": "stream",
     "text": [
      "/glade/derecho/scratch/jhayron/tmp/ipykernel_88395/3195897115.py:44: UserWarning: Boolean Series key will be reindexed to match DataFrame index.\n",
      "  freq_pt_past = 100*len(df_temp.loc['1994':'2023'][df_temp['WR']==1])/len(df_temp.loc['1994':'2023'])\n",
      "/glade/derecho/scratch/jhayron/tmp/ipykernel_88395/3195897115.py:45: UserWarning: Boolean Series key will be reindexed to match DataFrame index.\n",
      "  freq_pt_present = 100*len(df_temp.loc['2071':'2100'][df_temp['WR']==1])/len(df_temp.loc['2071':'2100'])\n"
     ]
    },
    {
     "name": "stdout",
     "output_type": "stream",
     "text": [
      "71\n"
     ]
    },
    {
     "name": "stderr",
     "output_type": "stream",
     "text": [
      "/glade/derecho/scratch/jhayron/tmp/ipykernel_88395/3195897115.py:44: UserWarning: Boolean Series key will be reindexed to match DataFrame index.\n",
      "  freq_pt_past = 100*len(df_temp.loc['1994':'2023'][df_temp['WR']==1])/len(df_temp.loc['1994':'2023'])\n",
      "/glade/derecho/scratch/jhayron/tmp/ipykernel_88395/3195897115.py:45: UserWarning: Boolean Series key will be reindexed to match DataFrame index.\n",
      "  freq_pt_present = 100*len(df_temp.loc['2071':'2100'][df_temp['WR']==1])/len(df_temp.loc['2071':'2100'])\n"
     ]
    },
    {
     "name": "stdout",
     "output_type": "stream",
     "text": [
      "72\n"
     ]
    },
    {
     "name": "stderr",
     "output_type": "stream",
     "text": [
      "/glade/derecho/scratch/jhayron/tmp/ipykernel_88395/3195897115.py:44: UserWarning: Boolean Series key will be reindexed to match DataFrame index.\n",
      "  freq_pt_past = 100*len(df_temp.loc['1994':'2023'][df_temp['WR']==1])/len(df_temp.loc['1994':'2023'])\n",
      "/glade/derecho/scratch/jhayron/tmp/ipykernel_88395/3195897115.py:45: UserWarning: Boolean Series key will be reindexed to match DataFrame index.\n",
      "  freq_pt_present = 100*len(df_temp.loc['2071':'2100'][df_temp['WR']==1])/len(df_temp.loc['2071':'2100'])\n"
     ]
    },
    {
     "name": "stdout",
     "output_type": "stream",
     "text": [
      "73\n"
     ]
    },
    {
     "name": "stderr",
     "output_type": "stream",
     "text": [
      "/glade/derecho/scratch/jhayron/tmp/ipykernel_88395/3195897115.py:44: UserWarning: Boolean Series key will be reindexed to match DataFrame index.\n",
      "  freq_pt_past = 100*len(df_temp.loc['1994':'2023'][df_temp['WR']==1])/len(df_temp.loc['1994':'2023'])\n",
      "/glade/derecho/scratch/jhayron/tmp/ipykernel_88395/3195897115.py:45: UserWarning: Boolean Series key will be reindexed to match DataFrame index.\n",
      "  freq_pt_present = 100*len(df_temp.loc['2071':'2100'][df_temp['WR']==1])/len(df_temp.loc['2071':'2100'])\n"
     ]
    },
    {
     "name": "stdout",
     "output_type": "stream",
     "text": [
      "74\n"
     ]
    },
    {
     "name": "stderr",
     "output_type": "stream",
     "text": [
      "/glade/derecho/scratch/jhayron/tmp/ipykernel_88395/3195897115.py:44: UserWarning: Boolean Series key will be reindexed to match DataFrame index.\n",
      "  freq_pt_past = 100*len(df_temp.loc['1994':'2023'][df_temp['WR']==1])/len(df_temp.loc['1994':'2023'])\n",
      "/glade/derecho/scratch/jhayron/tmp/ipykernel_88395/3195897115.py:45: UserWarning: Boolean Series key will be reindexed to match DataFrame index.\n",
      "  freq_pt_present = 100*len(df_temp.loc['2071':'2100'][df_temp['WR']==1])/len(df_temp.loc['2071':'2100'])\n"
     ]
    },
    {
     "name": "stdout",
     "output_type": "stream",
     "text": [
      "75\n"
     ]
    },
    {
     "name": "stderr",
     "output_type": "stream",
     "text": [
      "/glade/derecho/scratch/jhayron/tmp/ipykernel_88395/3195897115.py:44: UserWarning: Boolean Series key will be reindexed to match DataFrame index.\n",
      "  freq_pt_past = 100*len(df_temp.loc['1994':'2023'][df_temp['WR']==1])/len(df_temp.loc['1994':'2023'])\n",
      "/glade/derecho/scratch/jhayron/tmp/ipykernel_88395/3195897115.py:45: UserWarning: Boolean Series key will be reindexed to match DataFrame index.\n",
      "  freq_pt_present = 100*len(df_temp.loc['2071':'2100'][df_temp['WR']==1])/len(df_temp.loc['2071':'2100'])\n"
     ]
    },
    {
     "name": "stdout",
     "output_type": "stream",
     "text": [
      "76\n"
     ]
    },
    {
     "name": "stderr",
     "output_type": "stream",
     "text": [
      "/glade/derecho/scratch/jhayron/tmp/ipykernel_88395/3195897115.py:44: UserWarning: Boolean Series key will be reindexed to match DataFrame index.\n",
      "  freq_pt_past = 100*len(df_temp.loc['1994':'2023'][df_temp['WR']==1])/len(df_temp.loc['1994':'2023'])\n",
      "/glade/derecho/scratch/jhayron/tmp/ipykernel_88395/3195897115.py:45: UserWarning: Boolean Series key will be reindexed to match DataFrame index.\n",
      "  freq_pt_present = 100*len(df_temp.loc['2071':'2100'][df_temp['WR']==1])/len(df_temp.loc['2071':'2100'])\n"
     ]
    },
    {
     "name": "stdout",
     "output_type": "stream",
     "text": [
      "77\n"
     ]
    },
    {
     "name": "stderr",
     "output_type": "stream",
     "text": [
      "/glade/derecho/scratch/jhayron/tmp/ipykernel_88395/3195897115.py:44: UserWarning: Boolean Series key will be reindexed to match DataFrame index.\n",
      "  freq_pt_past = 100*len(df_temp.loc['1994':'2023'][df_temp['WR']==1])/len(df_temp.loc['1994':'2023'])\n",
      "/glade/derecho/scratch/jhayron/tmp/ipykernel_88395/3195897115.py:45: UserWarning: Boolean Series key will be reindexed to match DataFrame index.\n",
      "  freq_pt_present = 100*len(df_temp.loc['2071':'2100'][df_temp['WR']==1])/len(df_temp.loc['2071':'2100'])\n"
     ]
    },
    {
     "name": "stdout",
     "output_type": "stream",
     "text": [
      "78\n"
     ]
    },
    {
     "name": "stderr",
     "output_type": "stream",
     "text": [
      "/glade/derecho/scratch/jhayron/tmp/ipykernel_88395/3195897115.py:44: UserWarning: Boolean Series key will be reindexed to match DataFrame index.\n",
      "  freq_pt_past = 100*len(df_temp.loc['1994':'2023'][df_temp['WR']==1])/len(df_temp.loc['1994':'2023'])\n",
      "/glade/derecho/scratch/jhayron/tmp/ipykernel_88395/3195897115.py:45: UserWarning: Boolean Series key will be reindexed to match DataFrame index.\n",
      "  freq_pt_present = 100*len(df_temp.loc['2071':'2100'][df_temp['WR']==1])/len(df_temp.loc['2071':'2100'])\n"
     ]
    },
    {
     "name": "stdout",
     "output_type": "stream",
     "text": [
      "79\n"
     ]
    },
    {
     "name": "stderr",
     "output_type": "stream",
     "text": [
      "/glade/derecho/scratch/jhayron/tmp/ipykernel_88395/3195897115.py:44: UserWarning: Boolean Series key will be reindexed to match DataFrame index.\n",
      "  freq_pt_past = 100*len(df_temp.loc['1994':'2023'][df_temp['WR']==1])/len(df_temp.loc['1994':'2023'])\n",
      "/glade/derecho/scratch/jhayron/tmp/ipykernel_88395/3195897115.py:45: UserWarning: Boolean Series key will be reindexed to match DataFrame index.\n",
      "  freq_pt_present = 100*len(df_temp.loc['2071':'2100'][df_temp['WR']==1])/len(df_temp.loc['2071':'2100'])\n"
     ]
    },
    {
     "name": "stdout",
     "output_type": "stream",
     "text": [
      "80\n"
     ]
    },
    {
     "name": "stderr",
     "output_type": "stream",
     "text": [
      "/glade/derecho/scratch/jhayron/tmp/ipykernel_88395/3195897115.py:44: UserWarning: Boolean Series key will be reindexed to match DataFrame index.\n",
      "  freq_pt_past = 100*len(df_temp.loc['1994':'2023'][df_temp['WR']==1])/len(df_temp.loc['1994':'2023'])\n",
      "/glade/derecho/scratch/jhayron/tmp/ipykernel_88395/3195897115.py:45: UserWarning: Boolean Series key will be reindexed to match DataFrame index.\n",
      "  freq_pt_present = 100*len(df_temp.loc['2071':'2100'][df_temp['WR']==1])/len(df_temp.loc['2071':'2100'])\n"
     ]
    },
    {
     "name": "stdout",
     "output_type": "stream",
     "text": [
      "81\n"
     ]
    },
    {
     "name": "stderr",
     "output_type": "stream",
     "text": [
      "/glade/derecho/scratch/jhayron/tmp/ipykernel_88395/3195897115.py:44: UserWarning: Boolean Series key will be reindexed to match DataFrame index.\n",
      "  freq_pt_past = 100*len(df_temp.loc['1994':'2023'][df_temp['WR']==1])/len(df_temp.loc['1994':'2023'])\n",
      "/glade/derecho/scratch/jhayron/tmp/ipykernel_88395/3195897115.py:45: UserWarning: Boolean Series key will be reindexed to match DataFrame index.\n",
      "  freq_pt_present = 100*len(df_temp.loc['2071':'2100'][df_temp['WR']==1])/len(df_temp.loc['2071':'2100'])\n"
     ]
    },
    {
     "name": "stdout",
     "output_type": "stream",
     "text": [
      "82\n"
     ]
    },
    {
     "name": "stderr",
     "output_type": "stream",
     "text": [
      "/glade/derecho/scratch/jhayron/tmp/ipykernel_88395/3195897115.py:44: UserWarning: Boolean Series key will be reindexed to match DataFrame index.\n",
      "  freq_pt_past = 100*len(df_temp.loc['1994':'2023'][df_temp['WR']==1])/len(df_temp.loc['1994':'2023'])\n",
      "/glade/derecho/scratch/jhayron/tmp/ipykernel_88395/3195897115.py:45: UserWarning: Boolean Series key will be reindexed to match DataFrame index.\n",
      "  freq_pt_present = 100*len(df_temp.loc['2071':'2100'][df_temp['WR']==1])/len(df_temp.loc['2071':'2100'])\n"
     ]
    },
    {
     "name": "stdout",
     "output_type": "stream",
     "text": [
      "83\n"
     ]
    },
    {
     "name": "stderr",
     "output_type": "stream",
     "text": [
      "/glade/derecho/scratch/jhayron/tmp/ipykernel_88395/3195897115.py:44: UserWarning: Boolean Series key will be reindexed to match DataFrame index.\n",
      "  freq_pt_past = 100*len(df_temp.loc['1994':'2023'][df_temp['WR']==1])/len(df_temp.loc['1994':'2023'])\n",
      "/glade/derecho/scratch/jhayron/tmp/ipykernel_88395/3195897115.py:45: UserWarning: Boolean Series key will be reindexed to match DataFrame index.\n",
      "  freq_pt_present = 100*len(df_temp.loc['2071':'2100'][df_temp['WR']==1])/len(df_temp.loc['2071':'2100'])\n"
     ]
    },
    {
     "name": "stdout",
     "output_type": "stream",
     "text": [
      "84\n"
     ]
    },
    {
     "name": "stderr",
     "output_type": "stream",
     "text": [
      "/glade/derecho/scratch/jhayron/tmp/ipykernel_88395/3195897115.py:44: UserWarning: Boolean Series key will be reindexed to match DataFrame index.\n",
      "  freq_pt_past = 100*len(df_temp.loc['1994':'2023'][df_temp['WR']==1])/len(df_temp.loc['1994':'2023'])\n",
      "/glade/derecho/scratch/jhayron/tmp/ipykernel_88395/3195897115.py:45: UserWarning: Boolean Series key will be reindexed to match DataFrame index.\n",
      "  freq_pt_present = 100*len(df_temp.loc['2071':'2100'][df_temp['WR']==1])/len(df_temp.loc['2071':'2100'])\n"
     ]
    },
    {
     "name": "stdout",
     "output_type": "stream",
     "text": [
      "85\n"
     ]
    },
    {
     "name": "stderr",
     "output_type": "stream",
     "text": [
      "/glade/derecho/scratch/jhayron/tmp/ipykernel_88395/3195897115.py:44: UserWarning: Boolean Series key will be reindexed to match DataFrame index.\n",
      "  freq_pt_past = 100*len(df_temp.loc['1994':'2023'][df_temp['WR']==1])/len(df_temp.loc['1994':'2023'])\n",
      "/glade/derecho/scratch/jhayron/tmp/ipykernel_88395/3195897115.py:45: UserWarning: Boolean Series key will be reindexed to match DataFrame index.\n",
      "  freq_pt_present = 100*len(df_temp.loc['2071':'2100'][df_temp['WR']==1])/len(df_temp.loc['2071':'2100'])\n"
     ]
    },
    {
     "name": "stdout",
     "output_type": "stream",
     "text": [
      "86\n"
     ]
    },
    {
     "name": "stderr",
     "output_type": "stream",
     "text": [
      "/glade/derecho/scratch/jhayron/tmp/ipykernel_88395/3195897115.py:44: UserWarning: Boolean Series key will be reindexed to match DataFrame index.\n",
      "  freq_pt_past = 100*len(df_temp.loc['1994':'2023'][df_temp['WR']==1])/len(df_temp.loc['1994':'2023'])\n",
      "/glade/derecho/scratch/jhayron/tmp/ipykernel_88395/3195897115.py:45: UserWarning: Boolean Series key will be reindexed to match DataFrame index.\n",
      "  freq_pt_present = 100*len(df_temp.loc['2071':'2100'][df_temp['WR']==1])/len(df_temp.loc['2071':'2100'])\n"
     ]
    },
    {
     "name": "stdout",
     "output_type": "stream",
     "text": [
      "87\n"
     ]
    },
    {
     "name": "stderr",
     "output_type": "stream",
     "text": [
      "/glade/derecho/scratch/jhayron/tmp/ipykernel_88395/3195897115.py:44: UserWarning: Boolean Series key will be reindexed to match DataFrame index.\n",
      "  freq_pt_past = 100*len(df_temp.loc['1994':'2023'][df_temp['WR']==1])/len(df_temp.loc['1994':'2023'])\n",
      "/glade/derecho/scratch/jhayron/tmp/ipykernel_88395/3195897115.py:45: UserWarning: Boolean Series key will be reindexed to match DataFrame index.\n",
      "  freq_pt_present = 100*len(df_temp.loc['2071':'2100'][df_temp['WR']==1])/len(df_temp.loc['2071':'2100'])\n"
     ]
    },
    {
     "name": "stdout",
     "output_type": "stream",
     "text": [
      "88\n"
     ]
    },
    {
     "name": "stderr",
     "output_type": "stream",
     "text": [
      "/glade/derecho/scratch/jhayron/tmp/ipykernel_88395/3195897115.py:44: UserWarning: Boolean Series key will be reindexed to match DataFrame index.\n",
      "  freq_pt_past = 100*len(df_temp.loc['1994':'2023'][df_temp['WR']==1])/len(df_temp.loc['1994':'2023'])\n",
      "/glade/derecho/scratch/jhayron/tmp/ipykernel_88395/3195897115.py:45: UserWarning: Boolean Series key will be reindexed to match DataFrame index.\n",
      "  freq_pt_present = 100*len(df_temp.loc['2071':'2100'][df_temp['WR']==1])/len(df_temp.loc['2071':'2100'])\n"
     ]
    },
    {
     "name": "stdout",
     "output_type": "stream",
     "text": [
      "89\n"
     ]
    },
    {
     "name": "stderr",
     "output_type": "stream",
     "text": [
      "/glade/derecho/scratch/jhayron/tmp/ipykernel_88395/3195897115.py:44: UserWarning: Boolean Series key will be reindexed to match DataFrame index.\n",
      "  freq_pt_past = 100*len(df_temp.loc['1994':'2023'][df_temp['WR']==1])/len(df_temp.loc['1994':'2023'])\n",
      "/glade/derecho/scratch/jhayron/tmp/ipykernel_88395/3195897115.py:45: UserWarning: Boolean Series key will be reindexed to match DataFrame index.\n",
      "  freq_pt_present = 100*len(df_temp.loc['2071':'2100'][df_temp['WR']==1])/len(df_temp.loc['2071':'2100'])\n"
     ]
    },
    {
     "name": "stdout",
     "output_type": "stream",
     "text": [
      "90\n"
     ]
    },
    {
     "name": "stderr",
     "output_type": "stream",
     "text": [
      "/glade/derecho/scratch/jhayron/tmp/ipykernel_88395/3195897115.py:44: UserWarning: Boolean Series key will be reindexed to match DataFrame index.\n",
      "  freq_pt_past = 100*len(df_temp.loc['1994':'2023'][df_temp['WR']==1])/len(df_temp.loc['1994':'2023'])\n",
      "/glade/derecho/scratch/jhayron/tmp/ipykernel_88395/3195897115.py:45: UserWarning: Boolean Series key will be reindexed to match DataFrame index.\n",
      "  freq_pt_present = 100*len(df_temp.loc['2071':'2100'][df_temp['WR']==1])/len(df_temp.loc['2071':'2100'])\n"
     ]
    },
    {
     "name": "stdout",
     "output_type": "stream",
     "text": [
      "91\n"
     ]
    },
    {
     "name": "stderr",
     "output_type": "stream",
     "text": [
      "/glade/derecho/scratch/jhayron/tmp/ipykernel_88395/3195897115.py:44: UserWarning: Boolean Series key will be reindexed to match DataFrame index.\n",
      "  freq_pt_past = 100*len(df_temp.loc['1994':'2023'][df_temp['WR']==1])/len(df_temp.loc['1994':'2023'])\n",
      "/glade/derecho/scratch/jhayron/tmp/ipykernel_88395/3195897115.py:45: UserWarning: Boolean Series key will be reindexed to match DataFrame index.\n",
      "  freq_pt_present = 100*len(df_temp.loc['2071':'2100'][df_temp['WR']==1])/len(df_temp.loc['2071':'2100'])\n"
     ]
    },
    {
     "name": "stdout",
     "output_type": "stream",
     "text": [
      "92\n"
     ]
    },
    {
     "name": "stderr",
     "output_type": "stream",
     "text": [
      "/glade/derecho/scratch/jhayron/tmp/ipykernel_88395/3195897115.py:44: UserWarning: Boolean Series key will be reindexed to match DataFrame index.\n",
      "  freq_pt_past = 100*len(df_temp.loc['1994':'2023'][df_temp['WR']==1])/len(df_temp.loc['1994':'2023'])\n",
      "/glade/derecho/scratch/jhayron/tmp/ipykernel_88395/3195897115.py:45: UserWarning: Boolean Series key will be reindexed to match DataFrame index.\n",
      "  freq_pt_present = 100*len(df_temp.loc['2071':'2100'][df_temp['WR']==1])/len(df_temp.loc['2071':'2100'])\n"
     ]
    },
    {
     "name": "stdout",
     "output_type": "stream",
     "text": [
      "93\n"
     ]
    },
    {
     "name": "stderr",
     "output_type": "stream",
     "text": [
      "/glade/derecho/scratch/jhayron/tmp/ipykernel_88395/3195897115.py:44: UserWarning: Boolean Series key will be reindexed to match DataFrame index.\n",
      "  freq_pt_past = 100*len(df_temp.loc['1994':'2023'][df_temp['WR']==1])/len(df_temp.loc['1994':'2023'])\n",
      "/glade/derecho/scratch/jhayron/tmp/ipykernel_88395/3195897115.py:45: UserWarning: Boolean Series key will be reindexed to match DataFrame index.\n",
      "  freq_pt_present = 100*len(df_temp.loc['2071':'2100'][df_temp['WR']==1])/len(df_temp.loc['2071':'2100'])\n"
     ]
    },
    {
     "name": "stdout",
     "output_type": "stream",
     "text": [
      "94\n"
     ]
    },
    {
     "name": "stderr",
     "output_type": "stream",
     "text": [
      "/glade/derecho/scratch/jhayron/tmp/ipykernel_88395/3195897115.py:44: UserWarning: Boolean Series key will be reindexed to match DataFrame index.\n",
      "  freq_pt_past = 100*len(df_temp.loc['1994':'2023'][df_temp['WR']==1])/len(df_temp.loc['1994':'2023'])\n",
      "/glade/derecho/scratch/jhayron/tmp/ipykernel_88395/3195897115.py:45: UserWarning: Boolean Series key will be reindexed to match DataFrame index.\n",
      "  freq_pt_present = 100*len(df_temp.loc['2071':'2100'][df_temp['WR']==1])/len(df_temp.loc['2071':'2100'])\n"
     ]
    },
    {
     "name": "stdout",
     "output_type": "stream",
     "text": [
      "95\n"
     ]
    },
    {
     "name": "stderr",
     "output_type": "stream",
     "text": [
      "/glade/derecho/scratch/jhayron/tmp/ipykernel_88395/3195897115.py:44: UserWarning: Boolean Series key will be reindexed to match DataFrame index.\n",
      "  freq_pt_past = 100*len(df_temp.loc['1994':'2023'][df_temp['WR']==1])/len(df_temp.loc['1994':'2023'])\n",
      "/glade/derecho/scratch/jhayron/tmp/ipykernel_88395/3195897115.py:45: UserWarning: Boolean Series key will be reindexed to match DataFrame index.\n",
      "  freq_pt_present = 100*len(df_temp.loc['2071':'2100'][df_temp['WR']==1])/len(df_temp.loc['2071':'2100'])\n"
     ]
    },
    {
     "name": "stdout",
     "output_type": "stream",
     "text": [
      "96\n"
     ]
    },
    {
     "name": "stderr",
     "output_type": "stream",
     "text": [
      "/glade/derecho/scratch/jhayron/tmp/ipykernel_88395/3195897115.py:44: UserWarning: Boolean Series key will be reindexed to match DataFrame index.\n",
      "  freq_pt_past = 100*len(df_temp.loc['1994':'2023'][df_temp['WR']==1])/len(df_temp.loc['1994':'2023'])\n",
      "/glade/derecho/scratch/jhayron/tmp/ipykernel_88395/3195897115.py:45: UserWarning: Boolean Series key will be reindexed to match DataFrame index.\n",
      "  freq_pt_present = 100*len(df_temp.loc['2071':'2100'][df_temp['WR']==1])/len(df_temp.loc['2071':'2100'])\n"
     ]
    },
    {
     "name": "stdout",
     "output_type": "stream",
     "text": [
      "97\n"
     ]
    },
    {
     "name": "stderr",
     "output_type": "stream",
     "text": [
      "/glade/derecho/scratch/jhayron/tmp/ipykernel_88395/3195897115.py:44: UserWarning: Boolean Series key will be reindexed to match DataFrame index.\n",
      "  freq_pt_past = 100*len(df_temp.loc['1994':'2023'][df_temp['WR']==1])/len(df_temp.loc['1994':'2023'])\n",
      "/glade/derecho/scratch/jhayron/tmp/ipykernel_88395/3195897115.py:45: UserWarning: Boolean Series key will be reindexed to match DataFrame index.\n",
      "  freq_pt_present = 100*len(df_temp.loc['2071':'2100'][df_temp['WR']==1])/len(df_temp.loc['2071':'2100'])\n"
     ]
    },
    {
     "name": "stdout",
     "output_type": "stream",
     "text": [
      "98\n"
     ]
    },
    {
     "name": "stderr",
     "output_type": "stream",
     "text": [
      "/glade/derecho/scratch/jhayron/tmp/ipykernel_88395/3195897115.py:44: UserWarning: Boolean Series key will be reindexed to match DataFrame index.\n",
      "  freq_pt_past = 100*len(df_temp.loc['1994':'2023'][df_temp['WR']==1])/len(df_temp.loc['1994':'2023'])\n",
      "/glade/derecho/scratch/jhayron/tmp/ipykernel_88395/3195897115.py:45: UserWarning: Boolean Series key will be reindexed to match DataFrame index.\n",
      "  freq_pt_present = 100*len(df_temp.loc['2071':'2100'][df_temp['WR']==1])/len(df_temp.loc['2071':'2100'])\n"
     ]
    },
    {
     "name": "stdout",
     "output_type": "stream",
     "text": [
      "99\n"
     ]
    },
    {
     "name": "stderr",
     "output_type": "stream",
     "text": [
      "/glade/derecho/scratch/jhayron/tmp/ipykernel_88395/3195897115.py:44: UserWarning: Boolean Series key will be reindexed to match DataFrame index.\n",
      "  freq_pt_past = 100*len(df_temp.loc['1994':'2023'][df_temp['WR']==1])/len(df_temp.loc['1994':'2023'])\n",
      "/glade/derecho/scratch/jhayron/tmp/ipykernel_88395/3195897115.py:45: UserWarning: Boolean Series key will be reindexed to match DataFrame index.\n",
      "  freq_pt_present = 100*len(df_temp.loc['2071':'2100'][df_temp['WR']==1])/len(df_temp.loc['2071':'2100'])\n"
     ]
    }
   ],
   "source": [
    "full_ds_extremes = []\n",
    "varname = 'TREFHTMX'\n",
    "\n",
    "for filei in range(len(names_exps)):\n",
    "    print(filei)\n",
    "    ### Without considering WR ###\n",
    "\n",
    "    higherthanp90_temp = xr.open_dataset(filenames[filei])\n",
    "    name_exp_temp = names_exps[filei]\n",
    "\n",
    "    temp_temp = higherthanp90_temp.sel(time=slice('1994','2023'))\n",
    "    composite_past = temp_temp.sum('time')/30\n",
    "    temp_temp = higherthanp90_temp.sel(time=slice('2071','2100'))\n",
    "    composite_present = temp_temp.sum('time')/30\n",
    "    Np = composite_past[varname]\n",
    "    Nf = composite_present[varname]\n",
    "\n",
    "    ### For PT days ###\n",
    "\n",
    "    df_temp = dic_labels_lens2[name_exp_temp]['1994':'2023']\n",
    "    temp_temp = higherthanp90_temp.sel(time=df_temp[df_temp['WR']==1].index)\n",
    "    composite_past = temp_temp.sum('time')/30\n",
    "\n",
    "    df_temp = dic_labels_lens2[name_exp_temp]['2071':'2100']\n",
    "    temp_temp = higherthanp90_temp.sel(time=df_temp[df_temp['WR']==1].index)\n",
    "    composite_present = temp_temp.sum('time')/30\n",
    "    Np_forPT = composite_past[varname]\n",
    "    Nf_forPT = composite_present[varname]\n",
    "\n",
    "    ### For non PT days ###\n",
    "\n",
    "    df_temp = dic_labels_lens2[name_exp_temp]['1994':'2023']\n",
    "    temp_temp = higherthanp90_temp.sel(time=df_temp[df_temp['WR']!=1].index)\n",
    "    composite_past = temp_temp.sum('time')/30\n",
    "\n",
    "    df_temp = dic_labels_lens2[name_exp_temp]['2071':'2100']\n",
    "    temp_temp = higherthanp90_temp.sel(time=df_temp[df_temp['WR']!=1].index)\n",
    "    composite_present = temp_temp.sum('time')/30\n",
    "    Np_nonPT = composite_past[varname]\n",
    "    Nf_nonPT = composite_present[varname]\n",
    "\n",
    "    ### Calculations ###\n",
    "    df_temp = dic_labels_lens2[name_exp_temp]\n",
    "    freq_pt_past = 100*len(df_temp.loc['1994':'2023'][df_temp['WR']==1])/len(df_temp.loc['1994':'2023'])\n",
    "    freq_pt_present = 100*len(df_temp.loc['2071':'2100'][df_temp['WR']==1])/len(df_temp.loc['2071':'2100'])\n",
    "    \n",
    "    N_days_PT_past = freq_pt_past*180/100\n",
    "    N_days_PT_present = freq_pt_present*180/100\n",
    "    \n",
    "    N_days_other_past = 180-N_days_PT_past\n",
    "    N_days_other_present = 180-N_days_PT_present\n",
    "    \n",
    "    # compute fractions\n",
    "    fPT_p = Np_forPT/N_days_PT_past\n",
    "    fPT_f = Nf_forPT/N_days_PT_present\n",
    "    \n",
    "    fo_p = Np_nonPT/N_days_other_past\n",
    "    fo_f = Nf_nonPT/N_days_other_present\n",
    "    \n",
    "    delta_f_PT = fPT_f - fPT_p\n",
    "    delta_N_PT = N_days_PT_present - N_days_PT_past\n",
    "    delta_Nh_PT = Nf_forPT - Np_forPT \n",
    "    \n",
    "    delta_f_o = fo_f-fo_p\n",
    "    \n",
    "    delta_f_prime_PT = delta_f_PT - delta_f_o\n",
    "    \n",
    "    # Term 1 - effect of overall w-s increase in events for the past frequency\n",
    "    a1 = N_days_PT_past * delta_f_o\n",
    "    \n",
    "    # Term 2 - effect of increase in events per day exclusive for the PT (apart from the mean)\n",
    "    a2 = delta_f_o * delta_N_PT\n",
    "    \n",
    "    # Term 3 - linear effect of increase in frequency\n",
    "    a3 = delta_N_PT * fo_p\n",
    "    \n",
    "    # Term 4 - linear effect of increase in frequency\n",
    "    a4 = delta_N_PT * (fPT_p-fo_p)\n",
    "    \n",
    "    # Term 5 - effect of increase in events per day exclusive for the PT (apart from the mean)\n",
    "    a5 = N_days_PT_past * delta_f_prime_PT\n",
    "    \n",
    "    # Term 6 - nonlinear effect of increase in PT frequency and increase in extremes per day \n",
    "    # apart from the overall increase (exclusive for the PT)\n",
    "    a6 = delta_f_prime_PT * delta_N_PT\n",
    "\n",
    "    ### w-s total changes ###\n",
    "    B_PT = fPT_f * N_days_PT_present - fPT_p * N_days_PT_past\n",
    "    B_nonPT = fo_f * N_days_other_present - fo_p * N_days_other_past\n",
    "\n",
    "    dic_extremes_decomposition = {'a1':a1,\n",
    "        'a2':a2,\n",
    "        'a3':a3,\n",
    "        'a4':a4,\n",
    "        'a5':a5,\n",
    "        'a6':a6,\n",
    "        'b_PT':B_PT,\n",
    "        'b_nonPT':B_nonPT,\n",
    "        'Np':Np,\n",
    "        'Nf':Nf,\n",
    "        'delta_f_o': delta_f_o,\n",
    "        'delta_f_PT': delta_f_PT}\n",
    "    ds_extremes_decomposition = xr.Dataset(dic_extremes_decomposition)\n",
    "    full_ds_extremes.append(ds_extremes_decomposition)"
   ]
  },
  {
   "cell_type": "code",
   "execution_count": 17,
   "id": "4680deb3-8bcc-4010-938b-7dad2f30304e",
   "metadata": {},
   "outputs": [],
   "source": [
    "full_ds_extremes = xr.concat(full_ds_extremes,dim='exp')"
   ]
  },
  {
   "cell_type": "code",
   "execution_count": 18,
   "id": "626d0fc6-b30f-46fc-a255-538994d1a3c0",
   "metadata": {},
   "outputs": [],
   "source": [
    "full_ds_extremes.to_netcdf('diffs_models_extremes_v2/diffs_lens_higherthanp90.nc')"
   ]
  },
  {
   "cell_type": "code",
   "execution_count": 19,
   "id": "233e38aa-11ee-47d6-afe7-7e4f40401461",
   "metadata": {},
   "outputs": [
    {
     "data": {
      "text/plain": [
       "<matplotlib.colorbar.Colorbar at 0x1499b4861d60>"
      ]
     },
     "execution_count": 19,
     "metadata": {},
     "output_type": "execute_result"
    },
    {
     "data": {
      "image/png": "[encoded data removed]",
      "text/plain": [
       "<Figure size 640x480 with 2 Axes>"
      ]
     },
     "metadata": {},
     "output_type": "display_data"
    }
   ],
   "source": [
    "dstemp = full_ds_extremes.sel(exp=30)\n",
    "plt.pcolormesh((dstemp.a4 + dstemp.a5 + dstemp.a6)*100/(dstemp.b_PT + dstemp.b_PT),vmin=0,vmax=20)\n",
    "plt.colorbar()"
   ]
  },
  {
   "cell_type": "markdown",
   "id": "3d133aee-f2f0-4f67-b8f5-6ef4b5bdf068",
   "metadata": {},
   "source": [
    "# Warm spells"
   ]
  },
  {
   "cell_type": "code",
   "execution_count": 20,
   "id": "cfaff3d9-62a1-4c40-b944-876500d99f1e",
   "metadata": {},
   "outputs": [],
   "source": [
    "def find_start_durations(data):\n",
    "    \"\"\"Finds durations of consecutive 1s and assigns them to start times.\"\"\"\n",
    "    durations = np.zeros_like(data, dtype=int)  # Initialize durations array\n",
    "    for lat_idx in range(data.shape[1]):\n",
    "        for lon_idx in range(data.shape[2]):\n",
    "            time_series = data[:, lat_idx, lon_idx]\n",
    "            if np.any(time_series):\n",
    "                diffs = np.diff(np.concatenate(([0], time_series, [0])))\n",
    "                starts = np.where(diffs == 1)[0]\n",
    "                ends = np.where(diffs == -1)[0]\n",
    "                for start, end in zip(starts, ends):\n",
    "                    durations[start, lat_idx, lon_idx] = end - start\n",
    "    return durations"
   ]
  },
  {
   "cell_type": "code",
   "execution_count": 21,
   "id": "45a5a6ea-9231-4a1b-b590-efbd45943da1",
   "metadata": {},
   "outputs": [],
   "source": [
    "path_spells = '/glade/derecho/scratch/jhayron/Data4WRsClimateChange/LENS2_warmspells_v2/'"
   ]
  },
  {
   "cell_type": "code",
   "execution_count": 22,
   "id": "4a7047fc-61a9-4913-a8a6-81f57bb52415",
   "metadata": {
    "scrolled": true
   },
   "outputs": [
    {
     "name": "stdout",
     "output_type": "stream",
     "text": [
      "0\n"
     ]
    },
    {
     "name": "stderr",
     "output_type": "stream",
     "text": [
      "/glade/derecho/scratch/jhayron/tmp/ipykernel_88395/2740791710.py:56: UserWarning: Boolean Series key will be reindexed to match DataFrame index.\n",
      "  freq_pt_past = 100*len(df_temp.loc['1994':'2023'][df_temp['WR']==1])/len(df_temp.loc['1994':'2023'])\n",
      "/glade/derecho/scratch/jhayron/tmp/ipykernel_88395/2740791710.py:57: UserWarning: Boolean Series key will be reindexed to match DataFrame index.\n",
      "  freq_pt_present = 100*len(df_temp.loc['2071':'2100'][df_temp['WR']==1])/len(df_temp.loc['2071':'2100'])\n"
     ]
    },
    {
     "name": "stdout",
     "output_type": "stream",
     "text": [
      "1\n"
     ]
    },
    {
     "name": "stderr",
     "output_type": "stream",
     "text": [
      "/glade/derecho/scratch/jhayron/tmp/ipykernel_88395/2740791710.py:56: UserWarning: Boolean Series key will be reindexed to match DataFrame index.\n",
      "  freq_pt_past = 100*len(df_temp.loc['1994':'2023'][df_temp['WR']==1])/len(df_temp.loc['1994':'2023'])\n",
      "/glade/derecho/scratch/jhayron/tmp/ipykernel_88395/2740791710.py:57: UserWarning: Boolean Series key will be reindexed to match DataFrame index.\n",
      "  freq_pt_present = 100*len(df_temp.loc['2071':'2100'][df_temp['WR']==1])/len(df_temp.loc['2071':'2100'])\n"
     ]
    },
    {
     "name": "stdout",
     "output_type": "stream",
     "text": [
      "2\n"
     ]
    },
    {
     "name": "stderr",
     "output_type": "stream",
     "text": [
      "/glade/derecho/scratch/jhayron/tmp/ipykernel_88395/2740791710.py:56: UserWarning: Boolean Series key will be reindexed to match DataFrame index.\n",
      "  freq_pt_past = 100*len(df_temp.loc['1994':'2023'][df_temp['WR']==1])/len(df_temp.loc['1994':'2023'])\n",
      "/glade/derecho/scratch/jhayron/tmp/ipykernel_88395/2740791710.py:57: UserWarning: Boolean Series key will be reindexed to match DataFrame index.\n",
      "  freq_pt_present = 100*len(df_temp.loc['2071':'2100'][df_temp['WR']==1])/len(df_temp.loc['2071':'2100'])\n"
     ]
    },
    {
     "name": "stdout",
     "output_type": "stream",
     "text": [
      "3\n"
     ]
    },
    {
     "name": "stderr",
     "output_type": "stream",
     "text": [
      "/glade/derecho/scratch/jhayron/tmp/ipykernel_88395/2740791710.py:56: UserWarning: Boolean Series key will be reindexed to match DataFrame index.\n",
      "  freq_pt_past = 100*len(df_temp.loc['1994':'2023'][df_temp['WR']==1])/len(df_temp.loc['1994':'2023'])\n",
      "/glade/derecho/scratch/jhayron/tmp/ipykernel_88395/2740791710.py:57: UserWarning: Boolean Series key will be reindexed to match DataFrame index.\n",
      "  freq_pt_present = 100*len(df_temp.loc['2071':'2100'][df_temp['WR']==1])/len(df_temp.loc['2071':'2100'])\n"
     ]
    },
    {
     "name": "stdout",
     "output_type": "stream",
     "text": [
      "4\n"
     ]
    },
    {
     "name": "stderr",
     "output_type": "stream",
     "text": [
      "/glade/derecho/scratch/jhayron/tmp/ipykernel_88395/2740791710.py:56: UserWarning: Boolean Series key will be reindexed to match DataFrame index.\n",
      "  freq_pt_past = 100*len(df_temp.loc['1994':'2023'][df_temp['WR']==1])/len(df_temp.loc['1994':'2023'])\n",
      "/glade/derecho/scratch/jhayron/tmp/ipykernel_88395/2740791710.py:57: UserWarning: Boolean Series key will be reindexed to match DataFrame index.\n",
      "  freq_pt_present = 100*len(df_temp.loc['2071':'2100'][df_temp['WR']==1])/len(df_temp.loc['2071':'2100'])\n"
     ]
    },
    {
     "name": "stdout",
     "output_type": "stream",
     "text": [
      "5\n"
     ]
    },
    {
     "name": "stderr",
     "output_type": "stream",
     "text": [
      "/glade/derecho/scratch/jhayron/tmp/ipykernel_88395/2740791710.py:56: UserWarning: Boolean Series key will be reindexed to match DataFrame index.\n",
      "  freq_pt_past = 100*len(df_temp.loc['1994':'2023'][df_temp['WR']==1])/len(df_temp.loc['1994':'2023'])\n",
      "/glade/derecho/scratch/jhayron/tmp/ipykernel_88395/2740791710.py:57: UserWarning: Boolean Series key will be reindexed to match DataFrame index.\n",
      "  freq_pt_present = 100*len(df_temp.loc['2071':'2100'][df_temp['WR']==1])/len(df_temp.loc['2071':'2100'])\n"
     ]
    },
    {
     "name": "stdout",
     "output_type": "stream",
     "text": [
      "6\n"
     ]
    },
    {
     "name": "stderr",
     "output_type": "stream",
     "text": [
      "/glade/derecho/scratch/jhayron/tmp/ipykernel_88395/2740791710.py:56: UserWarning: Boolean Series key will be reindexed to match DataFrame index.\n",
      "  freq_pt_past = 100*len(df_temp.loc['1994':'2023'][df_temp['WR']==1])/len(df_temp.loc['1994':'2023'])\n",
      "/glade/derecho/scratch/jhayron/tmp/ipykernel_88395/2740791710.py:57: UserWarning: Boolean Series key will be reindexed to match DataFrame index.\n",
      "  freq_pt_present = 100*len(df_temp.loc['2071':'2100'][df_temp['WR']==1])/len(df_temp.loc['2071':'2100'])\n"
     ]
    },
    {
     "name": "stdout",
     "output_type": "stream",
     "text": [
      "7\n"
     ]
    },
    {
     "name": "stderr",
     "output_type": "stream",
     "text": [
      "/glade/derecho/scratch/jhayron/tmp/ipykernel_88395/2740791710.py:56: UserWarning: Boolean Series key will be reindexed to match DataFrame index.\n",
      "  freq_pt_past = 100*len(df_temp.loc['1994':'2023'][df_temp['WR']==1])/len(df_temp.loc['1994':'2023'])\n",
      "/glade/derecho/scratch/jhayron/tmp/ipykernel_88395/2740791710.py:57: UserWarning: Boolean Series key will be reindexed to match DataFrame index.\n",
      "  freq_pt_present = 100*len(df_temp.loc['2071':'2100'][df_temp['WR']==1])/len(df_temp.loc['2071':'2100'])\n"
     ]
    },
    {
     "name": "stdout",
     "output_type": "stream",
     "text": [
      "8\n"
     ]
    },
    {
     "name": "stderr",
     "output_type": "stream",
     "text": [
      "/glade/derecho/scratch/jhayron/tmp/ipykernel_88395/2740791710.py:56: UserWarning: Boolean Series key will be reindexed to match DataFrame index.\n",
      "  freq_pt_past = 100*len(df_temp.loc['1994':'2023'][df_temp['WR']==1])/len(df_temp.loc['1994':'2023'])\n",
      "/glade/derecho/scratch/jhayron/tmp/ipykernel_88395/2740791710.py:57: UserWarning: Boolean Series key will be reindexed to match DataFrame index.\n",
      "  freq_pt_present = 100*len(df_temp.loc['2071':'2100'][df_temp['WR']==1])/len(df_temp.loc['2071':'2100'])\n"
     ]
    },
    {
     "name": "stdout",
     "output_type": "stream",
     "text": [
      "9\n"
     ]
    },
    {
     "name": "stderr",
     "output_type": "stream",
     "text": [
      "/glade/derecho/scratch/jhayron/tmp/ipykernel_88395/2740791710.py:56: UserWarning: Boolean Series key will be reindexed to match DataFrame index.\n",
      "  freq_pt_past = 100*len(df_temp.loc['1994':'2023'][df_temp['WR']==1])/len(df_temp.loc['1994':'2023'])\n",
      "/glade/derecho/scratch/jhayron/tmp/ipykernel_88395/2740791710.py:57: UserWarning: Boolean Series key will be reindexed to match DataFrame index.\n",
      "  freq_pt_present = 100*len(df_temp.loc['2071':'2100'][df_temp['WR']==1])/len(df_temp.loc['2071':'2100'])\n"
     ]
    },
    {
     "name": "stdout",
     "output_type": "stream",
     "text": [
      "10\n"
     ]
    },
    {
     "name": "stderr",
     "output_type": "stream",
     "text": [
      "/glade/derecho/scratch/jhayron/tmp/ipykernel_88395/2740791710.py:56: UserWarning: Boolean Series key will be reindexed to match DataFrame index.\n",
      "  freq_pt_past = 100*len(df_temp.loc['1994':'2023'][df_temp['WR']==1])/len(df_temp.loc['1994':'2023'])\n",
      "/glade/derecho/scratch/jhayron/tmp/ipykernel_88395/2740791710.py:57: UserWarning: Boolean Series key will be reindexed to match DataFrame index.\n",
      "  freq_pt_present = 100*len(df_temp.loc['2071':'2100'][df_temp['WR']==1])/len(df_temp.loc['2071':'2100'])\n"
     ]
    },
    {
     "name": "stdout",
     "output_type": "stream",
     "text": [
      "11\n"
     ]
    },
    {
     "name": "stderr",
     "output_type": "stream",
     "text": [
      "/glade/derecho/scratch/jhayron/tmp/ipykernel_88395/2740791710.py:56: UserWarning: Boolean Series key will be reindexed to match DataFrame index.\n",
      "  freq_pt_past = 100*len(df_temp.loc['1994':'2023'][df_temp['WR']==1])/len(df_temp.loc['1994':'2023'])\n",
      "/glade/derecho/scratch/jhayron/tmp/ipykernel_88395/2740791710.py:57: UserWarning: Boolean Series key will be reindexed to match DataFrame index.\n",
      "  freq_pt_present = 100*len(df_temp.loc['2071':'2100'][df_temp['WR']==1])/len(df_temp.loc['2071':'2100'])\n"
     ]
    },
    {
     "name": "stdout",
     "output_type": "stream",
     "text": [
      "12\n"
     ]
    },
    {
     "name": "stderr",
     "output_type": "stream",
     "text": [
      "/glade/derecho/scratch/jhayron/tmp/ipykernel_88395/2740791710.py:56: UserWarning: Boolean Series key will be reindexed to match DataFrame index.\n",
      "  freq_pt_past = 100*len(df_temp.loc['1994':'2023'][df_temp['WR']==1])/len(df_temp.loc['1994':'2023'])\n",
      "/glade/derecho/scratch/jhayron/tmp/ipykernel_88395/2740791710.py:57: UserWarning: Boolean Series key will be reindexed to match DataFrame index.\n",
      "  freq_pt_present = 100*len(df_temp.loc['2071':'2100'][df_temp['WR']==1])/len(df_temp.loc['2071':'2100'])\n"
     ]
    },
    {
     "name": "stdout",
     "output_type": "stream",
     "text": [
      "13\n"
     ]
    },
    {
     "name": "stderr",
     "output_type": "stream",
     "text": [
      "/glade/derecho/scratch/jhayron/tmp/ipykernel_88395/2740791710.py:56: UserWarning: Boolean Series key will be reindexed to match DataFrame index.\n",
      "  freq_pt_past = 100*len(df_temp.loc['1994':'2023'][df_temp['WR']==1])/len(df_temp.loc['1994':'2023'])\n",
      "/glade/derecho/scratch/jhayron/tmp/ipykernel_88395/2740791710.py:57: UserWarning: Boolean Series key will be reindexed to match DataFrame index.\n",
      "  freq_pt_present = 100*len(df_temp.loc['2071':'2100'][df_temp['WR']==1])/len(df_temp.loc['2071':'2100'])\n"
     ]
    },
    {
     "name": "stdout",
     "output_type": "stream",
     "text": [
      "14\n"
     ]
    },
    {
     "name": "stderr",
     "output_type": "stream",
     "text": [
      "/glade/derecho/scratch/jhayron/tmp/ipykernel_88395/2740791710.py:56: UserWarning: Boolean Series key will be reindexed to match DataFrame index.\n",
      "  freq_pt_past = 100*len(df_temp.loc['1994':'2023'][df_temp['WR']==1])/len(df_temp.loc['1994':'2023'])\n",
      "/glade/derecho/scratch/jhayron/tmp/ipykernel_88395/2740791710.py:57: UserWarning: Boolean Series key will be reindexed to match DataFrame index.\n",
      "  freq_pt_present = 100*len(df_temp.loc['2071':'2100'][df_temp['WR']==1])/len(df_temp.loc['2071':'2100'])\n"
     ]
    },
    {
     "name": "stdout",
     "output_type": "stream",
     "text": [
      "15\n"
     ]
    },
    {
     "name": "stderr",
     "output_type": "stream",
     "text": [
      "/glade/derecho/scratch/jhayron/tmp/ipykernel_88395/2740791710.py:56: UserWarning: Boolean Series key will be reindexed to match DataFrame index.\n",
      "  freq_pt_past = 100*len(df_temp.loc['1994':'2023'][df_temp['WR']==1])/len(df_temp.loc['1994':'2023'])\n",
      "/glade/derecho/scratch/jhayron/tmp/ipykernel_88395/2740791710.py:57: UserWarning: Boolean Series key will be reindexed to match DataFrame index.\n",
      "  freq_pt_present = 100*len(df_temp.loc['2071':'2100'][df_temp['WR']==1])/len(df_temp.loc['2071':'2100'])\n"
     ]
    },
    {
     "name": "stdout",
     "output_type": "stream",
     "text": [
      "16\n"
     ]
    },
    {
     "name": "stderr",
     "output_type": "stream",
     "text": [
      "/glade/derecho/scratch/jhayron/tmp/ipykernel_88395/2740791710.py:56: UserWarning: Boolean Series key will be reindexed to match DataFrame index.\n",
      "  freq_pt_past = 100*len(df_temp.loc['1994':'2023'][df_temp['WR']==1])/len(df_temp.loc['1994':'2023'])\n",
      "/glade/derecho/scratch/jhayron/tmp/ipykernel_88395/2740791710.py:57: UserWarning: Boolean Series key will be reindexed to match DataFrame index.\n",
      "  freq_pt_present = 100*len(df_temp.loc['2071':'2100'][df_temp['WR']==1])/len(df_temp.loc['2071':'2100'])\n"
     ]
    },
    {
     "name": "stdout",
     "output_type": "stream",
     "text": [
      "17\n"
     ]
    },
    {
     "name": "stderr",
     "output_type": "stream",
     "text": [
      "/glade/derecho/scratch/jhayron/tmp/ipykernel_88395/2740791710.py:56: UserWarning: Boolean Series key will be reindexed to match DataFrame index.\n",
      "  freq_pt_past = 100*len(df_temp.loc['1994':'2023'][df_temp['WR']==1])/len(df_temp.loc['1994':'2023'])\n",
      "/glade/derecho/scratch/jhayron/tmp/ipykernel_88395/2740791710.py:57: UserWarning: Boolean Series key will be reindexed to match DataFrame index.\n",
      "  freq_pt_present = 100*len(df_temp.loc['2071':'2100'][df_temp['WR']==1])/len(df_temp.loc['2071':'2100'])\n"
     ]
    },
    {
     "name": "stdout",
     "output_type": "stream",
     "text": [
      "18\n"
     ]
    },
    {
     "name": "stderr",
     "output_type": "stream",
     "text": [
      "/glade/derecho/scratch/jhayron/tmp/ipykernel_88395/2740791710.py:56: UserWarning: Boolean Series key will be reindexed to match DataFrame index.\n",
      "  freq_pt_past = 100*len(df_temp.loc['1994':'2023'][df_temp['WR']==1])/len(df_temp.loc['1994':'2023'])\n",
      "/glade/derecho/scratch/jhayron/tmp/ipykernel_88395/2740791710.py:57: UserWarning: Boolean Series key will be reindexed to match DataFrame index.\n",
      "  freq_pt_present = 100*len(df_temp.loc['2071':'2100'][df_temp['WR']==1])/len(df_temp.loc['2071':'2100'])\n"
     ]
    },
    {
     "name": "stdout",
     "output_type": "stream",
     "text": [
      "19\n"
     ]
    },
    {
     "name": "stderr",
     "output_type": "stream",
     "text": [
      "/glade/derecho/scratch/jhayron/tmp/ipykernel_88395/2740791710.py:56: UserWarning: Boolean Series key will be reindexed to match DataFrame index.\n",
      "  freq_pt_past = 100*len(df_temp.loc['1994':'2023'][df_temp['WR']==1])/len(df_temp.loc['1994':'2023'])\n",
      "/glade/derecho/scratch/jhayron/tmp/ipykernel_88395/2740791710.py:57: UserWarning: Boolean Series key will be reindexed to match DataFrame index.\n",
      "  freq_pt_present = 100*len(df_temp.loc['2071':'2100'][df_temp['WR']==1])/len(df_temp.loc['2071':'2100'])\n"
     ]
    },
    {
     "name": "stdout",
     "output_type": "stream",
     "text": [
      "20\n"
     ]
    },
    {
     "name": "stderr",
     "output_type": "stream",
     "text": [
      "/glade/derecho/scratch/jhayron/tmp/ipykernel_88395/2740791710.py:56: UserWarning: Boolean Series key will be reindexed to match DataFrame index.\n",
      "  freq_pt_past = 100*len(df_temp.loc['1994':'2023'][df_temp['WR']==1])/len(df_temp.loc['1994':'2023'])\n",
      "/glade/derecho/scratch/jhayron/tmp/ipykernel_88395/2740791710.py:57: UserWarning: Boolean Series key will be reindexed to match DataFrame index.\n",
      "  freq_pt_present = 100*len(df_temp.loc['2071':'2100'][df_temp['WR']==1])/len(df_temp.loc['2071':'2100'])\n"
     ]
    },
    {
     "name": "stdout",
     "output_type": "stream",
     "text": [
      "21\n"
     ]
    },
    {
     "name": "stderr",
     "output_type": "stream",
     "text": [
      "/glade/derecho/scratch/jhayron/tmp/ipykernel_88395/2740791710.py:56: UserWarning: Boolean Series key will be reindexed to match DataFrame index.\n",
      "  freq_pt_past = 100*len(df_temp.loc['1994':'2023'][df_temp['WR']==1])/len(df_temp.loc['1994':'2023'])\n",
      "/glade/derecho/scratch/jhayron/tmp/ipykernel_88395/2740791710.py:57: UserWarning: Boolean Series key will be reindexed to match DataFrame index.\n",
      "  freq_pt_present = 100*len(df_temp.loc['2071':'2100'][df_temp['WR']==1])/len(df_temp.loc['2071':'2100'])\n"
     ]
    },
    {
     "name": "stdout",
     "output_type": "stream",
     "text": [
      "22\n"
     ]
    },
    {
     "name": "stderr",
     "output_type": "stream",
     "text": [
      "/glade/derecho/scratch/jhayron/tmp/ipykernel_88395/2740791710.py:56: UserWarning: Boolean Series key will be reindexed to match DataFrame index.\n",
      "  freq_pt_past = 100*len(df_temp.loc['1994':'2023'][df_temp['WR']==1])/len(df_temp.loc['1994':'2023'])\n",
      "/glade/derecho/scratch/jhayron/tmp/ipykernel_88395/2740791710.py:57: UserWarning: Boolean Series key will be reindexed to match DataFrame index.\n",
      "  freq_pt_present = 100*len(df_temp.loc['2071':'2100'][df_temp['WR']==1])/len(df_temp.loc['2071':'2100'])\n"
     ]
    },
    {
     "name": "stdout",
     "output_type": "stream",
     "text": [
      "23\n"
     ]
    },
    {
     "name": "stderr",
     "output_type": "stream",
     "text": [
      "/glade/derecho/scratch/jhayron/tmp/ipykernel_88395/2740791710.py:56: UserWarning: Boolean Series key will be reindexed to match DataFrame index.\n",
      "  freq_pt_past = 100*len(df_temp.loc['1994':'2023'][df_temp['WR']==1])/len(df_temp.loc['1994':'2023'])\n",
      "/glade/derecho/scratch/jhayron/tmp/ipykernel_88395/2740791710.py:57: UserWarning: Boolean Series key will be reindexed to match DataFrame index.\n",
      "  freq_pt_present = 100*len(df_temp.loc['2071':'2100'][df_temp['WR']==1])/len(df_temp.loc['2071':'2100'])\n"
     ]
    },
    {
     "name": "stdout",
     "output_type": "stream",
     "text": [
      "24\n"
     ]
    },
    {
     "name": "stderr",
     "output_type": "stream",
     "text": [
      "/glade/derecho/scratch/jhayron/tmp/ipykernel_88395/2740791710.py:56: UserWarning: Boolean Series key will be reindexed to match DataFrame index.\n",
      "  freq_pt_past = 100*len(df_temp.loc['1994':'2023'][df_temp['WR']==1])/len(df_temp.loc['1994':'2023'])\n",
      "/glade/derecho/scratch/jhayron/tmp/ipykernel_88395/2740791710.py:57: UserWarning: Boolean Series key will be reindexed to match DataFrame index.\n",
      "  freq_pt_present = 100*len(df_temp.loc['2071':'2100'][df_temp['WR']==1])/len(df_temp.loc['2071':'2100'])\n"
     ]
    },
    {
     "name": "stdout",
     "output_type": "stream",
     "text": [
      "25\n"
     ]
    },
    {
     "name": "stderr",
     "output_type": "stream",
     "text": [
      "/glade/derecho/scratch/jhayron/tmp/ipykernel_88395/2740791710.py:56: UserWarning: Boolean Series key will be reindexed to match DataFrame index.\n",
      "  freq_pt_past = 100*len(df_temp.loc['1994':'2023'][df_temp['WR']==1])/len(df_temp.loc['1994':'2023'])\n",
      "/glade/derecho/scratch/jhayron/tmp/ipykernel_88395/2740791710.py:57: UserWarning: Boolean Series key will be reindexed to match DataFrame index.\n",
      "  freq_pt_present = 100*len(df_temp.loc['2071':'2100'][df_temp['WR']==1])/len(df_temp.loc['2071':'2100'])\n"
     ]
    },
    {
     "name": "stdout",
     "output_type": "stream",
     "text": [
      "26\n",
      "27\n"
     ]
    },
    {
     "name": "stderr",
     "output_type": "stream",
     "text": [
      "/glade/derecho/scratch/jhayron/tmp/ipykernel_88395/2740791710.py:56: UserWarning: Boolean Series key will be reindexed to match DataFrame index.\n",
      "  freq_pt_past = 100*len(df_temp.loc['1994':'2023'][df_temp['WR']==1])/len(df_temp.loc['1994':'2023'])\n",
      "/glade/derecho/scratch/jhayron/tmp/ipykernel_88395/2740791710.py:57: UserWarning: Boolean Series key will be reindexed to match DataFrame index.\n",
      "  freq_pt_present = 100*len(df_temp.loc['2071':'2100'][df_temp['WR']==1])/len(df_temp.loc['2071':'2100'])\n",
      "/glade/derecho/scratch/jhayron/tmp/ipykernel_88395/2740791710.py:56: UserWarning: Boolean Series key will be reindexed to match DataFrame index.\n",
      "  freq_pt_past = 100*len(df_temp.loc['1994':'2023'][df_temp['WR']==1])/len(df_temp.loc['1994':'2023'])\n",
      "/glade/derecho/scratch/jhayron/tmp/ipykernel_88395/2740791710.py:57: UserWarning: Boolean Series key will be reindexed to match DataFrame index.\n",
      "  freq_pt_present = 100*len(df_temp.loc['2071':'2100'][df_temp['WR']==1])/len(df_temp.loc['2071':'2100'])\n"
     ]
    },
    {
     "name": "stdout",
     "output_type": "stream",
     "text": [
      "28\n"
     ]
    },
    {
     "name": "stderr",
     "output_type": "stream",
     "text": [
      "/glade/derecho/scratch/jhayron/tmp/ipykernel_88395/2740791710.py:56: UserWarning: Boolean Series key will be reindexed to match DataFrame index.\n",
      "  freq_pt_past = 100*len(df_temp.loc['1994':'2023'][df_temp['WR']==1])/len(df_temp.loc['1994':'2023'])\n",
      "/glade/derecho/scratch/jhayron/tmp/ipykernel_88395/2740791710.py:57: UserWarning: Boolean Series key will be reindexed to match DataFrame index.\n",
      "  freq_pt_present = 100*len(df_temp.loc['2071':'2100'][df_temp['WR']==1])/len(df_temp.loc['2071':'2100'])\n"
     ]
    },
    {
     "name": "stdout",
     "output_type": "stream",
     "text": [
      "29\n"
     ]
    },
    {
     "name": "stderr",
     "output_type": "stream",
     "text": [
      "/glade/derecho/scratch/jhayron/tmp/ipykernel_88395/2740791710.py:56: UserWarning: Boolean Series key will be reindexed to match DataFrame index.\n",
      "  freq_pt_past = 100*len(df_temp.loc['1994':'2023'][df_temp['WR']==1])/len(df_temp.loc['1994':'2023'])\n",
      "/glade/derecho/scratch/jhayron/tmp/ipykernel_88395/2740791710.py:57: UserWarning: Boolean Series key will be reindexed to match DataFrame index.\n",
      "  freq_pt_present = 100*len(df_temp.loc['2071':'2100'][df_temp['WR']==1])/len(df_temp.loc['2071':'2100'])\n"
     ]
    },
    {
     "name": "stdout",
     "output_type": "stream",
     "text": [
      "30\n"
     ]
    },
    {
     "name": "stderr",
     "output_type": "stream",
     "text": [
      "/glade/derecho/scratch/jhayron/tmp/ipykernel_88395/2740791710.py:56: UserWarning: Boolean Series key will be reindexed to match DataFrame index.\n",
      "  freq_pt_past = 100*len(df_temp.loc['1994':'2023'][df_temp['WR']==1])/len(df_temp.loc['1994':'2023'])\n",
      "/glade/derecho/scratch/jhayron/tmp/ipykernel_88395/2740791710.py:57: UserWarning: Boolean Series key will be reindexed to match DataFrame index.\n",
      "  freq_pt_present = 100*len(df_temp.loc['2071':'2100'][df_temp['WR']==1])/len(df_temp.loc['2071':'2100'])\n"
     ]
    },
    {
     "name": "stdout",
     "output_type": "stream",
     "text": [
      "31\n"
     ]
    },
    {
     "name": "stderr",
     "output_type": "stream",
     "text": [
      "/glade/derecho/scratch/jhayron/tmp/ipykernel_88395/2740791710.py:56: UserWarning: Boolean Series key will be reindexed to match DataFrame index.\n",
      "  freq_pt_past = 100*len(df_temp.loc['1994':'2023'][df_temp['WR']==1])/len(df_temp.loc['1994':'2023'])\n",
      "/glade/derecho/scratch/jhayron/tmp/ipykernel_88395/2740791710.py:57: UserWarning: Boolean Series key will be reindexed to match DataFrame index.\n",
      "  freq_pt_present = 100*len(df_temp.loc['2071':'2100'][df_temp['WR']==1])/len(df_temp.loc['2071':'2100'])\n"
     ]
    },
    {
     "name": "stdout",
     "output_type": "stream",
     "text": [
      "32\n"
     ]
    },
    {
     "name": "stderr",
     "output_type": "stream",
     "text": [
      "/glade/derecho/scratch/jhayron/tmp/ipykernel_88395/2740791710.py:56: UserWarning: Boolean Series key will be reindexed to match DataFrame index.\n",
      "  freq_pt_past = 100*len(df_temp.loc['1994':'2023'][df_temp['WR']==1])/len(df_temp.loc['1994':'2023'])\n",
      "/glade/derecho/scratch/jhayron/tmp/ipykernel_88395/2740791710.py:57: UserWarning: Boolean Series key will be reindexed to match DataFrame index.\n",
      "  freq_pt_present = 100*len(df_temp.loc['2071':'2100'][df_temp['WR']==1])/len(df_temp.loc['2071':'2100'])\n"
     ]
    },
    {
     "name": "stdout",
     "output_type": "stream",
     "text": [
      "33\n"
     ]
    },
    {
     "name": "stderr",
     "output_type": "stream",
     "text": [
      "/glade/derecho/scratch/jhayron/tmp/ipykernel_88395/2740791710.py:56: UserWarning: Boolean Series key will be reindexed to match DataFrame index.\n",
      "  freq_pt_past = 100*len(df_temp.loc['1994':'2023'][df_temp['WR']==1])/len(df_temp.loc['1994':'2023'])\n",
      "/glade/derecho/scratch/jhayron/tmp/ipykernel_88395/2740791710.py:57: UserWarning: Boolean Series key will be reindexed to match DataFrame index.\n",
      "  freq_pt_present = 100*len(df_temp.loc['2071':'2100'][df_temp['WR']==1])/len(df_temp.loc['2071':'2100'])\n"
     ]
    },
    {
     "name": "stdout",
     "output_type": "stream",
     "text": [
      "34\n"
     ]
    },
    {
     "name": "stderr",
     "output_type": "stream",
     "text": [
      "/glade/derecho/scratch/jhayron/tmp/ipykernel_88395/2740791710.py:56: UserWarning: Boolean Series key will be reindexed to match DataFrame index.\n",
      "  freq_pt_past = 100*len(df_temp.loc['1994':'2023'][df_temp['WR']==1])/len(df_temp.loc['1994':'2023'])\n",
      "/glade/derecho/scratch/jhayron/tmp/ipykernel_88395/2740791710.py:57: UserWarning: Boolean Series key will be reindexed to match DataFrame index.\n",
      "  freq_pt_present = 100*len(df_temp.loc['2071':'2100'][df_temp['WR']==1])/len(df_temp.loc['2071':'2100'])\n"
     ]
    },
    {
     "name": "stdout",
     "output_type": "stream",
     "text": [
      "35\n"
     ]
    },
    {
     "name": "stderr",
     "output_type": "stream",
     "text": [
      "/glade/derecho/scratch/jhayron/tmp/ipykernel_88395/2740791710.py:56: UserWarning: Boolean Series key will be reindexed to match DataFrame index.\n",
      "  freq_pt_past = 100*len(df_temp.loc['1994':'2023'][df_temp['WR']==1])/len(df_temp.loc['1994':'2023'])\n",
      "/glade/derecho/scratch/jhayron/tmp/ipykernel_88395/2740791710.py:57: UserWarning: Boolean Series key will be reindexed to match DataFrame index.\n",
      "  freq_pt_present = 100*len(df_temp.loc['2071':'2100'][df_temp['WR']==1])/len(df_temp.loc['2071':'2100'])\n"
     ]
    },
    {
     "name": "stdout",
     "output_type": "stream",
     "text": [
      "36\n"
     ]
    },
    {
     "name": "stderr",
     "output_type": "stream",
     "text": [
      "/glade/derecho/scratch/jhayron/tmp/ipykernel_88395/2740791710.py:56: UserWarning: Boolean Series key will be reindexed to match DataFrame index.\n",
      "  freq_pt_past = 100*len(df_temp.loc['1994':'2023'][df_temp['WR']==1])/len(df_temp.loc['1994':'2023'])\n",
      "/glade/derecho/scratch/jhayron/tmp/ipykernel_88395/2740791710.py:57: UserWarning: Boolean Series key will be reindexed to match DataFrame index.\n",
      "  freq_pt_present = 100*len(df_temp.loc['2071':'2100'][df_temp['WR']==1])/len(df_temp.loc['2071':'2100'])\n"
     ]
    },
    {
     "name": "stdout",
     "output_type": "stream",
     "text": [
      "37\n"
     ]
    },
    {
     "name": "stderr",
     "output_type": "stream",
     "text": [
      "/glade/derecho/scratch/jhayron/tmp/ipykernel_88395/2740791710.py:56: UserWarning: Boolean Series key will be reindexed to match DataFrame index.\n",
      "  freq_pt_past = 100*len(df_temp.loc['1994':'2023'][df_temp['WR']==1])/len(df_temp.loc['1994':'2023'])\n",
      "/glade/derecho/scratch/jhayron/tmp/ipykernel_88395/2740791710.py:57: UserWarning: Boolean Series key will be reindexed to match DataFrame index.\n",
      "  freq_pt_present = 100*len(df_temp.loc['2071':'2100'][df_temp['WR']==1])/len(df_temp.loc['2071':'2100'])\n"
     ]
    },
    {
     "name": "stdout",
     "output_type": "stream",
     "text": [
      "38\n"
     ]
    },
    {
     "name": "stderr",
     "output_type": "stream",
     "text": [
      "/glade/derecho/scratch/jhayron/tmp/ipykernel_88395/2740791710.py:56: UserWarning: Boolean Series key will be reindexed to match DataFrame index.\n",
      "  freq_pt_past = 100*len(df_temp.loc['1994':'2023'][df_temp['WR']==1])/len(df_temp.loc['1994':'2023'])\n",
      "/glade/derecho/scratch/jhayron/tmp/ipykernel_88395/2740791710.py:57: UserWarning: Boolean Series key will be reindexed to match DataFrame index.\n",
      "  freq_pt_present = 100*len(df_temp.loc['2071':'2100'][df_temp['WR']==1])/len(df_temp.loc['2071':'2100'])\n"
     ]
    },
    {
     "name": "stdout",
     "output_type": "stream",
     "text": [
      "39\n"
     ]
    },
    {
     "name": "stderr",
     "output_type": "stream",
     "text": [
      "/glade/derecho/scratch/jhayron/tmp/ipykernel_88395/2740791710.py:56: UserWarning: Boolean Series key will be reindexed to match DataFrame index.\n",
      "  freq_pt_past = 100*len(df_temp.loc['1994':'2023'][df_temp['WR']==1])/len(df_temp.loc['1994':'2023'])\n",
      "/glade/derecho/scratch/jhayron/tmp/ipykernel_88395/2740791710.py:57: UserWarning: Boolean Series key will be reindexed to match DataFrame index.\n",
      "  freq_pt_present = 100*len(df_temp.loc['2071':'2100'][df_temp['WR']==1])/len(df_temp.loc['2071':'2100'])\n"
     ]
    },
    {
     "name": "stdout",
     "output_type": "stream",
     "text": [
      "40\n"
     ]
    },
    {
     "name": "stderr",
     "output_type": "stream",
     "text": [
      "/glade/derecho/scratch/jhayron/tmp/ipykernel_88395/2740791710.py:56: UserWarning: Boolean Series key will be reindexed to match DataFrame index.\n",
      "  freq_pt_past = 100*len(df_temp.loc['1994':'2023'][df_temp['WR']==1])/len(df_temp.loc['1994':'2023'])\n",
      "/glade/derecho/scratch/jhayron/tmp/ipykernel_88395/2740791710.py:57: UserWarning: Boolean Series key will be reindexed to match DataFrame index.\n",
      "  freq_pt_present = 100*len(df_temp.loc['2071':'2100'][df_temp['WR']==1])/len(df_temp.loc['2071':'2100'])\n"
     ]
    },
    {
     "name": "stdout",
     "output_type": "stream",
     "text": [
      "41\n"
     ]
    },
    {
     "name": "stderr",
     "output_type": "stream",
     "text": [
      "/glade/derecho/scratch/jhayron/tmp/ipykernel_88395/2740791710.py:56: UserWarning: Boolean Series key will be reindexed to match DataFrame index.\n",
      "  freq_pt_past = 100*len(df_temp.loc['1994':'2023'][df_temp['WR']==1])/len(df_temp.loc['1994':'2023'])\n",
      "/glade/derecho/scratch/jhayron/tmp/ipykernel_88395/2740791710.py:57: UserWarning: Boolean Series key will be reindexed to match DataFrame index.\n",
      "  freq_pt_present = 100*len(df_temp.loc['2071':'2100'][df_temp['WR']==1])/len(df_temp.loc['2071':'2100'])\n"
     ]
    },
    {
     "name": "stdout",
     "output_type": "stream",
     "text": [
      "42\n"
     ]
    },
    {
     "name": "stderr",
     "output_type": "stream",
     "text": [
      "/glade/derecho/scratch/jhayron/tmp/ipykernel_88395/2740791710.py:56: UserWarning: Boolean Series key will be reindexed to match DataFrame index.\n",
      "  freq_pt_past = 100*len(df_temp.loc['1994':'2023'][df_temp['WR']==1])/len(df_temp.loc['1994':'2023'])\n",
      "/glade/derecho/scratch/jhayron/tmp/ipykernel_88395/2740791710.py:57: UserWarning: Boolean Series key will be reindexed to match DataFrame index.\n",
      "  freq_pt_present = 100*len(df_temp.loc['2071':'2100'][df_temp['WR']==1])/len(df_temp.loc['2071':'2100'])\n"
     ]
    },
    {
     "name": "stdout",
     "output_type": "stream",
     "text": [
      "43\n"
     ]
    },
    {
     "name": "stderr",
     "output_type": "stream",
     "text": [
      "/glade/derecho/scratch/jhayron/tmp/ipykernel_88395/2740791710.py:56: UserWarning: Boolean Series key will be reindexed to match DataFrame index.\n",
      "  freq_pt_past = 100*len(df_temp.loc['1994':'2023'][df_temp['WR']==1])/len(df_temp.loc['1994':'2023'])\n",
      "/glade/derecho/scratch/jhayron/tmp/ipykernel_88395/2740791710.py:57: UserWarning: Boolean Series key will be reindexed to match DataFrame index.\n",
      "  freq_pt_present = 100*len(df_temp.loc['2071':'2100'][df_temp['WR']==1])/len(df_temp.loc['2071':'2100'])\n"
     ]
    },
    {
     "name": "stdout",
     "output_type": "stream",
     "text": [
      "44\n"
     ]
    },
    {
     "name": "stderr",
     "output_type": "stream",
     "text": [
      "/glade/derecho/scratch/jhayron/tmp/ipykernel_88395/2740791710.py:56: UserWarning: Boolean Series key will be reindexed to match DataFrame index.\n",
      "  freq_pt_past = 100*len(df_temp.loc['1994':'2023'][df_temp['WR']==1])/len(df_temp.loc['1994':'2023'])\n",
      "/glade/derecho/scratch/jhayron/tmp/ipykernel_88395/2740791710.py:57: UserWarning: Boolean Series key will be reindexed to match DataFrame index.\n",
      "  freq_pt_present = 100*len(df_temp.loc['2071':'2100'][df_temp['WR']==1])/len(df_temp.loc['2071':'2100'])\n"
     ]
    },
    {
     "name": "stdout",
     "output_type": "stream",
     "text": [
      "45\n"
     ]
    },
    {
     "name": "stderr",
     "output_type": "stream",
     "text": [
      "/glade/derecho/scratch/jhayron/tmp/ipykernel_88395/2740791710.py:56: UserWarning: Boolean Series key will be reindexed to match DataFrame index.\n",
      "  freq_pt_past = 100*len(df_temp.loc['1994':'2023'][df_temp['WR']==1])/len(df_temp.loc['1994':'2023'])\n",
      "/glade/derecho/scratch/jhayron/tmp/ipykernel_88395/2740791710.py:57: UserWarning: Boolean Series key will be reindexed to match DataFrame index.\n",
      "  freq_pt_present = 100*len(df_temp.loc['2071':'2100'][df_temp['WR']==1])/len(df_temp.loc['2071':'2100'])\n"
     ]
    },
    {
     "name": "stdout",
     "output_type": "stream",
     "text": [
      "46\n"
     ]
    },
    {
     "name": "stderr",
     "output_type": "stream",
     "text": [
      "/glade/derecho/scratch/jhayron/tmp/ipykernel_88395/2740791710.py:56: UserWarning: Boolean Series key will be reindexed to match DataFrame index.\n",
      "  freq_pt_past = 100*len(df_temp.loc['1994':'2023'][df_temp['WR']==1])/len(df_temp.loc['1994':'2023'])\n",
      "/glade/derecho/scratch/jhayron/tmp/ipykernel_88395/2740791710.py:57: UserWarning: Boolean Series key will be reindexed to match DataFrame index.\n",
      "  freq_pt_present = 100*len(df_temp.loc['2071':'2100'][df_temp['WR']==1])/len(df_temp.loc['2071':'2100'])\n"
     ]
    },
    {
     "name": "stdout",
     "output_type": "stream",
     "text": [
      "47\n"
     ]
    },
    {
     "name": "stderr",
     "output_type": "stream",
     "text": [
      "/glade/derecho/scratch/jhayron/tmp/ipykernel_88395/2740791710.py:56: UserWarning: Boolean Series key will be reindexed to match DataFrame index.\n",
      "  freq_pt_past = 100*len(df_temp.loc['1994':'2023'][df_temp['WR']==1])/len(df_temp.loc['1994':'2023'])\n",
      "/glade/derecho/scratch/jhayron/tmp/ipykernel_88395/2740791710.py:57: UserWarning: Boolean Series key will be reindexed to match DataFrame index.\n",
      "  freq_pt_present = 100*len(df_temp.loc['2071':'2100'][df_temp['WR']==1])/len(df_temp.loc['2071':'2100'])\n"
     ]
    },
    {
     "name": "stdout",
     "output_type": "stream",
     "text": [
      "48\n"
     ]
    },
    {
     "name": "stderr",
     "output_type": "stream",
     "text": [
      "/glade/derecho/scratch/jhayron/tmp/ipykernel_88395/2740791710.py:56: UserWarning: Boolean Series key will be reindexed to match DataFrame index.\n",
      "  freq_pt_past = 100*len(df_temp.loc['1994':'2023'][df_temp['WR']==1])/len(df_temp.loc['1994':'2023'])\n",
      "/glade/derecho/scratch/jhayron/tmp/ipykernel_88395/2740791710.py:57: UserWarning: Boolean Series key will be reindexed to match DataFrame index.\n",
      "  freq_pt_present = 100*len(df_temp.loc['2071':'2100'][df_temp['WR']==1])/len(df_temp.loc['2071':'2100'])\n"
     ]
    },
    {
     "name": "stdout",
     "output_type": "stream",
     "text": [
      "49\n"
     ]
    },
    {
     "name": "stderr",
     "output_type": "stream",
     "text": [
      "/glade/derecho/scratch/jhayron/tmp/ipykernel_88395/2740791710.py:56: UserWarning: Boolean Series key will be reindexed to match DataFrame index.\n",
      "  freq_pt_past = 100*len(df_temp.loc['1994':'2023'][df_temp['WR']==1])/len(df_temp.loc['1994':'2023'])\n",
      "/glade/derecho/scratch/jhayron/tmp/ipykernel_88395/2740791710.py:57: UserWarning: Boolean Series key will be reindexed to match DataFrame index.\n",
      "  freq_pt_present = 100*len(df_temp.loc['2071':'2100'][df_temp['WR']==1])/len(df_temp.loc['2071':'2100'])\n"
     ]
    },
    {
     "name": "stdout",
     "output_type": "stream",
     "text": [
      "50\n"
     ]
    },
    {
     "name": "stderr",
     "output_type": "stream",
     "text": [
      "/glade/derecho/scratch/jhayron/tmp/ipykernel_88395/2740791710.py:56: UserWarning: Boolean Series key will be reindexed to match DataFrame index.\n",
      "  freq_pt_past = 100*len(df_temp.loc['1994':'2023'][df_temp['WR']==1])/len(df_temp.loc['1994':'2023'])\n",
      "/glade/derecho/scratch/jhayron/tmp/ipykernel_88395/2740791710.py:57: UserWarning: Boolean Series key will be reindexed to match DataFrame index.\n",
      "  freq_pt_present = 100*len(df_temp.loc['2071':'2100'][df_temp['WR']==1])/len(df_temp.loc['2071':'2100'])\n"
     ]
    },
    {
     "name": "stdout",
     "output_type": "stream",
     "text": [
      "51\n"
     ]
    },
    {
     "name": "stderr",
     "output_type": "stream",
     "text": [
      "/glade/derecho/scratch/jhayron/tmp/ipykernel_88395/2740791710.py:56: UserWarning: Boolean Series key will be reindexed to match DataFrame index.\n",
      "  freq_pt_past = 100*len(df_temp.loc['1994':'2023'][df_temp['WR']==1])/len(df_temp.loc['1994':'2023'])\n",
      "/glade/derecho/scratch/jhayron/tmp/ipykernel_88395/2740791710.py:57: UserWarning: Boolean Series key will be reindexed to match DataFrame index.\n",
      "  freq_pt_present = 100*len(df_temp.loc['2071':'2100'][df_temp['WR']==1])/len(df_temp.loc['2071':'2100'])\n"
     ]
    },
    {
     "name": "stdout",
     "output_type": "stream",
     "text": [
      "52\n"
     ]
    },
    {
     "name": "stderr",
     "output_type": "stream",
     "text": [
      "/glade/derecho/scratch/jhayron/tmp/ipykernel_88395/2740791710.py:56: UserWarning: Boolean Series key will be reindexed to match DataFrame index.\n",
      "  freq_pt_past = 100*len(df_temp.loc['1994':'2023'][df_temp['WR']==1])/len(df_temp.loc['1994':'2023'])\n",
      "/glade/derecho/scratch/jhayron/tmp/ipykernel_88395/2740791710.py:57: UserWarning: Boolean Series key will be reindexed to match DataFrame index.\n",
      "  freq_pt_present = 100*len(df_temp.loc['2071':'2100'][df_temp['WR']==1])/len(df_temp.loc['2071':'2100'])\n"
     ]
    },
    {
     "name": "stdout",
     "output_type": "stream",
     "text": [
      "53\n"
     ]
    },
    {
     "name": "stderr",
     "output_type": "stream",
     "text": [
      "/glade/derecho/scratch/jhayron/tmp/ipykernel_88395/2740791710.py:56: UserWarning: Boolean Series key will be reindexed to match DataFrame index.\n",
      "  freq_pt_past = 100*len(df_temp.loc['1994':'2023'][df_temp['WR']==1])/len(df_temp.loc['1994':'2023'])\n",
      "/glade/derecho/scratch/jhayron/tmp/ipykernel_88395/2740791710.py:57: UserWarning: Boolean Series key will be reindexed to match DataFrame index.\n",
      "  freq_pt_present = 100*len(df_temp.loc['2071':'2100'][df_temp['WR']==1])/len(df_temp.loc['2071':'2100'])\n"
     ]
    },
    {
     "name": "stdout",
     "output_type": "stream",
     "text": [
      "54\n"
     ]
    },
    {
     "name": "stderr",
     "output_type": "stream",
     "text": [
      "/glade/derecho/scratch/jhayron/tmp/ipykernel_88395/2740791710.py:56: UserWarning: Boolean Series key will be reindexed to match DataFrame index.\n",
      "  freq_pt_past = 100*len(df_temp.loc['1994':'2023'][df_temp['WR']==1])/len(df_temp.loc['1994':'2023'])\n",
      "/glade/derecho/scratch/jhayron/tmp/ipykernel_88395/2740791710.py:57: UserWarning: Boolean Series key will be reindexed to match DataFrame index.\n",
      "  freq_pt_present = 100*len(df_temp.loc['2071':'2100'][df_temp['WR']==1])/len(df_temp.loc['2071':'2100'])\n"
     ]
    },
    {
     "name": "stdout",
     "output_type": "stream",
     "text": [
      "55\n"
     ]
    },
    {
     "name": "stderr",
     "output_type": "stream",
     "text": [
      "/glade/derecho/scratch/jhayron/tmp/ipykernel_88395/2740791710.py:56: UserWarning: Boolean Series key will be reindexed to match DataFrame index.\n",
      "  freq_pt_past = 100*len(df_temp.loc['1994':'2023'][df_temp['WR']==1])/len(df_temp.loc['1994':'2023'])\n",
      "/glade/derecho/scratch/jhayron/tmp/ipykernel_88395/2740791710.py:57: UserWarning: Boolean Series key will be reindexed to match DataFrame index.\n",
      "  freq_pt_present = 100*len(df_temp.loc['2071':'2100'][df_temp['WR']==1])/len(df_temp.loc['2071':'2100'])\n"
     ]
    },
    {
     "name": "stdout",
     "output_type": "stream",
     "text": [
      "56\n"
     ]
    },
    {
     "name": "stderr",
     "output_type": "stream",
     "text": [
      "/glade/derecho/scratch/jhayron/tmp/ipykernel_88395/2740791710.py:56: UserWarning: Boolean Series key will be reindexed to match DataFrame index.\n",
      "  freq_pt_past = 100*len(df_temp.loc['1994':'2023'][df_temp['WR']==1])/len(df_temp.loc['1994':'2023'])\n",
      "/glade/derecho/scratch/jhayron/tmp/ipykernel_88395/2740791710.py:57: UserWarning: Boolean Series key will be reindexed to match DataFrame index.\n",
      "  freq_pt_present = 100*len(df_temp.loc['2071':'2100'][df_temp['WR']==1])/len(df_temp.loc['2071':'2100'])\n"
     ]
    },
    {
     "name": "stdout",
     "output_type": "stream",
     "text": [
      "57\n"
     ]
    },
    {
     "name": "stderr",
     "output_type": "stream",
     "text": [
      "/glade/derecho/scratch/jhayron/tmp/ipykernel_88395/2740791710.py:56: UserWarning: Boolean Series key will be reindexed to match DataFrame index.\n",
      "  freq_pt_past = 100*len(df_temp.loc['1994':'2023'][df_temp['WR']==1])/len(df_temp.loc['1994':'2023'])\n",
      "/glade/derecho/scratch/jhayron/tmp/ipykernel_88395/2740791710.py:57: UserWarning: Boolean Series key will be reindexed to match DataFrame index.\n",
      "  freq_pt_present = 100*len(df_temp.loc['2071':'2100'][df_temp['WR']==1])/len(df_temp.loc['2071':'2100'])\n"
     ]
    },
    {
     "name": "stdout",
     "output_type": "stream",
     "text": [
      "58\n"
     ]
    },
    {
     "name": "stderr",
     "output_type": "stream",
     "text": [
      "/glade/derecho/scratch/jhayron/tmp/ipykernel_88395/2740791710.py:56: UserWarning: Boolean Series key will be reindexed to match DataFrame index.\n",
      "  freq_pt_past = 100*len(df_temp.loc['1994':'2023'][df_temp['WR']==1])/len(df_temp.loc['1994':'2023'])\n",
      "/glade/derecho/scratch/jhayron/tmp/ipykernel_88395/2740791710.py:57: UserWarning: Boolean Series key will be reindexed to match DataFrame index.\n",
      "  freq_pt_present = 100*len(df_temp.loc['2071':'2100'][df_temp['WR']==1])/len(df_temp.loc['2071':'2100'])\n"
     ]
    },
    {
     "name": "stdout",
     "output_type": "stream",
     "text": [
      "59\n"
     ]
    },
    {
     "name": "stderr",
     "output_type": "stream",
     "text": [
      "/glade/derecho/scratch/jhayron/tmp/ipykernel_88395/2740791710.py:56: UserWarning: Boolean Series key will be reindexed to match DataFrame index.\n",
      "  freq_pt_past = 100*len(df_temp.loc['1994':'2023'][df_temp['WR']==1])/len(df_temp.loc['1994':'2023'])\n",
      "/glade/derecho/scratch/jhayron/tmp/ipykernel_88395/2740791710.py:57: UserWarning: Boolean Series key will be reindexed to match DataFrame index.\n",
      "  freq_pt_present = 100*len(df_temp.loc['2071':'2100'][df_temp['WR']==1])/len(df_temp.loc['2071':'2100'])\n"
     ]
    },
    {
     "name": "stdout",
     "output_type": "stream",
     "text": [
      "60\n"
     ]
    },
    {
     "name": "stderr",
     "output_type": "stream",
     "text": [
      "/glade/derecho/scratch/jhayron/tmp/ipykernel_88395/2740791710.py:56: UserWarning: Boolean Series key will be reindexed to match DataFrame index.\n",
      "  freq_pt_past = 100*len(df_temp.loc['1994':'2023'][df_temp['WR']==1])/len(df_temp.loc['1994':'2023'])\n",
      "/glade/derecho/scratch/jhayron/tmp/ipykernel_88395/2740791710.py:57: UserWarning: Boolean Series key will be reindexed to match DataFrame index.\n",
      "  freq_pt_present = 100*len(df_temp.loc['2071':'2100'][df_temp['WR']==1])/len(df_temp.loc['2071':'2100'])\n"
     ]
    },
    {
     "name": "stdout",
     "output_type": "stream",
     "text": [
      "61\n"
     ]
    },
    {
     "name": "stderr",
     "output_type": "stream",
     "text": [
      "/glade/derecho/scratch/jhayron/tmp/ipykernel_88395/2740791710.py:56: UserWarning: Boolean Series key will be reindexed to match DataFrame index.\n",
      "  freq_pt_past = 100*len(df_temp.loc['1994':'2023'][df_temp['WR']==1])/len(df_temp.loc['1994':'2023'])\n",
      "/glade/derecho/scratch/jhayron/tmp/ipykernel_88395/2740791710.py:57: UserWarning: Boolean Series key will be reindexed to match DataFrame index.\n",
      "  freq_pt_present = 100*len(df_temp.loc['2071':'2100'][df_temp['WR']==1])/len(df_temp.loc['2071':'2100'])\n"
     ]
    },
    {
     "name": "stdout",
     "output_type": "stream",
     "text": [
      "62\n"
     ]
    },
    {
     "name": "stderr",
     "output_type": "stream",
     "text": [
      "/glade/derecho/scratch/jhayron/tmp/ipykernel_88395/2740791710.py:56: UserWarning: Boolean Series key will be reindexed to match DataFrame index.\n",
      "  freq_pt_past = 100*len(df_temp.loc['1994':'2023'][df_temp['WR']==1])/len(df_temp.loc['1994':'2023'])\n",
      "/glade/derecho/scratch/jhayron/tmp/ipykernel_88395/2740791710.py:57: UserWarning: Boolean Series key will be reindexed to match DataFrame index.\n",
      "  freq_pt_present = 100*len(df_temp.loc['2071':'2100'][df_temp['WR']==1])/len(df_temp.loc['2071':'2100'])\n"
     ]
    },
    {
     "name": "stdout",
     "output_type": "stream",
     "text": [
      "63\n"
     ]
    },
    {
     "name": "stderr",
     "output_type": "stream",
     "text": [
      "/glade/derecho/scratch/jhayron/tmp/ipykernel_88395/2740791710.py:56: UserWarning: Boolean Series key will be reindexed to match DataFrame index.\n",
      "  freq_pt_past = 100*len(df_temp.loc['1994':'2023'][df_temp['WR']==1])/len(df_temp.loc['1994':'2023'])\n",
      "/glade/derecho/scratch/jhayron/tmp/ipykernel_88395/2740791710.py:57: UserWarning: Boolean Series key will be reindexed to match DataFrame index.\n",
      "  freq_pt_present = 100*len(df_temp.loc['2071':'2100'][df_temp['WR']==1])/len(df_temp.loc['2071':'2100'])\n"
     ]
    },
    {
     "name": "stdout",
     "output_type": "stream",
     "text": [
      "64\n"
     ]
    },
    {
     "name": "stderr",
     "output_type": "stream",
     "text": [
      "/glade/derecho/scratch/jhayron/tmp/ipykernel_88395/2740791710.py:56: UserWarning: Boolean Series key will be reindexed to match DataFrame index.\n",
      "  freq_pt_past = 100*len(df_temp.loc['1994':'2023'][df_temp['WR']==1])/len(df_temp.loc['1994':'2023'])\n",
      "/glade/derecho/scratch/jhayron/tmp/ipykernel_88395/2740791710.py:57: UserWarning: Boolean Series key will be reindexed to match DataFrame index.\n",
      "  freq_pt_present = 100*len(df_temp.loc['2071':'2100'][df_temp['WR']==1])/len(df_temp.loc['2071':'2100'])\n"
     ]
    },
    {
     "name": "stdout",
     "output_type": "stream",
     "text": [
      "65\n"
     ]
    },
    {
     "name": "stderr",
     "output_type": "stream",
     "text": [
      "/glade/derecho/scratch/jhayron/tmp/ipykernel_88395/2740791710.py:56: UserWarning: Boolean Series key will be reindexed to match DataFrame index.\n",
      "  freq_pt_past = 100*len(df_temp.loc['1994':'2023'][df_temp['WR']==1])/len(df_temp.loc['1994':'2023'])\n",
      "/glade/derecho/scratch/jhayron/tmp/ipykernel_88395/2740791710.py:57: UserWarning: Boolean Series key will be reindexed to match DataFrame index.\n",
      "  freq_pt_present = 100*len(df_temp.loc['2071':'2100'][df_temp['WR']==1])/len(df_temp.loc['2071':'2100'])\n"
     ]
    },
    {
     "name": "stdout",
     "output_type": "stream",
     "text": [
      "66\n"
     ]
    },
    {
     "name": "stderr",
     "output_type": "stream",
     "text": [
      "/glade/derecho/scratch/jhayron/tmp/ipykernel_88395/2740791710.py:56: UserWarning: Boolean Series key will be reindexed to match DataFrame index.\n",
      "  freq_pt_past = 100*len(df_temp.loc['1994':'2023'][df_temp['WR']==1])/len(df_temp.loc['1994':'2023'])\n",
      "/glade/derecho/scratch/jhayron/tmp/ipykernel_88395/2740791710.py:57: UserWarning: Boolean Series key will be reindexed to match DataFrame index.\n",
      "  freq_pt_present = 100*len(df_temp.loc['2071':'2100'][df_temp['WR']==1])/len(df_temp.loc['2071':'2100'])\n"
     ]
    },
    {
     "name": "stdout",
     "output_type": "stream",
     "text": [
      "67\n"
     ]
    },
    {
     "name": "stderr",
     "output_type": "stream",
     "text": [
      "/glade/derecho/scratch/jhayron/tmp/ipykernel_88395/2740791710.py:56: UserWarning: Boolean Series key will be reindexed to match DataFrame index.\n",
      "  freq_pt_past = 100*len(df_temp.loc['1994':'2023'][df_temp['WR']==1])/len(df_temp.loc['1994':'2023'])\n",
      "/glade/derecho/scratch/jhayron/tmp/ipykernel_88395/2740791710.py:57: UserWarning: Boolean Series key will be reindexed to match DataFrame index.\n",
      "  freq_pt_present = 100*len(df_temp.loc['2071':'2100'][df_temp['WR']==1])/len(df_temp.loc['2071':'2100'])\n"
     ]
    },
    {
     "name": "stdout",
     "output_type": "stream",
     "text": [
      "68\n"
     ]
    },
    {
     "name": "stderr",
     "output_type": "stream",
     "text": [
      "/glade/derecho/scratch/jhayron/tmp/ipykernel_88395/2740791710.py:56: UserWarning: Boolean Series key will be reindexed to match DataFrame index.\n",
      "  freq_pt_past = 100*len(df_temp.loc['1994':'2023'][df_temp['WR']==1])/len(df_temp.loc['1994':'2023'])\n",
      "/glade/derecho/scratch/jhayron/tmp/ipykernel_88395/2740791710.py:57: UserWarning: Boolean Series key will be reindexed to match DataFrame index.\n",
      "  freq_pt_present = 100*len(df_temp.loc['2071':'2100'][df_temp['WR']==1])/len(df_temp.loc['2071':'2100'])\n"
     ]
    },
    {
     "name": "stdout",
     "output_type": "stream",
     "text": [
      "69\n"
     ]
    },
    {
     "name": "stderr",
     "output_type": "stream",
     "text": [
      "/glade/derecho/scratch/jhayron/tmp/ipykernel_88395/2740791710.py:56: UserWarning: Boolean Series key will be reindexed to match DataFrame index.\n",
      "  freq_pt_past = 100*len(df_temp.loc['1994':'2023'][df_temp['WR']==1])/len(df_temp.loc['1994':'2023'])\n",
      "/glade/derecho/scratch/jhayron/tmp/ipykernel_88395/2740791710.py:57: UserWarning: Boolean Series key will be reindexed to match DataFrame index.\n",
      "  freq_pt_present = 100*len(df_temp.loc['2071':'2100'][df_temp['WR']==1])/len(df_temp.loc['2071':'2100'])\n"
     ]
    },
    {
     "name": "stdout",
     "output_type": "stream",
     "text": [
      "70\n"
     ]
    },
    {
     "name": "stderr",
     "output_type": "stream",
     "text": [
      "/glade/derecho/scratch/jhayron/tmp/ipykernel_88395/2740791710.py:56: UserWarning: Boolean Series key will be reindexed to match DataFrame index.\n",
      "  freq_pt_past = 100*len(df_temp.loc['1994':'2023'][df_temp['WR']==1])/len(df_temp.loc['1994':'2023'])\n",
      "/glade/derecho/scratch/jhayron/tmp/ipykernel_88395/2740791710.py:57: UserWarning: Boolean Series key will be reindexed to match DataFrame index.\n",
      "  freq_pt_present = 100*len(df_temp.loc['2071':'2100'][df_temp['WR']==1])/len(df_temp.loc['2071':'2100'])\n"
     ]
    },
    {
     "name": "stdout",
     "output_type": "stream",
     "text": [
      "71\n"
     ]
    },
    {
     "name": "stderr",
     "output_type": "stream",
     "text": [
      "/glade/derecho/scratch/jhayron/tmp/ipykernel_88395/2740791710.py:56: UserWarning: Boolean Series key will be reindexed to match DataFrame index.\n",
      "  freq_pt_past = 100*len(df_temp.loc['1994':'2023'][df_temp['WR']==1])/len(df_temp.loc['1994':'2023'])\n",
      "/glade/derecho/scratch/jhayron/tmp/ipykernel_88395/2740791710.py:57: UserWarning: Boolean Series key will be reindexed to match DataFrame index.\n",
      "  freq_pt_present = 100*len(df_temp.loc['2071':'2100'][df_temp['WR']==1])/len(df_temp.loc['2071':'2100'])\n"
     ]
    },
    {
     "name": "stdout",
     "output_type": "stream",
     "text": [
      "72\n"
     ]
    },
    {
     "name": "stderr",
     "output_type": "stream",
     "text": [
      "/glade/derecho/scratch/jhayron/tmp/ipykernel_88395/2740791710.py:56: UserWarning: Boolean Series key will be reindexed to match DataFrame index.\n",
      "  freq_pt_past = 100*len(df_temp.loc['1994':'2023'][df_temp['WR']==1])/len(df_temp.loc['1994':'2023'])\n",
      "/glade/derecho/scratch/jhayron/tmp/ipykernel_88395/2740791710.py:57: UserWarning: Boolean Series key will be reindexed to match DataFrame index.\n",
      "  freq_pt_present = 100*len(df_temp.loc['2071':'2100'][df_temp['WR']==1])/len(df_temp.loc['2071':'2100'])\n"
     ]
    },
    {
     "name": "stdout",
     "output_type": "stream",
     "text": [
      "73\n"
     ]
    },
    {
     "name": "stderr",
     "output_type": "stream",
     "text": [
      "/glade/derecho/scratch/jhayron/tmp/ipykernel_88395/2740791710.py:56: UserWarning: Boolean Series key will be reindexed to match DataFrame index.\n",
      "  freq_pt_past = 100*len(df_temp.loc['1994':'2023'][df_temp['WR']==1])/len(df_temp.loc['1994':'2023'])\n",
      "/glade/derecho/scratch/jhayron/tmp/ipykernel_88395/2740791710.py:57: UserWarning: Boolean Series key will be reindexed to match DataFrame index.\n",
      "  freq_pt_present = 100*len(df_temp.loc['2071':'2100'][df_temp['WR']==1])/len(df_temp.loc['2071':'2100'])\n"
     ]
    },
    {
     "name": "stdout",
     "output_type": "stream",
     "text": [
      "74\n"
     ]
    },
    {
     "name": "stderr",
     "output_type": "stream",
     "text": [
      "/glade/derecho/scratch/jhayron/tmp/ipykernel_88395/2740791710.py:56: UserWarning: Boolean Series key will be reindexed to match DataFrame index.\n",
      "  freq_pt_past = 100*len(df_temp.loc['1994':'2023'][df_temp['WR']==1])/len(df_temp.loc['1994':'2023'])\n",
      "/glade/derecho/scratch/jhayron/tmp/ipykernel_88395/2740791710.py:57: UserWarning: Boolean Series key will be reindexed to match DataFrame index.\n",
      "  freq_pt_present = 100*len(df_temp.loc['2071':'2100'][df_temp['WR']==1])/len(df_temp.loc['2071':'2100'])\n"
     ]
    },
    {
     "name": "stdout",
     "output_type": "stream",
     "text": [
      "75\n"
     ]
    },
    {
     "name": "stderr",
     "output_type": "stream",
     "text": [
      "/glade/derecho/scratch/jhayron/tmp/ipykernel_88395/2740791710.py:56: UserWarning: Boolean Series key will be reindexed to match DataFrame index.\n",
      "  freq_pt_past = 100*len(df_temp.loc['1994':'2023'][df_temp['WR']==1])/len(df_temp.loc['1994':'2023'])\n",
      "/glade/derecho/scratch/jhayron/tmp/ipykernel_88395/2740791710.py:57: UserWarning: Boolean Series key will be reindexed to match DataFrame index.\n",
      "  freq_pt_present = 100*len(df_temp.loc['2071':'2100'][df_temp['WR']==1])/len(df_temp.loc['2071':'2100'])\n"
     ]
    },
    {
     "name": "stdout",
     "output_type": "stream",
     "text": [
      "76\n"
     ]
    },
    {
     "name": "stderr",
     "output_type": "stream",
     "text": [
      "/glade/derecho/scratch/jhayron/tmp/ipykernel_88395/2740791710.py:56: UserWarning: Boolean Series key will be reindexed to match DataFrame index.\n",
      "  freq_pt_past = 100*len(df_temp.loc['1994':'2023'][df_temp['WR']==1])/len(df_temp.loc['1994':'2023'])\n",
      "/glade/derecho/scratch/jhayron/tmp/ipykernel_88395/2740791710.py:57: UserWarning: Boolean Series key will be reindexed to match DataFrame index.\n",
      "  freq_pt_present = 100*len(df_temp.loc['2071':'2100'][df_temp['WR']==1])/len(df_temp.loc['2071':'2100'])\n"
     ]
    },
    {
     "name": "stdout",
     "output_type": "stream",
     "text": [
      "77\n"
     ]
    },
    {
     "name": "stderr",
     "output_type": "stream",
     "text": [
      "/glade/derecho/scratch/jhayron/tmp/ipykernel_88395/2740791710.py:56: UserWarning: Boolean Series key will be reindexed to match DataFrame index.\n",
      "  freq_pt_past = 100*len(df_temp.loc['1994':'2023'][df_temp['WR']==1])/len(df_temp.loc['1994':'2023'])\n",
      "/glade/derecho/scratch/jhayron/tmp/ipykernel_88395/2740791710.py:57: UserWarning: Boolean Series key will be reindexed to match DataFrame index.\n",
      "  freq_pt_present = 100*len(df_temp.loc['2071':'2100'][df_temp['WR']==1])/len(df_temp.loc['2071':'2100'])\n"
     ]
    },
    {
     "name": "stdout",
     "output_type": "stream",
     "text": [
      "78\n"
     ]
    },
    {
     "name": "stderr",
     "output_type": "stream",
     "text": [
      "/glade/derecho/scratch/jhayron/tmp/ipykernel_88395/2740791710.py:56: UserWarning: Boolean Series key will be reindexed to match DataFrame index.\n",
      "  freq_pt_past = 100*len(df_temp.loc['1994':'2023'][df_temp['WR']==1])/len(df_temp.loc['1994':'2023'])\n",
      "/glade/derecho/scratch/jhayron/tmp/ipykernel_88395/2740791710.py:57: UserWarning: Boolean Series key will be reindexed to match DataFrame index.\n",
      "  freq_pt_present = 100*len(df_temp.loc['2071':'2100'][df_temp['WR']==1])/len(df_temp.loc['2071':'2100'])\n"
     ]
    },
    {
     "name": "stdout",
     "output_type": "stream",
     "text": [
      "79\n"
     ]
    },
    {
     "name": "stderr",
     "output_type": "stream",
     "text": [
      "/glade/derecho/scratch/jhayron/tmp/ipykernel_88395/2740791710.py:56: UserWarning: Boolean Series key will be reindexed to match DataFrame index.\n",
      "  freq_pt_past = 100*len(df_temp.loc['1994':'2023'][df_temp['WR']==1])/len(df_temp.loc['1994':'2023'])\n",
      "/glade/derecho/scratch/jhayron/tmp/ipykernel_88395/2740791710.py:57: UserWarning: Boolean Series key will be reindexed to match DataFrame index.\n",
      "  freq_pt_present = 100*len(df_temp.loc['2071':'2100'][df_temp['WR']==1])/len(df_temp.loc['2071':'2100'])\n"
     ]
    },
    {
     "name": "stdout",
     "output_type": "stream",
     "text": [
      "80\n"
     ]
    },
    {
     "name": "stderr",
     "output_type": "stream",
     "text": [
      "/glade/derecho/scratch/jhayron/tmp/ipykernel_88395/2740791710.py:56: UserWarning: Boolean Series key will be reindexed to match DataFrame index.\n",
      "  freq_pt_past = 100*len(df_temp.loc['1994':'2023'][df_temp['WR']==1])/len(df_temp.loc['1994':'2023'])\n",
      "/glade/derecho/scratch/jhayron/tmp/ipykernel_88395/2740791710.py:57: UserWarning: Boolean Series key will be reindexed to match DataFrame index.\n",
      "  freq_pt_present = 100*len(df_temp.loc['2071':'2100'][df_temp['WR']==1])/len(df_temp.loc['2071':'2100'])\n"
     ]
    },
    {
     "name": "stdout",
     "output_type": "stream",
     "text": [
      "81\n"
     ]
    },
    {
     "name": "stderr",
     "output_type": "stream",
     "text": [
      "/glade/derecho/scratch/jhayron/tmp/ipykernel_88395/2740791710.py:56: UserWarning: Boolean Series key will be reindexed to match DataFrame index.\n",
      "  freq_pt_past = 100*len(df_temp.loc['1994':'2023'][df_temp['WR']==1])/len(df_temp.loc['1994':'2023'])\n",
      "/glade/derecho/scratch/jhayron/tmp/ipykernel_88395/2740791710.py:57: UserWarning: Boolean Series key will be reindexed to match DataFrame index.\n",
      "  freq_pt_present = 100*len(df_temp.loc['2071':'2100'][df_temp['WR']==1])/len(df_temp.loc['2071':'2100'])\n"
     ]
    },
    {
     "name": "stdout",
     "output_type": "stream",
     "text": [
      "82\n"
     ]
    },
    {
     "name": "stderr",
     "output_type": "stream",
     "text": [
      "/glade/derecho/scratch/jhayron/tmp/ipykernel_88395/2740791710.py:56: UserWarning: Boolean Series key will be reindexed to match DataFrame index.\n",
      "  freq_pt_past = 100*len(df_temp.loc['1994':'2023'][df_temp['WR']==1])/len(df_temp.loc['1994':'2023'])\n",
      "/glade/derecho/scratch/jhayron/tmp/ipykernel_88395/2740791710.py:57: UserWarning: Boolean Series key will be reindexed to match DataFrame index.\n",
      "  freq_pt_present = 100*len(df_temp.loc['2071':'2100'][df_temp['WR']==1])/len(df_temp.loc['2071':'2100'])\n"
     ]
    },
    {
     "name": "stdout",
     "output_type": "stream",
     "text": [
      "83\n"
     ]
    },
    {
     "name": "stderr",
     "output_type": "stream",
     "text": [
      "/glade/derecho/scratch/jhayron/tmp/ipykernel_88395/2740791710.py:56: UserWarning: Boolean Series key will be reindexed to match DataFrame index.\n",
      "  freq_pt_past = 100*len(df_temp.loc['1994':'2023'][df_temp['WR']==1])/len(df_temp.loc['1994':'2023'])\n",
      "/glade/derecho/scratch/jhayron/tmp/ipykernel_88395/2740791710.py:57: UserWarning: Boolean Series key will be reindexed to match DataFrame index.\n",
      "  freq_pt_present = 100*len(df_temp.loc['2071':'2100'][df_temp['WR']==1])/len(df_temp.loc['2071':'2100'])\n"
     ]
    },
    {
     "name": "stdout",
     "output_type": "stream",
     "text": [
      "84\n"
     ]
    },
    {
     "name": "stderr",
     "output_type": "stream",
     "text": [
      "/glade/derecho/scratch/jhayron/tmp/ipykernel_88395/2740791710.py:56: UserWarning: Boolean Series key will be reindexed to match DataFrame index.\n",
      "  freq_pt_past = 100*len(df_temp.loc['1994':'2023'][df_temp['WR']==1])/len(df_temp.loc['1994':'2023'])\n",
      "/glade/derecho/scratch/jhayron/tmp/ipykernel_88395/2740791710.py:57: UserWarning: Boolean Series key will be reindexed to match DataFrame index.\n",
      "  freq_pt_present = 100*len(df_temp.loc['2071':'2100'][df_temp['WR']==1])/len(df_temp.loc['2071':'2100'])\n"
     ]
    },
    {
     "name": "stdout",
     "output_type": "stream",
     "text": [
      "85\n"
     ]
    },
    {
     "name": "stderr",
     "output_type": "stream",
     "text": [
      "/glade/derecho/scratch/jhayron/tmp/ipykernel_88395/2740791710.py:56: UserWarning: Boolean Series key will be reindexed to match DataFrame index.\n",
      "  freq_pt_past = 100*len(df_temp.loc['1994':'2023'][df_temp['WR']==1])/len(df_temp.loc['1994':'2023'])\n",
      "/glade/derecho/scratch/jhayron/tmp/ipykernel_88395/2740791710.py:57: UserWarning: Boolean Series key will be reindexed to match DataFrame index.\n",
      "  freq_pt_present = 100*len(df_temp.loc['2071':'2100'][df_temp['WR']==1])/len(df_temp.loc['2071':'2100'])\n"
     ]
    },
    {
     "name": "stdout",
     "output_type": "stream",
     "text": [
      "86\n"
     ]
    },
    {
     "name": "stderr",
     "output_type": "stream",
     "text": [
      "/glade/derecho/scratch/jhayron/tmp/ipykernel_88395/2740791710.py:56: UserWarning: Boolean Series key will be reindexed to match DataFrame index.\n",
      "  freq_pt_past = 100*len(df_temp.loc['1994':'2023'][df_temp['WR']==1])/len(df_temp.loc['1994':'2023'])\n",
      "/glade/derecho/scratch/jhayron/tmp/ipykernel_88395/2740791710.py:57: UserWarning: Boolean Series key will be reindexed to match DataFrame index.\n",
      "  freq_pt_present = 100*len(df_temp.loc['2071':'2100'][df_temp['WR']==1])/len(df_temp.loc['2071':'2100'])\n"
     ]
    },
    {
     "name": "stdout",
     "output_type": "stream",
     "text": [
      "87\n"
     ]
    },
    {
     "name": "stderr",
     "output_type": "stream",
     "text": [
      "/glade/derecho/scratch/jhayron/tmp/ipykernel_88395/2740791710.py:56: UserWarning: Boolean Series key will be reindexed to match DataFrame index.\n",
      "  freq_pt_past = 100*len(df_temp.loc['1994':'2023'][df_temp['WR']==1])/len(df_temp.loc['1994':'2023'])\n",
      "/glade/derecho/scratch/jhayron/tmp/ipykernel_88395/2740791710.py:57: UserWarning: Boolean Series key will be reindexed to match DataFrame index.\n",
      "  freq_pt_present = 100*len(df_temp.loc['2071':'2100'][df_temp['WR']==1])/len(df_temp.loc['2071':'2100'])\n"
     ]
    },
    {
     "name": "stdout",
     "output_type": "stream",
     "text": [
      "88\n"
     ]
    },
    {
     "name": "stderr",
     "output_type": "stream",
     "text": [
      "/glade/derecho/scratch/jhayron/tmp/ipykernel_88395/2740791710.py:56: UserWarning: Boolean Series key will be reindexed to match DataFrame index.\n",
      "  freq_pt_past = 100*len(df_temp.loc['1994':'2023'][df_temp['WR']==1])/len(df_temp.loc['1994':'2023'])\n",
      "/glade/derecho/scratch/jhayron/tmp/ipykernel_88395/2740791710.py:57: UserWarning: Boolean Series key will be reindexed to match DataFrame index.\n",
      "  freq_pt_present = 100*len(df_temp.loc['2071':'2100'][df_temp['WR']==1])/len(df_temp.loc['2071':'2100'])\n"
     ]
    },
    {
     "name": "stdout",
     "output_type": "stream",
     "text": [
      "89\n"
     ]
    },
    {
     "name": "stderr",
     "output_type": "stream",
     "text": [
      "/glade/derecho/scratch/jhayron/tmp/ipykernel_88395/2740791710.py:56: UserWarning: Boolean Series key will be reindexed to match DataFrame index.\n",
      "  freq_pt_past = 100*len(df_temp.loc['1994':'2023'][df_temp['WR']==1])/len(df_temp.loc['1994':'2023'])\n",
      "/glade/derecho/scratch/jhayron/tmp/ipykernel_88395/2740791710.py:57: UserWarning: Boolean Series key will be reindexed to match DataFrame index.\n",
      "  freq_pt_present = 100*len(df_temp.loc['2071':'2100'][df_temp['WR']==1])/len(df_temp.loc['2071':'2100'])\n"
     ]
    },
    {
     "name": "stdout",
     "output_type": "stream",
     "text": [
      "90\n"
     ]
    },
    {
     "name": "stderr",
     "output_type": "stream",
     "text": [
      "/glade/derecho/scratch/jhayron/tmp/ipykernel_88395/2740791710.py:56: UserWarning: Boolean Series key will be reindexed to match DataFrame index.\n",
      "  freq_pt_past = 100*len(df_temp.loc['1994':'2023'][df_temp['WR']==1])/len(df_temp.loc['1994':'2023'])\n",
      "/glade/derecho/scratch/jhayron/tmp/ipykernel_88395/2740791710.py:57: UserWarning: Boolean Series key will be reindexed to match DataFrame index.\n",
      "  freq_pt_present = 100*len(df_temp.loc['2071':'2100'][df_temp['WR']==1])/len(df_temp.loc['2071':'2100'])\n"
     ]
    },
    {
     "name": "stdout",
     "output_type": "stream",
     "text": [
      "91\n"
     ]
    },
    {
     "name": "stderr",
     "output_type": "stream",
     "text": [
      "/glade/derecho/scratch/jhayron/tmp/ipykernel_88395/2740791710.py:56: UserWarning: Boolean Series key will be reindexed to match DataFrame index.\n",
      "  freq_pt_past = 100*len(df_temp.loc['1994':'2023'][df_temp['WR']==1])/len(df_temp.loc['1994':'2023'])\n",
      "/glade/derecho/scratch/jhayron/tmp/ipykernel_88395/2740791710.py:57: UserWarning: Boolean Series key will be reindexed to match DataFrame index.\n",
      "  freq_pt_present = 100*len(df_temp.loc['2071':'2100'][df_temp['WR']==1])/len(df_temp.loc['2071':'2100'])\n"
     ]
    },
    {
     "name": "stdout",
     "output_type": "stream",
     "text": [
      "92\n"
     ]
    },
    {
     "name": "stderr",
     "output_type": "stream",
     "text": [
      "/glade/derecho/scratch/jhayron/tmp/ipykernel_88395/2740791710.py:56: UserWarning: Boolean Series key will be reindexed to match DataFrame index.\n",
      "  freq_pt_past = 100*len(df_temp.loc['1994':'2023'][df_temp['WR']==1])/len(df_temp.loc['1994':'2023'])\n",
      "/glade/derecho/scratch/jhayron/tmp/ipykernel_88395/2740791710.py:57: UserWarning: Boolean Series key will be reindexed to match DataFrame index.\n",
      "  freq_pt_present = 100*len(df_temp.loc['2071':'2100'][df_temp['WR']==1])/len(df_temp.loc['2071':'2100'])\n"
     ]
    },
    {
     "name": "stdout",
     "output_type": "stream",
     "text": [
      "93\n"
     ]
    },
    {
     "name": "stderr",
     "output_type": "stream",
     "text": [
      "/glade/derecho/scratch/jhayron/tmp/ipykernel_88395/2740791710.py:56: UserWarning: Boolean Series key will be reindexed to match DataFrame index.\n",
      "  freq_pt_past = 100*len(df_temp.loc['1994':'2023'][df_temp['WR']==1])/len(df_temp.loc['1994':'2023'])\n",
      "/glade/derecho/scratch/jhayron/tmp/ipykernel_88395/2740791710.py:57: UserWarning: Boolean Series key will be reindexed to match DataFrame index.\n",
      "  freq_pt_present = 100*len(df_temp.loc['2071':'2100'][df_temp['WR']==1])/len(df_temp.loc['2071':'2100'])\n"
     ]
    },
    {
     "name": "stdout",
     "output_type": "stream",
     "text": [
      "94\n"
     ]
    },
    {
     "name": "stderr",
     "output_type": "stream",
     "text": [
      "/glade/derecho/scratch/jhayron/tmp/ipykernel_88395/2740791710.py:56: UserWarning: Boolean Series key will be reindexed to match DataFrame index.\n",
      "  freq_pt_past = 100*len(df_temp.loc['1994':'2023'][df_temp['WR']==1])/len(df_temp.loc['1994':'2023'])\n",
      "/glade/derecho/scratch/jhayron/tmp/ipykernel_88395/2740791710.py:57: UserWarning: Boolean Series key will be reindexed to match DataFrame index.\n",
      "  freq_pt_present = 100*len(df_temp.loc['2071':'2100'][df_temp['WR']==1])/len(df_temp.loc['2071':'2100'])\n"
     ]
    },
    {
     "name": "stdout",
     "output_type": "stream",
     "text": [
      "95\n"
     ]
    },
    {
     "name": "stderr",
     "output_type": "stream",
     "text": [
      "/glade/derecho/scratch/jhayron/tmp/ipykernel_88395/2740791710.py:56: UserWarning: Boolean Series key will be reindexed to match DataFrame index.\n",
      "  freq_pt_past = 100*len(df_temp.loc['1994':'2023'][df_temp['WR']==1])/len(df_temp.loc['1994':'2023'])\n",
      "/glade/derecho/scratch/jhayron/tmp/ipykernel_88395/2740791710.py:57: UserWarning: Boolean Series key will be reindexed to match DataFrame index.\n",
      "  freq_pt_present = 100*len(df_temp.loc['2071':'2100'][df_temp['WR']==1])/len(df_temp.loc['2071':'2100'])\n"
     ]
    },
    {
     "name": "stdout",
     "output_type": "stream",
     "text": [
      "96\n"
     ]
    },
    {
     "name": "stderr",
     "output_type": "stream",
     "text": [
      "/glade/derecho/scratch/jhayron/tmp/ipykernel_88395/2740791710.py:56: UserWarning: Boolean Series key will be reindexed to match DataFrame index.\n",
      "  freq_pt_past = 100*len(df_temp.loc['1994':'2023'][df_temp['WR']==1])/len(df_temp.loc['1994':'2023'])\n",
      "/glade/derecho/scratch/jhayron/tmp/ipykernel_88395/2740791710.py:57: UserWarning: Boolean Series key will be reindexed to match DataFrame index.\n",
      "  freq_pt_present = 100*len(df_temp.loc['2071':'2100'][df_temp['WR']==1])/len(df_temp.loc['2071':'2100'])\n"
     ]
    },
    {
     "name": "stdout",
     "output_type": "stream",
     "text": [
      "97\n"
     ]
    },
    {
     "name": "stderr",
     "output_type": "stream",
     "text": [
      "/glade/derecho/scratch/jhayron/tmp/ipykernel_88395/2740791710.py:56: UserWarning: Boolean Series key will be reindexed to match DataFrame index.\n",
      "  freq_pt_past = 100*len(df_temp.loc['1994':'2023'][df_temp['WR']==1])/len(df_temp.loc['1994':'2023'])\n",
      "/glade/derecho/scratch/jhayron/tmp/ipykernel_88395/2740791710.py:57: UserWarning: Boolean Series key will be reindexed to match DataFrame index.\n",
      "  freq_pt_present = 100*len(df_temp.loc['2071':'2100'][df_temp['WR']==1])/len(df_temp.loc['2071':'2100'])\n"
     ]
    },
    {
     "name": "stdout",
     "output_type": "stream",
     "text": [
      "98\n"
     ]
    },
    {
     "name": "stderr",
     "output_type": "stream",
     "text": [
      "/glade/derecho/scratch/jhayron/tmp/ipykernel_88395/2740791710.py:56: UserWarning: Boolean Series key will be reindexed to match DataFrame index.\n",
      "  freq_pt_past = 100*len(df_temp.loc['1994':'2023'][df_temp['WR']==1])/len(df_temp.loc['1994':'2023'])\n",
      "/glade/derecho/scratch/jhayron/tmp/ipykernel_88395/2740791710.py:57: UserWarning: Boolean Series key will be reindexed to match DataFrame index.\n",
      "  freq_pt_present = 100*len(df_temp.loc['2071':'2100'][df_temp['WR']==1])/len(df_temp.loc['2071':'2100'])\n"
     ]
    },
    {
     "name": "stdout",
     "output_type": "stream",
     "text": [
      "99\n"
     ]
    },
    {
     "name": "stderr",
     "output_type": "stream",
     "text": [
      "/glade/derecho/scratch/jhayron/tmp/ipykernel_88395/2740791710.py:56: UserWarning: Boolean Series key will be reindexed to match DataFrame index.\n",
      "  freq_pt_past = 100*len(df_temp.loc['1994':'2023'][df_temp['WR']==1])/len(df_temp.loc['1994':'2023'])\n",
      "/glade/derecho/scratch/jhayron/tmp/ipykernel_88395/2740791710.py:57: UserWarning: Boolean Series key will be reindexed to match DataFrame index.\n",
      "  freq_pt_present = 100*len(df_temp.loc['2071':'2100'][df_temp['WR']==1])/len(df_temp.loc['2071':'2100'])\n"
     ]
    }
   ],
   "source": [
    "full_ds_extremes = []\n",
    "varname = 'start_durations'\n",
    "\n",
    "for filei in range(len(names_exps)):\n",
    "    print(filei)\n",
    "    higherthanp90_temp = xr.open_dataset(filenames[filei])\n",
    "    name_exp_temp = names_exps[filei]\n",
    "    \n",
    "    # Assuming 'MaxTemp' is your xarray.DataArray\n",
    "    durations = find_start_durations(higherthanp90_temp.TREFHTMX.values)\n",
    "    \n",
    "    durations[durations<6] = 0\n",
    "    durations[durations>=6] = 1\n",
    "    \n",
    "    durations_da = xr.DataArray(\n",
    "        durations,\n",
    "        coords=higherthanp90_temp.coords,\n",
    "        dims=higherthanp90_temp.dims,\n",
    "        name='start_durations'\n",
    "    )\n",
    "    durations_da.to_netcdf(f'{path_spells}ws_{name_exp_temp}.nc')\n",
    "    \n",
    "    temp_temp = durations_da.sel(time=slice('1994','2023'))\n",
    "    composite_past = temp_temp.sum('time')/30\n",
    "    temp_temp = durations_da.sel(time=slice('2071','2100'))\n",
    "    composite_present = temp_temp.sum('time')/30\n",
    "    Np = composite_past\n",
    "    Nf = composite_present\n",
    "\n",
    "    ### For PT days ###\n",
    "\n",
    "    df_temp = dic_labels_lens2[name_exp_temp]['1994':'2023']\n",
    "    temp_temp = durations_da.sel(time=df_temp[df_temp['WR']==1].index)\n",
    "    composite_past = temp_temp.sum('time')/30\n",
    "\n",
    "    df_temp = dic_labels_lens2[name_exp_temp]['2071':'2100']\n",
    "    temp_temp = durations_da.sel(time=df_temp[df_temp['WR']==1].index)\n",
    "    composite_present = temp_temp.sum('time')/30\n",
    "    Np_forPT = composite_past\n",
    "    Nf_forPT = composite_present\n",
    "\n",
    "    ### For non PT days ###\n",
    "\n",
    "    df_temp = dic_labels_lens2[name_exp_temp]['1994':'2023']\n",
    "    temp_temp = durations_da.sel(time=df_temp[df_temp['WR']!=1].index)\n",
    "    composite_past = temp_temp.sum('time')/30\n",
    "\n",
    "    df_temp = dic_labels_lens2[name_exp_temp]['2071':'2100']\n",
    "    temp_temp = durations_da.sel(time=df_temp[df_temp['WR']!=1].index)\n",
    "    composite_present = temp_temp.sum('time')/30\n",
    "    Np_nonPT = composite_past\n",
    "    Nf_nonPT = composite_present\n",
    "\n",
    "    ### Calculations ###\n",
    "    df_temp = dic_labels_lens2[name_exp_temp]\n",
    "    freq_pt_past = 100*len(df_temp.loc['1994':'2023'][df_temp['WR']==1])/len(df_temp.loc['1994':'2023'])\n",
    "    freq_pt_present = 100*len(df_temp.loc['2071':'2100'][df_temp['WR']==1])/len(df_temp.loc['2071':'2100'])\n",
    "    \n",
    "    N_days_PT_past = freq_pt_past*180/100\n",
    "    N_days_PT_present = freq_pt_present*180/100\n",
    "    \n",
    "    N_days_other_past = 180-N_days_PT_past\n",
    "    N_days_other_present = 180-N_days_PT_present\n",
    "    \n",
    "    # compute fractions\n",
    "    fPT_p = Np_forPT/N_days_PT_past\n",
    "    fPT_f = Nf_forPT/N_days_PT_present\n",
    "    \n",
    "    fo_p = Np_nonPT/N_days_other_past\n",
    "    fo_f = Nf_nonPT/N_days_other_present\n",
    "    \n",
    "    delta_f_PT = fPT_f - fPT_p\n",
    "    delta_N_PT = N_days_PT_present - N_days_PT_past\n",
    "    delta_Nh_PT = Nf_forPT - Np_forPT \n",
    "    \n",
    "    delta_f_o = fo_f-fo_p\n",
    "    \n",
    "    delta_f_prime_PT = delta_f_PT - delta_f_o\n",
    "    \n",
    "    # Term 1 - effect of overall w-s increase in events for the past frequency\n",
    "    a1 = N_days_PT_past * delta_f_o\n",
    "    \n",
    "    # Term 2 - effect of increase in events per day exclusive for the PT (apart from the mean)\n",
    "    a2 = delta_f_o * delta_N_PT\n",
    "    \n",
    "    # Term 3 - linear effect of increase in frequency\n",
    "    a3 = delta_N_PT * fo_p\n",
    "    \n",
    "    # Term 4 - linear effect of increase in frequency\n",
    "    a4 = delta_N_PT * (fPT_p-fo_p)\n",
    "    \n",
    "    # Term 5 - effect of increase in events per day exclusive for the PT (apart from the mean)\n",
    "    a5 = N_days_PT_past * delta_f_prime_PT\n",
    "    \n",
    "    # Term 6 - nonlinear effect of increase in PT frequency and increase in extremes per day \n",
    "    # apart from the overall increase (exclusive for the PT)\n",
    "    a6 = delta_f_prime_PT * delta_N_PT\n",
    "\n",
    "    ### w-s total changes ###\n",
    "    B_PT = fPT_f * N_days_PT_present - fPT_p * N_days_PT_past\n",
    "    B_nonPT = fo_f * N_days_other_present - fo_p * N_days_other_past\n",
    "\n",
    "    dic_extremes_decomposition = {'a1':a1,\n",
    "        'a2':a2,\n",
    "        'a3':a3,\n",
    "        'a4':a4,\n",
    "        'a5':a5,\n",
    "        'a6':a6,\n",
    "        'b_PT':B_PT,\n",
    "        'b_nonPT':B_nonPT,\n",
    "        'Np':Np,\n",
    "        'Nf':Nf,\n",
    "        'delta_f_o': delta_f_o,\n",
    "        'delta_f_PT': delta_f_PT}\n",
    "    ds_extremes_decomposition = xr.Dataset(dic_extremes_decomposition)\n",
    "    full_ds_extremes.append(ds_extremes_decomposition)"
   ]
  },
  {
   "cell_type": "code",
   "execution_count": 23,
   "id": "511c298a-c967-49fe-be66-cb67934190be",
   "metadata": {},
   "outputs": [],
   "source": [
    "full_ds_extremes = xr.concat(full_ds_extremes,dim='exp')"
   ]
  },
  {
   "cell_type": "code",
   "execution_count": 24,
   "id": "a5c929fb-af42-49bf-b6b9-07c0e093e55e",
   "metadata": {},
   "outputs": [],
   "source": [
    "full_ds_extremes.to_netcdf('diffs_models_extremes_v2/diffs_lens_ws.nc')"
   ]
  },
  {
   "cell_type": "code",
   "execution_count": null,
   "id": "bce65ad3-efba-44cf-b13f-3e384834d676",
   "metadata": {},
   "outputs": [],
   "source": []
  },
  {
   "cell_type": "code",
   "execution_count": null,
   "id": "91e6699b-ee4d-48e6-8e6c-449ad4fe4955",
   "metadata": {},
   "outputs": [],
   "source": []
  },
  {
   "cell_type": "code",
   "execution_count": null,
   "id": "e1db0408-81dc-4e72-89a7-8c7b474e610d",
   "metadata": {},
   "outputs": [],
   "source": []
  },
  {
   "cell_type": "code",
   "execution_count": null,
   "id": "75462fb5-b9e0-4371-9939-62eda08b84d4",
   "metadata": {},
   "outputs": [],
   "source": []
  }
 ],
 "metadata": {
  "kernelspec": {
   "display_name": "Python [conda env:weather_regimes]",
   "language": "python",
   "name": "conda-env-weather_regimes-py"
  },
  "language_info": {
   "codemirror_mode": {
    "name": "ipython",
    "version": 3
   },
   "file_extension": ".py",
   "mimetype": "text/x-python",
   "name": "python",
   "nbconvert_exporter": "python",
   "pygments_lexer": "ipython3",
   "version": "3.9.13"
  }
 },
 "nbformat": 4,
 "nbformat_minor": 5
}
