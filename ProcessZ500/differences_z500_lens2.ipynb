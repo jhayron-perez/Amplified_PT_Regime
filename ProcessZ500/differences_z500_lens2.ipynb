{
 "cells": [
  {
   "cell_type": "code",
   "execution_count": 2,
   "id": "7f3861e0-30d6-4c5a-811b-4b131a8319a7",
   "metadata": {},
   "outputs": [],
   "source": [
    "import numpy as np\n",
    "import pandas as pd\n",
    "import xarray as xr\n",
    "import glob\n",
    "from matplotlib import pyplot as plt\n",
    "from numpy.polynomial import polynomial\n",
    "from sklearn.linear_model import LinearRegression\n",
    "import copy"
   ]
  },
  {
   "cell_type": "code",
   "execution_count": 3,
   "id": "74375fbd-a309-40cc-961b-c21c388ed5b2",
   "metadata": {},
   "outputs": [],
   "source": [
    "def extract_region(data_array, regioncoords):\n",
    "    \"\"\"\n",
    "    Extract a region from a DataArray with longitudes ranging from 0 to 360.\n",
    "    Rearrange the data to have continuous longitudes even if the region wraps around 0 or 360 degrees.\n",
    "    \n",
    "    Parameters:\n",
    "    data_array (xr.DataArray): Input DataArray with coordinates 'lon' (0 to 360) and 'lat'.\n",
    "    min_lon (float): Minimum longitude of the region.\n",
    "    max_lon (float): Maximum longitude of the region.\n",
    "    min_lat (float): Minimum latitude of the region.\n",
    "    max_lat (float): Maximum latitude of the region.\n",
    "    \n",
    "    Returns:\n",
    "    xr.DataArray: Extracted region with continuous coordinates.\n",
    "    \"\"\"\n",
    "    min_lon, max_lon, min_lat, max_lat = regioncoords\n",
    "\n",
    "    # Handle the case where the region crosses the prime meridian or the International Date Line\n",
    "    if min_lon > max_lon:\n",
    "        # Split the region into two parts: one on the left of 0° and one on the right\n",
    "        region1 = data_array.sel(\n",
    "            lon=slice(min_lon, 360), \n",
    "            lat=slice(min_lat, max_lat)\n",
    "        )\n",
    "        region2 = data_array.sel(\n",
    "            lon=slice(0, max_lon), \n",
    "            lat=slice(min_lat, max_lat)\n",
    "        )\n",
    "\n",
    "        # Combine the two parts along the longitude axis\n",
    "        combined_region = xr.concat([region1, region2], dim='lon')\n",
    "\n",
    "    else:\n",
    "        # Directly slice the region\n",
    "        combined_region = data_array.sel(\n",
    "            lon=slice(min_lon, max_lon), \n",
    "            lat=slice(min_lat, max_lat)\n",
    "        )\n",
    "\n",
    "    # # Sort the longitudes to ensure they are in the correct order\n",
    "    # combined_region = combined_region.sortby('lon')\n",
    "\n",
    "    return combined_region"
   ]
  },
  {
   "cell_type": "markdown",
   "id": "1cd28043-579a-413a-8c62-c8a953901a19",
   "metadata": {},
   "source": [
    "# LENS2"
   ]
  },
  {
   "cell_type": "code",
   "execution_count": 4,
   "id": "dfd4bc36-cb1c-4d86-885d-d7420fc874fd",
   "metadata": {},
   "outputs": [],
   "source": [
    "path_lens2_anoms = '/glade/derecho/scratch/jhayron/Data4WRsClimateChange/LENS2_full_Z500_Anoms/'"
   ]
  },
  {
   "cell_type": "code",
   "execution_count": 5,
   "id": "9411a77e-7c93-43e7-bbf9-b9fc687091a0",
   "metadata": {},
   "outputs": [],
   "source": [
    "path_anoms = '/glade/derecho/scratch/jhayron/Data4WRsClimateChange/LENS2_full_Z500_Anoms/'\n",
    "files = np.sort(glob.glob(f'{path_anoms}*'))"
   ]
  },
  {
   "cell_type": "code",
   "execution_count": 19,
   "id": "a3747a39-f29e-4db7-b18f-0b99ad7deae4",
   "metadata": {},
   "outputs": [],
   "source": [
    "diffs = []\n",
    "for id_exp in range(len(files)):\n",
    "    anoms = xr.open_dataset(files[id_exp])\n",
    "    # anoms = anoms\n",
    "    region = [180, 330, 20, 80]\n",
    "    data_region = extract_region(anoms, region).sel(time=slice(None, '2100-12-31'))\n",
    "    data_region = data_region.sel(time=data_region['time'].dt.month.isin([12, 1, 2, 3, 4, 5]))\n",
    "    \n",
    "    composite_future = data_region.sel(time=slice('2071-01-01','2100-12-31')).mean('time')\n",
    "    composite_present = data_region.sel(time=slice('1994-01-01','2023-12-31')).mean('time')\n",
    "    \n",
    "    diff = composite_future-composite_present\n",
    "    diffs.append(diff)"
   ]
  },
  {
   "cell_type": "code",
   "execution_count": 20,
   "id": "68140a23-f882-4da7-9223-b7872eea1037",
   "metadata": {},
   "outputs": [],
   "source": [
    "diffs = xr.concat(diffs,dim='exp')"
   ]
  },
  {
   "cell_type": "code",
   "execution_count": 30,
   "id": "a07f0562-6b4a-46de-9090-9b3508ccea3c",
   "metadata": {},
   "outputs": [],
   "source": [
    "mean_diff = diffs.mean('exp')\n",
    "std_diff = diffs.std('exp')"
   ]
  },
  {
   "cell_type": "code",
   "execution_count": 32,
   "id": "dfcc6c97-ec04-4722-812f-02f5a500a206",
   "metadata": {},
   "outputs": [],
   "source": [
    "diffs.to_netcdf('diffs_z500_model/lens2_diffs_z500.nc')"
   ]
  },
  {
   "cell_type": "code",
   "execution_count": 29,
   "id": "52b23b3d-86e7-451b-8fd1-763d6c473e92",
   "metadata": {},
   "outputs": [
    {
     "data": {
      "text/plain": [
       "<matplotlib.collections.QuadMesh at 0x1536ad571340>"
      ]
     },
     "execution_count": 29,
     "metadata": {},
     "output_type": "execute_result"
    },
    {
     "data": {
      "image/png": "[encoded data removed]",
      "text/plain": [
       "<Figure size 640x480 with 1 Axes>"
      ]
     },
     "metadata": {},
     "output_type": "display_data"
    }
   ],
   "source": [
    "plt.pcolormesh(mean_diff.Z_anom.lon,mean_diff.Z_anom.lat,mean_diff.Z_anom,\n",
    "               vmin=-0.5,vmax=0.5,cmap='bwr')"
   ]
  },
  {
   "cell_type": "markdown",
   "id": "59939375-0880-42cd-89be-d656ab061540",
   "metadata": {},
   "source": [
    "# E3SMv2"
   ]
  },
  {
   "cell_type": "code",
   "execution_count": 35,
   "id": "4c80fd97-949d-451d-bf8e-ac2aab509e92",
   "metadata": {},
   "outputs": [],
   "source": [
    "path_e3smv2_anoms = '/glade/derecho/scratch/jhayron/Data4WRsClimateChange/E3SMv2_le_Z500_Anoms/'"
   ]
  },
  {
   "cell_type": "code",
   "execution_count": 36,
   "id": "8d34f8a1-da82-4e5a-bd38-7efc81f80d0c",
   "metadata": {},
   "outputs": [],
   "source": [
    "files = np.sort(glob.glob(f'{path_e3smv2_anoms}*'))"
   ]
  },
  {
   "cell_type": "code",
   "execution_count": 54,
   "id": "ed41b2ab-d071-45d4-8ef0-eed112fc3ea3",
   "metadata": {
    "scrolled": true
   },
   "outputs": [],
   "source": [
    "diffs = []\n",
    "for id_exp in range(len(files)):\n",
    "    anoms = xr.open_dataset(files[id_exp])\n",
    "    # anoms = anoms\n",
    "    region = [180, 330, 20, 80]\n",
    "    data_region = extract_region(anoms, region).sel(time=slice(None, '2100-12-31'))\n",
    "    if pd.to_datetime(data_region.time[-1].values).year==2100:\n",
    "    # print(data_region.time[-1].valuespd.to_datetime(data_region.time[-1].values).year)\n",
    "    # print(data_region.time[0].values)\n",
    "    # print('****')\n",
    "        data_region = data_region.sel(time=data_region['time'].dt.month.isin([12, 1, 2, 3, 4, 5]))\n",
    "        \n",
    "        composite_future = data_region.sel(time=slice('2071-01-01','2100-12-31')).mean('time')\n",
    "        composite_present = data_region.sel(time=slice('1994-01-01','2023-12-31')).mean('time')\n",
    "        \n",
    "        diff = composite_future-composite_present\n",
    "        diffs.append(diff)"
   ]
  },
  {
   "cell_type": "code",
   "execution_count": 55,
   "id": "ecc58709-6f5e-4141-9bc6-6ce648366224",
   "metadata": {},
   "outputs": [
    {
     "data": {
      "text/plain": [
       "16"
      ]
     },
     "execution_count": 55,
     "metadata": {},
     "output_type": "execute_result"
    }
   ],
   "source": [
    "len(diffs)"
   ]
  },
  {
   "cell_type": "code",
   "execution_count": 56,
   "id": "10e8e31d-70b2-4eae-a5f9-fedf2272952c",
   "metadata": {},
   "outputs": [],
   "source": [
    "diffs = xr.concat(diffs,dim='exp')"
   ]
  },
  {
   "cell_type": "code",
   "execution_count": 57,
   "id": "5b148542-47b5-4947-bd95-66ce459bb237",
   "metadata": {},
   "outputs": [],
   "source": [
    "mean_diff = diffs.mean('exp')\n",
    "std_diff = diffs.std('exp')"
   ]
  },
  {
   "cell_type": "code",
   "execution_count": 58,
   "id": "0f45c03e-570b-4a3c-8fc7-bf89b9413fa2",
   "metadata": {},
   "outputs": [],
   "source": [
    "diffs.to_netcdf('diffs_z500_model/e3smv2_diffs_z500.nc')"
   ]
  },
  {
   "cell_type": "code",
   "execution_count": 59,
   "id": "536446d0-629c-4e3d-990f-ba6462f40b6a",
   "metadata": {},
   "outputs": [
    {
     "data": {
      "text/plain": [
       "<matplotlib.collections.QuadMesh at 0x1536abdd4b50>"
      ]
     },
     "execution_count": 59,
     "metadata": {},
     "output_type": "execute_result"
    },
    {
     "data": {
      "image/png": "[encoded data removed]",
      "text/plain": [
       "<Figure size 640x480 with 1 Axes>"
      ]
     },
     "metadata": {},
     "output_type": "display_data"
    }
   ],
   "source": [
    "plt.pcolormesh(mean_diff.Z_anom.lon,mean_diff.Z_anom.lat,mean_diff.Z_anom,\n",
    "               vmin=-0.5,vmax=0.5,cmap='bwr')"
   ]
  },
  {
   "cell_type": "code",
   "execution_count": 60,
   "id": "423c83a9-a78d-4f9d-8885-e5a0fe3f3a8d",
   "metadata": {},
   "outputs": [
    {
     "data": {
      "text/plain": [
       "225"
      ]
     },
     "execution_count": 60,
     "metadata": {},
     "output_type": "execute_result"
    }
   ],
   "source": [
    "-140+365"
   ]
  }
 ],
 "metadata": {
  "kernelspec": {
   "display_name": "Python [conda env:weather_regimes]",
   "language": "python",
   "name": "conda-env-weather_regimes-py"
  },
  "language_info": {
   "codemirror_mode": {
    "name": "ipython",
    "version": 3
   },
   "file_extension": ".py",
   "mimetype": "text/x-python",
   "name": "python",
   "nbconvert_exporter": "python",
   "pygments_lexer": "ipython3",
   "version": "3.9.13"
  }
 },
 "nbformat": 4,
 "nbformat_minor": 5
}
